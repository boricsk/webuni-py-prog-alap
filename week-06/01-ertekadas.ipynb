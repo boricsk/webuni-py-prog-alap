{
 "cells": [
  {
   "cell_type": "markdown",
   "metadata": {},
   "source": [
    "<h3>Értékadás</h3>\n"
   ]
  },
  {
   "cell_type": "code",
   "execution_count": 4,
   "metadata": {},
   "outputs": [
    {
     "name": "stdout",
     "output_type": "stream",
     "text": [
      "3 2\n",
      "3 2\n",
      "3 3 3\n"
     ]
    }
   ],
   "source": [
    "#Többszörös értékadás\n",
    "a = 3\n",
    "b = 2\n",
    "\n",
    "a,b = 3,2\n",
    "\n",
    "#Értékadás elemkettes használatával\n",
    "c = (3,2)\n",
    "d,e = c\n",
    "print(d, e)\n",
    "#Zárójelek nélkül is működik\n",
    "c = 3, 2\n",
    "d, e = c\n",
    "print(d, e)\n",
    "\n",
    "#Lánc értékadás. a kiértékelés jobbró balra történik, tehát a c kapja meg a 3 értéket elősször\n",
    "a = b = c = 3\n",
    "\n",
    "print(a, b, c)"
   ]
  },
  {
   "cell_type": "code",
   "execution_count": 6,
   "metadata": {},
   "outputs": [
    {
     "name": "stdout",
     "output_type": "stream",
     "text": [
      "1\n",
      "[2, 3, 4]\n",
      "2 3 4\n",
      "5\n",
      "1 [2, 3, 4] 5\n",
      "1 2 3 4 5\n"
     ]
    }
   ],
   "source": [
    "# * operátor (packing és unpacking)\n",
    "a, *b, c = 1, 2, 3, 4, 5\n",
    "\n",
    "print(a)\n",
    "print(b)\n",
    "print(*b)\n",
    "print(c)\n",
    "\n",
    "\"\"\"\n",
    "A rendszer a 2, 3, 4 elemekből listát képez és ezt adja értékül.\n",
    "*b vel kiiratva a 3 elemet adja vissza nem a listát, ez az unpacking.\n",
    "\"\"\"\n",
    "\n",
    "a = 1\n",
    "b = [2, 3, 4]\n",
    "c = 5\n",
    "\n",
    "print(a, b, c)\n",
    "print(a, *b, c)"
   ]
  },
  {
   "cell_type": "code",
   "execution_count": 8,
   "metadata": {},
   "outputs": [
    {
     "name": "stdout",
     "output_type": "stream",
     "text": [
      "1 2\n",
      "1 5\n"
     ]
    }
   ],
   "source": [
    "#Értékek elhagyása, itt pl. a *c lenne az utolhó, ha használni szeretnénk, de mivel nem kell a c-t az _ al helyettesítem, ez jelenti azt hogy el kell dobni.\n",
    "a, b, *_ = 1, 2, 3, 4, 5\n",
    "print(a, b)\n",
    "\n",
    "a, *_, b = 1, 2, 3, 4, 5\n",
    "print(a, b)"
   ]
  },
  {
   "cell_type": "code",
   "execution_count": 9,
   "metadata": {},
   "outputs": [
    {
     "name": "stdout",
     "output_type": "stream",
     "text": [
      "(2, 3, 4)\n"
     ]
    }
   ],
   "source": [
    "#Függvényeknek lehet több visszatérési értéke, tuple-ben jön vissza.\n",
    "def fgv():\n",
    "    return 2, 3, 4\n",
    "\n",
    "print(fgv())"
   ]
  },
  {
   "cell_type": "code",
   "execution_count": 13,
   "metadata": {},
   "outputs": [
    {
     "name": "stdout",
     "output_type": "stream",
     "text": [
      "barack hossza 6\n",
      "mandarin hossza 8\n",
      "barack hossza 6\n",
      "mandarin hossza 8\n",
      "barack hossza 6\n",
      "mandarin hossza 8\n"
     ]
    }
   ],
   "source": [
    "#Rozmár operátor :=\n",
    "\n",
    "for gyumolcs in ['alma', 'barack', 'mandarin']:\n",
    "    if len(gyumolcs) > 5 :\n",
    "        print(f'{gyumolcs} hossza {len(gyumolcs)}')\n",
    "\n",
    "#A gond az a fentivel, hogy a len kódismételt, ezekec nagyobb programok esetén kerulni kell. A megoldás rozmár operátor nélkül\n",
    "\n",
    "for gyumolcs in ['alma', 'barack', 'mandarin']:\n",
    "    hossz = len(gyumolcs)\n",
    "    if hossz > 5 :\n",
    "        print(f'{gyumolcs} hossza {hossz}')\n",
    "\n",
    "for gyumolcs in ['alma', 'barack', 'mandarin']:\n",
    "    if (hossz := len(gyumolcs)) > 5:\n",
    "        print(f'{gyumolcs} hossza {hossz}')"
   ]
  }
 ],
 "metadata": {
  "kernelspec": {
   "display_name": "Python 3.10.8 64-bit",
   "language": "python",
   "name": "python3"
  },
  "language_info": {
   "codemirror_mode": {
    "name": "ipython",
    "version": 3
   },
   "file_extension": ".py",
   "mimetype": "text/x-python",
   "name": "python",
   "nbconvert_exporter": "python",
   "pygments_lexer": "ipython3",
   "version": "3.10.8"
  },
  "orig_nbformat": 4,
  "vscode": {
   "interpreter": {
    "hash": "ca49e4e1b88eed2b9544455cc8bcce643dcbc593713c2910e162ad7a95386c9e"
   }
  }
 },
 "nbformat": 4,
 "nbformat_minor": 2
}
