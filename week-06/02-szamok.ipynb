{
 "cells": [
  {
   "cell_type": "markdown",
   "metadata": {},
   "source": [
    "<h3>Számok</h3>\n",
    "Egész számok ábrázolása<br>\n",
    "<br>\n",
    "Más nyelvekben<br>\n",
    "- A számok adott méretű memóriát foglanak<br>\n",
    "- Tipikus méreteik : 8, 16, 32, 64 bit<br>\n",
    "- Tipikus elnevezéseik : byte, short, int, long<br>\n",
    "- Lehet előjeles és előjel nélküli. Példa : 16 bit esetén 0..65535 vagy -32768..32767 Az előjeles számok esetében az 1. bit az előjelbit, és a maradék 15 biten lehet számokat ábrázolni<br>\n",
    "<br>\n",
    "Python esetében a szám akármekkora lehet, nincs korlát, viszont lassú. (jól optimalizált c++ képest 20X lassabb is lehet)\n"
   ]
  },
  {
   "cell_type": "code",
   "execution_count": 2,
   "metadata": {},
   "outputs": [
    {
     "name": "stdout",
     "output_type": "stream",
     "text": [
      "254 254 254 254\n",
      "123456789\n"
     ]
    }
   ],
   "source": [
    "#Megadási módok\n",
    "decimális = 254\n",
    "bináris = 0b11111110\n",
    "hexadecimális =0xFE\n",
    "oktalis = 0o376\n",
    "\n",
    "print(decimális, bináris, hexadecimális, oktalis)\n",
    "#A fentiek csak megadási módra vonatkoznak.\n",
    "\n",
    "nagy_szám = 123_456_789 #megadásnál logokai egységekre bontható\n",
    "print(nagy_szám)\n",
    "\n"
   ]
  },
  {
   "cell_type": "code",
   "execution_count": 8,
   "metadata": {},
   "outputs": [
    {
     "name": "stdout",
     "output_type": "stream",
     "text": [
      "2 4\n",
      "(2, 4)\n",
      "2\n",
      "4\n"
     ]
    }
   ],
   "source": [
    "#Osztás\n",
    "osztandó = 14\n",
    "oszto = 5\n",
    "\n",
    "eredmeny = osztandó // oszto\n",
    "maradek = osztandó % oszto\n",
    "print(eredmeny , maradek)\n",
    "\n",
    "eredmeny, maradek = divmod(osztandó, oszto) #ez elemkettest ad vissza\n",
    "print(divmod(osztandó , oszto))\n",
    "print(eredmeny)\n",
    "print(maradek)\n",
    "\n"
   ]
  },
  {
   "cell_type": "code",
   "execution_count": null,
   "metadata": {},
   "outputs": [],
   "source": [
    "#Lebegőpontos számok ábrázolás\n",
    "\"\"\"\n",
    "Képzeljük el, hogy hogyan ábrázolnánk a valós számokat. Tegyük fel, hogy 4 számjegyünk van, összesen : ABCD és előjel.\n",
    "Alkossunk egy olyan rendszert, amelyben a 4 számot felhasználva minnél jobban kölelítjük a valós számokat.\n",
    "Lebegópontos számoknál a 4 szám helyett bitek (32 v 64) vannak, de mindenkép van egy korlát.\n",
    "\n",
    "Megoldási tipp:\n",
    "ABCD\n",
    "10.0\n",
    "1.00\n",
    "1.01\n",
    "1.11\n",
    "\n",
    "AB,CD\n",
    "Ebben az esetben 00,00-99,99 közöt tudunk számokat ábrázolni, ami kicsi intervallumot fed le.\n",
    "\n",
    "A,BC*10^D-3\n",
    "A legkissebb szám , ami > 0: 0010, azaz 0,01*10^-3 = 0,00001\n",
    "Legnagyobb szám : 9999, azaz 9,99 * 10^6 = 9990000\n",
    "Köszte a számok 3 értékes tizedesjegyig vannak ábrázolva és vannak kerekítési hibák\n",
    "A 100-at például nem tudjuk százezredes pontossággal ábrázolni itt.\n",
    "\n",
    "A Float ábrázolása\n",
    "Tipikusan 32 float v 64 bites dublefloat , IEEE754 szabvány szerinti, sok szempontból megfelel a kis számok pontos ábrázolására.\n",
    "A bitek növelésével lehet pontosítani, de teljesen pontos sose lesz.\n",
    "\"\"\"\n",
    "#Megadásaik\n",
    "tizedes_kicsi = 0.000123\n",
    "exponenciális = 1.23e-4 #1,23 * 10^-4\n",
    "nagy_tizedes = 123_000_000.0\n",
    "nagy_exponenciális = 1,23e8 #1,23 * 10^8"
   ]
  },
  {
   "cell_type": "code",
   "execution_count": 10,
   "metadata": {},
   "outputs": [
    {
     "name": "stdout",
     "output_type": "stream",
     "text": [
      "(7+2j)\n",
      "(20+10j)\n"
     ]
    }
   ],
   "source": [
    "#Komplex számok (nem i vel jelöli a képzetes egységet)\n",
    "komplex1, komplex2 = 3 + 4j, 4 - 2j\n",
    "print(komplex1 + komplex2)\n",
    "print(komplex1 * komplex2)\n"
   ]
  },
  {
   "cell_type": "code",
   "execution_count": 33,
   "metadata": {},
   "outputs": [
    {
     "name": "stdout",
     "output_type": "stream",
     "text": [
      "0\n",
      "120\n",
      "0b1000\n",
      "0b1110\n",
      "0b110\n",
      "0x8\n",
      "0xe\n",
      "0x6\n",
      "-13\n",
      "-0b1101\n",
      "6\n",
      "0b110\n"
     ]
    }
   ],
   "source": [
    "#Bitműveletek\n",
    "\"\"\"\n",
    ">> bitenkénti eltolás jobbra\n",
    "<< bitenkénti eltolás balra\n",
    "\n",
    "\"\"\"\n",
    "szám = 0b1111\n",
    "jobbra_tolt = szám >> 5\n",
    "print(jobbra_tolt)\n",
    "#mintha egy a szám elején lévő képzeletbeli tizedespontot tolnánk jobbra, de a ponttól bara levő számok elvesznek 1010 -> 10\n",
    "balra_tolt = szám << 3\n",
    "print(balra_tolt) #a szám után 2 nullát írunk\n",
    "\n",
    "\"\"\"\n",
    "& - bitenkénti és\n",
    "| - bitenkénti vagy\n",
    "^ - bitenkénti kizáró vagy\n",
    "~ - bitenkénti tagadás\n",
    "\"\"\"\n",
    "szam1 = 0b1100\n",
    "szam2 = 0b1010\n",
    "\n",
    "print(bin(szam1 & szam2))\n",
    "print(bin(szam1 | szam2))\n",
    "print(bin(szam1 ^ szam2))\n",
    "\n",
    "print(hex(szam1 & szam2))\n",
    "print(hex(szam1 | szam2))\n",
    "print(hex(szam1 ^ szam2))\n",
    "\n",
    "#A tagadás kicsit furi\n",
    "print(~0b1100)\n",
    "print(bin(~0b1100))\n",
    "#Ennek az az oka, hogy a pythonban a szám előjeles, és azt is tagadja, ezért borul fel az egész\n",
    "#ha a jó eredményt akarjuk (0011), akkor modulo kell venni egy pozitiv egész számmal, ami 2^szám hossza (4 bit itt) 2^4=16\n",
    "\n",
    "print(~0b11001 % 32)\n",
    "print(bin(~0b11001 % 32))"
   ]
  },
  {
   "cell_type": "code",
   "execution_count": 35,
   "metadata": {},
   "outputs": [
    {
     "name": "stdout",
     "output_type": "stream",
     "text": [
      "2.718281828459045\n",
      "3.141592653589793\n",
      "1.4142135623730951\n",
      "5.0\n",
      "5\n",
      "4\n",
      "4.0\n"
     ]
    }
   ],
   "source": [
    "#math könyvtár\n",
    "import math\n",
    "\n",
    "print(math.e)\n",
    "print(math.pi) #egységsugaru kor kerületének a fele.\n",
    "\n",
    "print(math.sqrt(2)) #az eredmény mindíg valós\n",
    "print(math.sqrt(25))\n",
    "print(math.isqrt(25)) #integeer sqrt\n",
    "\n",
    "print(abs(-4))\n",
    "print(math.fabs(-4))"
   ]
  },
  {
   "cell_type": "code",
   "execution_count": 43,
   "metadata": {},
   "outputs": [
    {
     "name": "stdout",
     "output_type": "stream",
     "text": [
      "5\n",
      "4\n",
      "-5\n",
      "4\n",
      "-5\n",
      "5\n",
      "-4\n",
      "5\n"
     ]
    }
   ],
   "source": [
    "#Kerekítési lehetőségek\n",
    "print(round(4.7))\n",
    "print(round(4.5)) #páros irányba kerekít\n",
    "print(round(-4.7))\n",
    "\n",
    "import math\n",
    "print(math.floor(4.8)) #lefele kerekit\n",
    "print(math.floor(-4.8)) #lefele kerekit\n",
    "\n",
    "print(math.ceil(4.8)) #felfele kerekit\n",
    "print(math.ceil(-4.8)) #felfele kerekit\n",
    "\n",
    "print(math.trunc(5.7)) # levágja a tizedes utánni értéket"
   ]
  },
  {
   "cell_type": "code",
   "execution_count": 49,
   "metadata": {},
   "outputs": [
    {
     "name": "stdout",
     "output_type": "stream",
     "text": [
      "81\n",
      "81\n",
      "81.0\n",
      "20.085536923187668\n",
      "3.0\n",
      "7.0\n",
      "3.0\n"
     ]
    }
   ],
   "source": [
    "#Hatványotás és logaritmus.\n",
    "print(3 ** 4) #3*3*3*3\n",
    "print(pow(3,4))\n",
    "import math\n",
    "print(math.pow(3,4))\n",
    "print(math.exp(3)) #e^3\n",
    "print(math.log(20.085536923187668)) #az exp inverze\n",
    "print(math.log2(128)) #kettesalapu log\n",
    "print(math.log10(1000))"
   ]
  },
  {
   "cell_type": "code",
   "execution_count": 55,
   "metadata": {},
   "outputs": [
    {
     "name": "stdout",
     "output_type": "stream",
     "text": [
      "0.49999999999999994\n",
      "0.5000000000000001\n",
      "1.7320508075688767\n",
      "30.000000000000004\n",
      "60.00000000000001\n",
      "45.0\n"
     ]
    }
   ],
   "source": [
    "#Trigonometria alapért. rad-ban számol.\n",
    "import math\n",
    "\n",
    "print(math.sin(math.radians(30)))\n",
    "print(math.cos(math.radians(60)))\n",
    "print(math.tan(math.radians(60)))\n",
    "print(math.degrees(math.asin(0.5))) # arcus sin bemenete radián, ezt a degrees-el lehet fokba konvenrtálni. (30 fok az a szög aminek a sinusa 0.5)\n",
    "print(math.degrees(math.acos(0.5)))\n",
    "print(math.degrees(math.atan(1)))"
   ]
  },
  {
   "cell_type": "code",
   "execution_count": 56,
   "metadata": {},
   "outputs": [
    {
     "name": "stdout",
     "output_type": "stream",
     "text": [
      "120\n"
     ]
    }
   ],
   "source": [
    "#Kombinatorika\n",
    "import math\n",
    "\n",
    "print(math.factorial(5))\n",
    "print(math.comb(5,2)) #kombináció hányféleképpen tudunk 5 ből 2 kiváasztani, úgy hogy a sorrend nem számít. Lottó\n",
    "print(math.perm(5,2)) #permutáció, itt számít a sorrend (Van egy futóversen, 5-en futnak, és az első 2 hely hányféleképpen lehetséges)"
   ]
  },
  {
   "cell_type": "code",
   "execution_count": 58,
   "metadata": {},
   "outputs": [
    {
     "name": "stdout",
     "output_type": "stream",
     "text": [
      "5\n",
      "2\n",
      "10\n",
      "30\n",
      "3\n",
      "90\n"
     ]
    }
   ],
   "source": [
    "#Lista műveletek\n",
    "import math\n",
    "\n",
    "print(max([5,2,3]))\n",
    "print(min([5,2,3]))\n",
    "print(sum([5,2,3]))\n",
    "print(math.prod([5,2,3])) # elemek szorzata\n",
    "\n",
    "print(math.gcd(6,9,15)) #lnko\n",
    "print(math.lcm(6,9,15)) #lkkt"
   ]
  },
  {
   "cell_type": "code",
   "execution_count": 64,
   "metadata": {},
   "outputs": [
    {
     "name": "stdout",
     "output_type": "stream",
     "text": [
      "0.41661987254534116\n",
      "1\n",
      "barack\n",
      "['barack', 'alma']\n"
     ]
    }
   ],
   "source": [
    "#Véletlen szám\n",
    "import random\n",
    "\n",
    "random.seed(12345) #kezdőérték megadása után kiválaszt egy véletlen számot, és a program futása során mindíg ezt adja vissza.\n",
    "print(random.random()) # 0 és 1 közötti random érték, mivel a seed be van állítva mindig a 0.41 körüli érték jön.\n",
    "print(random.randint(1,6)) # egész számokat ad vissza\n",
    "print(random.choice(['alma', 'barack', 'meggy'])) #véletlenszerű érték kiválasztása\n",
    "print(random.sample(['alma', 'barack', 'meggy'],2)) # n (2) darab véletlenszerű érték kiválasztása"
   ]
  }
 ],
 "metadata": {
  "kernelspec": {
   "display_name": "Python 3.10.8 64-bit",
   "language": "python",
   "name": "python3"
  },
  "language_info": {
   "codemirror_mode": {
    "name": "ipython",
    "version": 3
   },
   "file_extension": ".py",
   "mimetype": "text/x-python",
   "name": "python",
   "nbconvert_exporter": "python",
   "pygments_lexer": "ipython3",
   "version": "3.10.8"
  },
  "orig_nbformat": 4,
  "vscode": {
   "interpreter": {
    "hash": "ca49e4e1b88eed2b9544455cc8bcce643dcbc593713c2910e162ad7a95386c9e"
   }
  }
 },
 "nbformat": 4,
 "nbformat_minor": 2
}
