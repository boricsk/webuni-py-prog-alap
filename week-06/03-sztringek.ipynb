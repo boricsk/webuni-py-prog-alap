{
 "cells": [
  {
   "cell_type": "code",
   "execution_count": 3,
   "metadata": {},
   "outputs": [
    {
     "name": "stdout",
     "output_type": "stream",
     "text": [
      "a\n",
      "C\n",
      "s\n",
      "a\n",
      "b\n",
      "a\n",
      "C\n",
      "s\n",
      "a\n",
      "b\n",
      "a\n"
     ]
    }
   ],
   "source": [
    "# a stringek, karakterláncok karakterek sorozatából állnak, indexhelhető 0-tól.\n",
    "\n",
    "nev = 'Csaba'\n",
    "print(nev[2])\n",
    "\n",
    "for karakter in nev:\n",
    "    print(karakter)\n",
    "\n",
    "for i in range(len(nev)):\n",
    "    print(nev[i])\n",
    "    "
   ]
  },
  {
   "cell_type": "code",
   "execution_count": null,
   "metadata": {},
   "outputs": [],
   "source": [
    "#Karakterkódolás\n",
    "\"\"\"\n",
    "ASCII\n",
    "Kezdetben, mikor még a memória számított egy karaktert 7 biten kódoltak. Az első 32 speciális karakterek, angol ABC kis betűi (26) , nagybetűi (26) , számok (10) és irásjelek\n",
    "Ez a 7 bit 2^7=128 lehetőséget jelent. Ez volt az első karakterkódolás, és kinszenvedés volt.\n",
    "\n",
    "Ezt később 8 bitre bővítették a nyugat európai ékezetes karakterek miatt.\n",
    "Ez kelet európában nem jó. (ü,ö nincs benne)\n",
    "\n",
    "Következő lépés a többféle kódolás bevezetése. latin1, latin2, de ez azt a problémát veti fel, hogy nem egyforma a küldő és fogadó karakterkészlete.\n",
    "Oprendszer szinten is volt eltérés. (újsor a windowsban soremelés és kocsivissza, linuxnál egybe van)\n",
    "Egyéb nyelvek kódolási problémái. (Ciril, Görög, Héber, Arab, Távol keleti nyelvek)\n",
    "Nem volt ez se jó 5let\n",
    "\n",
    "UTF kódolás a következő lépés.\n",
    "Dinamikus hosszúságú kódolást valósította meg. Van amit 8, 16, 24, 32 biten kódolunk.\n",
    "A csupa angol szöveg 8 biten, a magyar 16 bitesen van.\n",
    "Univerzásis felhasználást tesz lehetővé.\n",
    "A python UTF-16-ot használ.\n",
    "\n",
    "\"\"\""
   ]
  },
  {
   "cell_type": "code",
   "execution_count": null,
   "metadata": {},
   "outputs": [],
   "source": [
    "#Létrehozás\n",
    "idezojelet_tartalmaz = 'Ez a mondat \"tartalmaz\" idézőjelet'\n",
    "aposztrofot_tartalmaz = \"Ez a mondat 'tartalmaz' aposztrófot\"\n",
    "mindkettő = 'Ez a \"mondat\" \\'tartamaz\\' mindkettőt.'\n",
    "#escape karakter a \\ ezt a ' elé kell rakni.\n",
    "\n",
    "újsor = 'Ez a szöveg új sorba \\nFog folytatódni'\n",
    "# \\n újsor karakter\n",
    "tobbsoros =\"\"\"\n",
    "Ez egy \n",
    "több soros\n",
    "string lesz\n",
    "\"\"\"\n"
   ]
  },
  {
   "cell_type": "code",
   "execution_count": 4,
   "metadata": {},
   "outputs": [
    {
     "name": "stdout",
     "output_type": "stream",
     "text": [
      "a\n",
      "Æ\n",
      "°\n",
      "♞\n"
     ]
    }
   ],
   "source": [
    "#String előtag\n",
    "\"\"\"\n",
    "u' unicode kódolás\n",
    "b' byte (egy karakter 1 byte)\n",
    "r' raw, a \\ nem escape lesz. Ahogy leírtuk úgy látjuk\n",
    "f' formázott sztring\n",
    "\"\"\"\n",
    "#Speciális karakterek \\u után lehet írni a kódot hex-ben.\n",
    "print('\\u0061')\n",
    "print('\\u00c6')\n",
    "print('\\u00b0')\n",
    "print('\\u265e')"
   ]
  },
  {
   "cell_type": "code",
   "execution_count": 11,
   "metadata": {},
   "outputs": [
    {
     "name": "stdout",
     "output_type": "stream",
     "text": [
      "Gyümi :banán, mennyiség :3\n",
      "gyümölcs :banán, darabszám : 3\n",
      "gyümölcs :banán, darabszám : 3\n",
      "Gyümölcs :banán, darabszám : 3\n"
     ]
    }
   ],
   "source": [
    "#Formázás\n",
    "#Összefűzés\n",
    "gyümi = 'banán'\n",
    "darab = 3\n",
    "eredmeny = 'Gyümi :' + gyümi + ', mennyiség :' + str(darab)\n",
    "print(eredmeny)\n",
    "\n",
    "#Sablonok alkalmazása\n",
    "sablon = 'gyümölcs :%s, darabszám : %d' #%s a sztringet a %d a decimális számot jelenti\n",
    "eredmény = sablon % (gyümi, darab) # a felsorolás sorrend fonatos\n",
    "print(eredmény)\n",
    "\n",
    "sablon = 'gyümölcs :{}, darabszám : {}' #%s a sztringet a %d a decimális számot jelenti\n",
    "eredmény = sablon.format(gyümi, darab) # a felsorolás sorrend fonatos\n",
    "print(eredmény)\n",
    "\n",
    "eredmeny = f'Gyümölcs :{gyümi}, darabszám : {darab}'\n",
    "print(eredmeny)"
   ]
  },
  {
   "cell_type": "code",
   "execution_count": 26,
   "metadata": {},
   "outputs": [
    {
     "name": "stdout",
     "output_type": "stream",
     "text": [
      "Gyümölcs :banán, darabszám : 9\n",
      "A tört értéke :14.285714285714286\n",
      "A tört értéke :14.29\n",
      "A tört értéke :14.3\n",
      "A tört értéke :123456789\n",
      "A tört értéke :123,456,789\n",
      "A tört értéke :1,234,567.89\n"
     ]
    }
   ],
   "source": [
    "#F stringek\n",
    "# Művelet megadása\n",
    "eredmeny = f'Gyümölcs :{gyümi}, darabszám : {3 * darab}'\n",
    "print(eredmeny)\n",
    "\n",
    "szam = 100/7\n",
    "print(f'A tört értéke :{szam}')\n",
    "print(f'A tört értéke :{szam:.2f}') # .2 - két tizedesjegy f - floatként kezelendő, kerekített lesz az érték\n",
    "print(f'A tört értéke :{szam:.3g}') # .3 - 3 értékes jegyig írja ki.\n",
    "\n",
    "nagy_szam = 123456789\n",
    "print(f'A tört értéke :{nagy_szam}') \n",
    "print(f'A tört értéke :{nagy_szam:,d}') # , vagy _ lehet, ezzel fogja elválasztani a csoportokat\n",
    "\n",
    "nagy_tört = 1234567.89\n",
    "print(f'A tört értéke :{nagy_tört:,.2f}') "
   ]
  },
  {
   "cell_type": "code",
   "execution_count": 27,
   "metadata": {},
   "outputs": [
    {
     "name": "stdout",
     "output_type": "stream",
     "text": [
      "benne van\n",
      "nem van benne van\n",
      "benne van\n"
     ]
    }
   ],
   "source": [
    "#String tartalmazás vizsgálat\n",
    "nev = 'Csaba'\n",
    "if 'a' in nev:\n",
    "    print('benne van')\n",
    "\n",
    "if 'e' not in nev:\n",
    "    print('nem van benne van')\n",
    "\n",
    "if 'sab' in nev:\n",
    "    print('benne van')\n",
    "\n",
    "if 'vas' in 'szarvasmarha':\n",
    "    print('benne van')\n",
    "\n"
   ]
  },
  {
   "cell_type": "code",
   "execution_count": 31,
   "metadata": {},
   "outputs": [
    {
     "name": "stdout",
     "output_type": "stream",
     "text": [
      "m\n",
      "vas\n",
      "szarvas\n",
      "marha\n",
      "marha\n",
      "szarvasmarha\n",
      "sav\n"
     ]
    }
   ],
   "source": [
    "#Szeletelő jelölés slice notation\n",
    "szó = 'szarvasmarha'\n",
    "\n",
    "print(szó[7])\n",
    "print(szó[4:7]) # a 7 nincs benne\n",
    "print(szó[:7]) # a 7 nincs benne\n",
    "print(szó[7:])\n",
    "print(szó[-5:]) # hátulról az 5-től a végéig\n",
    "print(szó[:])\n",
    "print(szó[0:6:2]) # 0 2 4 karakterek"
   ]
  },
  {
   "cell_type": "code",
   "execution_count": 33,
   "metadata": {},
   "outputs": [
    {
     "name": "stdout",
     "output_type": "stream",
     "text": [
      "['alma', 'körte', 'banan', 'barack', 'dio']\n",
      "['alma', 'körte', 'banan', 'barack', 'dio']\n",
      "['alma', 'körte', 'banan barack dio']\n"
     ]
    }
   ],
   "source": [
    "#Felbontás\n",
    "# A split() beép fgv használható erre, a fehér karakterek mentén fogja szétszedni (space, tab, newline) Listát ad vissza\n",
    "gyumolcsök = 'alma körte banan barack dio'\n",
    "gyömölcsök_lista = gyumolcsök.split()\n",
    "print(gyömölcsök_lista)\n",
    "\n",
    "gyumolcsök = 'alma, körte, banan, barack, dio'\n",
    "gyömölcsök_lista = gyumolcsök.split(', ') # meg is lehet adni hogy hol szedje szét\n",
    "print(gyömölcsök_lista)\n",
    "\n",
    "gyumolcsök = 'alma körte banan barack dio'\n",
    "gyömölcsök_lista = gyumolcsök.split(' ',2) # megadható h hány elemig menjen el.\n",
    "print(gyömölcsök_lista)"
   ]
  },
  {
   "cell_type": "code",
   "execution_count": 5,
   "metadata": {},
   "outputs": [
    {
     "name": "stdout",
     "output_type": "stream",
     "text": [
      "alma körte\n",
      "['alma', 'körte', 'banan', 'barack', 'dio']\n",
      "alma.körte.banan.barack.dio\n"
     ]
    }
   ],
   "source": [
    "#összefűzés\n",
    "alma = 'alma'\n",
    "körte = 'körte'\n",
    "gyumolcsok = alma + ' ' + körte\n",
    "print(gyumolcsok)\n",
    "\n",
    "lista = ['alma', 'körte', 'banan', 'barack', 'dio']\n",
    "str = '.'.join(lista) # ' ' lenne az összefűzés karaktere\n",
    "print(lista)\n",
    "print(str)"
   ]
  },
  {
   "cell_type": "code",
   "execution_count": 44,
   "metadata": {},
   "outputs": [
    {
     "name": "stdout",
     "output_type": "stream",
     "text": [
      "csaba\n",
      "CSABA\n",
      "cSABA\n",
      "           szöveg           \n",
      "szöveg\n",
      "Kedvenc tantárgyam a programozás, a programozás a legjobb!\n",
      "alma körte\n",
      "alma, körte\n",
      "alam, Körte\n"
     ]
    }
   ],
   "source": [
    "#A string módosíthatatlan. Valójában egy új sztringet kapsz vissza, amikor úgy tűnik, h módosítod. A memóiában megmarad, ha mégis kell a futás során\n",
    "#akkor megkeresi és arra hivatkozik. Hátránya h lassabb.\n",
    "\n",
    "nev5 = 'Csaba'\n",
    "print(nev5.lower())\n",
    "print(nev5.upper())\n",
    "print(nev5.swapcase())\n",
    "\n",
    "#fehér karakterek leszedése\n",
    "szoveg = '           szöveg           '\n",
    "print(szoveg)\n",
    "print(szoveg.strip())\n",
    "\n",
    "#replace\n",
    "mondat = 'Kedvenc tantárgyam a matek, a matek a legjobb!'\n",
    "print(mondat.replace('matek', 'programozás'))\n",
    "\n",
    "#Kiirás\n",
    "print('alma', 'körte') #alapértelmezés szerint szóközt tesz a két elem közé\n",
    "print('alma', 'körte', sep=', ') #mostmát , -t\n",
    "\n",
    "print('alam', end=', ') # nem fogja egymás alá irni, hanem a megadott lesz az elválasztó\n",
    "print('Körte')\n"
   ]
  },
  {
   "cell_type": "code",
   "execution_count": 45,
   "metadata": {},
   "outputs": [
    {
     "name": "stdout",
     "output_type": "stream",
     "text": [
      "alma\n",
      "körte\n",
      "'alma\\nkörte'\n"
     ]
    }
   ],
   "source": [
    "#A repr\n",
    "a = 'alma\\nkörte'\n",
    "print(a)\n",
    "print(repr(a)) # eredetit irja ki, más objektumok esetén is működik\n"
   ]
  },
  {
   "cell_type": "code",
   "execution_count": 47,
   "metadata": {},
   "outputs": [
    {
     "name": "stdout",
     "output_type": "stream",
     "text": [
      "5\n",
      "5\n"
     ]
    }
   ],
   "source": [
    "#Kiértékelés, az eval al lehet futtatni a sztringként megadott műveletet.\n",
    "muvelet = '2 + 3'\n",
    "print(eval(muvelet))\n",
    "print(eval(muvelet, {'a': 3, 'b': 2}))\n"
   ]
  },
  {
   "cell_type": "code",
   "execution_count": 9,
   "metadata": {},
   "outputs": [
    {
     "name": "stdout",
     "output_type": "stream",
     "text": [
      "vas\n",
      "CSABA\n"
     ]
    }
   ],
   "source": [
    "print('szarvasmarha'[-8:-5])\n",
    "name = 'Csaba'\n",
    "\n",
    "print(name.upper())"
   ]
  }
 ],
 "metadata": {
  "kernelspec": {
   "display_name": "Python 3.10.8 64-bit",
   "language": "python",
   "name": "python3"
  },
  "language_info": {
   "codemirror_mode": {
    "name": "ipython",
    "version": 3
   },
   "file_extension": ".py",
   "mimetype": "text/x-python",
   "name": "python",
   "nbconvert_exporter": "python",
   "pygments_lexer": "ipython3",
   "version": "3.10.8"
  },
  "orig_nbformat": 4,
  "vscode": {
   "interpreter": {
    "hash": "301a17a29b57d3836b7901af1621afd6d2b1f2298b9c7949191147cf2fea93e3"
   }
  }
 },
 "nbformat": 4,
 "nbformat_minor": 2
}
