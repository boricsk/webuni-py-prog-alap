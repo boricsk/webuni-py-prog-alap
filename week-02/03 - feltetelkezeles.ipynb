{
 "cells": [
  {
   "cell_type": "markdown",
   "metadata": {},
   "source": [
    "<h3>Feltételkezelés</h3>\n",
    "Alapvető jelentőségű a számtech-ben. Mi a tranzisztor működési elve?<br>\n",
    "<img src=tranzisztor.PNG><br>\n",
    "Ha a bázison áram van akkor az kollektortól az emitter felé áram folyik, azaz van egy feltétel és ha az teljesül akkor bekövetkezik valami.<br>\n",
    "Ha megnézzük, hogy a processzorban milyen utasítások vannak akkor találunk olyat ami feltétel nélkül hajtódik végre és olyat amely valamilyen feltétel teljesülése esetén hajtódik végre, ezt feltételes ugrásnak nevezzük. Minden bonyolult utasítás ezekre visszavezethető.<br>\n",
    "<img src=mi.PNG><br>\n",
    "A valóság tényleg az egymásba ágyazott if-ek tömkelege. Minden programozási nyelvben benne van. (Touring képes gép) <br>\n",
    "<h3>Az if utasitás</h3>\n",
    "\n"
   ]
  },
  {
   "cell_type": "code",
   "execution_count": null,
   "metadata": {},
   "outputs": [],
   "source": [
    "szam = 3\n",
    "if szam > 2 :\n",
    "    print('A szám nagyobb 2-nél.')\n",
    "    \n",
    "szam = 3\n",
    "if szam > 2 : print('A szám nagyobb 2-nél')\n",
    "\n",
    "szam = 3\n",
    "if szam > 2:\n",
    "    print('A szám nagyobb 2-nél')\n",
    "    print('A szam még mindig nagyobb 2-nél')\n",
    "print('Feltétel után')"
   ]
  },
  {
   "cell_type": "markdown",
   "metadata": {},
   "source": [
    "<h3>Else utasítás</h3>"
   ]
  },
  {
   "cell_type": "code",
   "execution_count": null,
   "metadata": {},
   "outputs": [],
   "source": [
    "szam = 1 \n",
    "if szam > 2:\n",
    "    print('A szám nagyobb kettőnél')\n",
    "else:\n",
    "    print('A szám nem nagyobb 2-nél')\n",
    "\n",
    "# több ága is lehet\n",
    "if szam > 2:\n",
    "    print('A szám nagyobb kettőnél')\n",
    "elif szam < 2:\n",
    "    print('A szám kisebb kettőnél')\n",
    "else:\n",
    "    print('A szám pont kettő')\n",
    "# ha az elifek száma több és az első igazra értékelődik ki az utánna következő kiértékelések nem futnak le, még akkor se, ha igaz a feltétel.\n",
    "\n",
    "szam = 4\n",
    "if szam > 2:\n",
    "    print('A szám nagyobb kettőnél')\n",
    "    if szam > 5:\n",
    "        print('A szám ötnél is nagyobb')\n",
    "    else:\n",
    "        print('De 5-nél nem nagyobb')\n",
    "else:\n",
    "    print('A szám nem nagyobb 2-nél')\n",
    "\n",
    "#Összehasonlítások\n",
    "szam = 2\n",
    "if szam == 2:\n",
    "    print('A szám 2')\n",
    "#tagadás\n",
    "if not szam == 2:\n",
    "    print('A szám nem kettő')\n",
    "    \n",
    "if szam != 2:\n",
    "    print('A szám nem kettő')\n",
    "\n",
    "#egyenlőtlenség\n",
    "if szam >= 2:\n",
    "    print('A szám nagyobb vagy egyenlő 2')\n",
    "\n",
    "if szam <= 2:\n",
    "    print('A szám kisseb vagy egyenlő 2') \n",
    "    \n",
    "#Feltételkezelés szöveggel\n",
    "nev = input('Hogy hivnak? ')\n",
    "if nev != '':\n",
    "    print('Szia ' + nev + '!')\n",
    "else:\n",
    "    print('Szia')\n",
    "\n",
    "#A pythonban érték szerint történik mindíg az összehasonlítás.\n",
    "#Logikai változó lehet True, False. \n",
    "\n",
    "szam = 2\n",
    "feltetel = szam > 2\n",
    "if feltetel == True: # if feltetel:\n",
    "    print('A szám nagyobb mint 2')\n",
    "    \n",
    "#Összetett feltételek\n",
    "if szam > 2 and szam < 5:\n",
    "    print('')\n",
    "\n",
    "if szam > 2 or szam < 5:\n",
    "    print('')\n",
    "\n",
    "if (szam > 2 and szam < 5) or (szam > 7 and szam < 9):\n",
    "    print('')\n",
    "#a zárójeleket el lehet hagyni mert elősször az and-et értékeli ki aztán az or-t"
   ]
  },
  {
   "cell_type": "markdown",
   "metadata": {},
   "source": [
    "<h3>Igazságtáblázat</h3>\n",
    "<img src=\"logikai-kiert.PNG\"><br>\n",
    "Ha kiderül, h nem lehet a feltétel igaz vagy biztos igaz (megvan az eredmény) akkor leáll a kiértékelés. Kiértékelés balról jobbra megy.<br>\n",
    "Ha a szam = 1 és az if szam > 2 már hamis és ha van utánna valami az nem fog kiértékelődni.<br>\n",
    "Kizáró vagy : XOR = A != B<br>\n",
    "Ekvivalencia : A == B<br>\n"
   ]
  },
  {
   "cell_type": "code",
   "execution_count": null,
   "metadata": {},
   "outputs": [],
   "source": [
    "#Intervallumellenőrzés\n",
    "x = 3\n",
    "if 2 < x and x < 5:\n",
    "    print('x 2 és 5 között van')\n",
    "\n",
    "if 2 < x < 5:\n",
    "    print('x 2 és 5 között van')\n",
    "\n",
    "#Hármas operátor\n",
    "homerseklet = -3\n",
    "if homerseklet < 0:\n",
    "    jelenseg = 'Fagy'\n",
    "else:\n",
    "    jelenseg = 'Olvad'\n",
    "\n",
    "#harmas operatorral egy sorban\n",
    "jelenseg = 'fagy' if homerseklet < 0 else 'olvad'\n",
    "\n",
    "halmazallapot = 'jeg' if homerseklet < 0 else 'viz' if homerseklet < 100 else 'pára'\n",
    "\n",
    "#üres utasitás\n",
    "if x > 2:\n",
    "    pass\n"
   ]
  }
 ],
 "metadata": {
  "kernelspec": {
   "display_name": "Python 3.10.5 64-bit",
   "language": "python",
   "name": "python3"
  },
  "language_info": {
   "name": "python",
   "version": "3.10.8"
  },
  "orig_nbformat": 4,
  "vscode": {
   "interpreter": {
    "hash": "87b94aab8dd3a663a3aec68f345fa01ed7856442ab6e88e521fff6b30a54006b"
   }
  }
 },
 "nbformat": 4,
 "nbformat_minor": 2
}
