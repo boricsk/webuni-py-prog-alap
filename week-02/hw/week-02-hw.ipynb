{
 "cells": [
  {
   "cell_type": "markdown",
   "metadata": {},
   "source": [
    "<h3>Változók házi feleadat</h3>\n",
    "1. Találj ki egy kérdést, aminkek szám a helyes válasza. A minta alapján valósítsd meg a kvíz programot<br>\n",
    "2. Kérje be az általános iskpla kezdetének évét és számolja ki a befejezés várható idejét.<br>\n"
   ]
  },
  {
   "cell_type": "code",
   "execution_count": 2,
   "metadata": {},
   "outputs": [
    {
     "name": "stdout",
     "output_type": "stream",
     "text": [
      "Az eltérés :0\n"
     ]
    }
   ],
   "source": [
    "print('Az eltérés :' + str(int(input('Mikor \"festette\" Pollock a No. 5 című képét? '))-1948))"
   ]
  },
  {
   "cell_type": "code",
   "execution_count": 5,
   "metadata": {},
   "outputs": [
    {
     "name": "stdout",
     "output_type": "stream",
     "text": [
      "A sulinak 1988 -ban / ben lett vége.\n"
     ]
    }
   ],
   "source": [
    "print('A sulinak ' + str(int(input('Mikor kezdődött az Általános Iskolai tanulmányod ?')) + 8) + ' -ban / ben lett vége.')"
   ]
  }
 ],
 "metadata": {
  "kernelspec": {
   "display_name": "Python 3.10.5 64-bit",
   "language": "python",
   "name": "python3"
  },
  "language_info": {
   "codemirror_mode": {
    "name": "ipython",
    "version": 3
   },
   "file_extension": ".py",
   "mimetype": "text/x-python",
   "name": "python",
   "nbconvert_exporter": "python",
   "pygments_lexer": "ipython3",
   "version": "3.10.5"
  },
  "orig_nbformat": 4,
  "vscode": {
   "interpreter": {
    "hash": "87b94aab8dd3a663a3aec68f345fa01ed7856442ab6e88e521fff6b30a54006b"
   }
  }
 },
 "nbformat": 4,
 "nbformat_minor": 2
}
