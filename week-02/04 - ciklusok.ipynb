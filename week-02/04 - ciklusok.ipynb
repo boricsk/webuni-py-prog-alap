{
 "cells": [
  {
   "cell_type": "markdown",
   "metadata": {},
   "source": [
    "<h3>Ciklusok</h3>\n",
    "A ciklus utasítások ismétlésére való. Két fajtája van :<br>\n",
    "-for ciklus itt mi mondjuk meg az iterációk számát<br>\n",
    "-while ciklus itt addig megy a ciklus amíg egy feltétel igaz.<br>"
   ]
  },
  {
   "cell_type": "code",
   "execution_count": null,
   "metadata": {},
   "outputs": [],
   "source": [
    "#for ciklus\n",
    "for i in range(5): #0,1,2,3,4\n",
    "    print('Alma')\n",
    "\n",
    "for i in range(1,6): #indulás és a befejezés megadása\n",
    "    print(i)\n",
    "\n",
    "for i in range(1, 6, 2): #indulás, befejezés, lépték\n",
    "    print(i)\n",
    "\n",
    "#egymásba ágyazott for ciklus\n",
    "for i in range(1,11):\n",
    "    for j in range(1, 11):\n",
    "        print(str(i) + ' * ' + str(j) + ' = ' +str(i * j))\n",
    "\n",
    "for gyumolcs in ['alma', 'banan', 'narancs']:\n",
    "    print(gyumolcs)\n",
    "\n",
    "gyumolcsok = ['alma', 'banan', 'narancs']\n",
    "for i in range(len(gyumolcsok)):\n",
    "    print(gyumolcsok[i])\n"
   ]
  },
  {
   "cell_type": "code",
   "execution_count": 1,
   "metadata": {},
   "outputs": [
    {
     "name": "stdout",
     "output_type": "stream",
     "text": [
      "0\n",
      "1\n",
      "2\n",
      "3\n",
      "4\n",
      "0\n",
      "1\n",
      "2\n",
      "3\n",
      "4\n"
     ]
    }
   ],
   "source": [
    "#While ciklus\n",
    "for i in range(5):\n",
    "    print(i)\n",
    "\n",
    "i = 0\n",
    "while i < 5:\n",
    "    print(i)\n",
    "    i +=1\n",
    "\n",
    "#lehet else ága is, de nincs nagy jelentősége, csak érdekesség\n",
    "i = 0\n",
    "while i < 5:\n",
    "    print(i)\n",
    "    i +=1\n",
    "else:\n",
    "    print('Vége a ciklusnak')\n",
    "\n",
    "for i in range(5):\n",
    "    print(i)\n",
    "else:\n",
    "    print('Vége a ciklusnak')\n",
    "\n",
    "#break és continue\n",
    "i = 0\n",
    "while True:\n",
    "    print(i)\n",
    "    i +=1\n",
    "    if i >= 5:\n",
    "        break #megszakítja a ciklust, a ciklus után folytatja a programot.\n",
    "\n",
    "while True:\n",
    "    i =+1\n",
    "    if i % 2 == 1:\n",
    "        continue #újrakezdi a ciklust\n",
    "    print(i)\n",
    "    if i >= 10 :\n",
    "        break\n",
    "    "
   ]
  }
 ],
 "metadata": {
  "kernelspec": {
   "display_name": "Python 3.10.5 64-bit",
   "language": "python",
   "name": "python3"
  },
  "language_info": {
   "codemirror_mode": {
    "name": "ipython",
    "version": 3
   },
   "file_extension": ".py",
   "mimetype": "text/x-python",
   "name": "python",
   "nbconvert_exporter": "python",
   "pygments_lexer": "ipython3",
   "version": "3.10.5"
  },
  "orig_nbformat": 4,
  "vscode": {
   "interpreter": {
    "hash": "87b94aab8dd3a663a3aec68f345fa01ed7856442ab6e88e521fff6b30a54006b"
   }
  }
 },
 "nbformat": 4,
 "nbformat_minor": 2
}
