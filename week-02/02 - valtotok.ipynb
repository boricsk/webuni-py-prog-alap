{
 "cells": [
  {
   "cell_type": "markdown",
   "metadata": {},
   "source": [
    "<h3>Változók</h3>\n",
    "Adatok tárolására szolgálnak, van neve, értéke és típusa. A névadási konvenció a snake_case, ami azt jelenti, hogy csupa kisbetű és a space-t az _ helyettesíti.<br>\n",
    "Alternativája a camelCase. a tipust nem kell megadni, a rendszer kitalálja. Gyakori tipusok a szöveg (str), szám (int, float) és a logikai (bool). Általában a<br>\n",
    "programozási nyelvek különbséget tesznek az egész és a nem egész számok között. Példák : <br>"
   ]
  },
  {
   "cell_type": "code",
   "execution_count": 1,
   "metadata": {},
   "outputs": [
    {
     "name": "stdout",
     "output_type": "stream",
     "text": [
      "SziaCsaba!\n",
      "5\n"
     ]
    }
   ],
   "source": [
    "nev = 'Csaba'\n",
    "print('Szia ' + nev + '!')\n",
    "\n",
    "egyik_szam = 3\n",
    "masik_szam = 2\n",
    "eredmeny = egyik_szam + masik_szam\n",
    "print(eredmeny)"
   ]
  },
  {
   "cell_type": "markdown",
   "metadata": {},
   "source": [
    "<h3>Egész számok</h3>\n",
    "A műveletek típuson belül értelmezettek csak. A legfontosabb szám műveletek:"
   ]
  },
  {
   "cell_type": "code",
   "execution_count": 2,
   "metadata": {},
   "outputs": [
    {
     "name": "stdout",
     "output_type": "stream",
     "text": [
      "5\n",
      "1\n",
      "6\n",
      "0.6666666666666666\n",
      "1\n",
      "1\n",
      "9\n",
      "1.7320508075688772\n",
      "5.0\n",
      "5\n",
      "2\n",
      "-3\n",
      "-3\n",
      "2\n"
     ]
    }
   ],
   "source": [
    "print(2+3)\n",
    "print(3-2)\n",
    "print(3*2)\n",
    "print(2/3) #lebegőpontos osztás x.yy visszatérési értéke van akkor is ha egész az eredmény 2.00\n",
    "print(3//2) #egészosztás \n",
    "print(3%2) #maradékos osztás maradéka (modulo)\n",
    "print(3**2) #hatványozás 3^2\n",
    "print(3**0.5) #gyökvonás\n",
    "\n",
    "print(10/2) # 5.0\n",
    "print(10//2) #5\n",
    "\n",
    "print(9//4) #2\n",
    "print(-9//4) #-3 mert a legnagyobb olyan számra kerekít, amely kissebb vagy egyenlő mint a tényleges eredmény. (-9/4 = -2.25 => -3)\n",
    "print(9//-4) #-3\n",
    "print(-9//-4) #2\n",
    "\n",
    "#műveleti sorrend a matekban megszokott\n",
    "print(1+2*3) #7\n",
    "print((1+2)*3) #9"
   ]
  },
  {
   "cell_type": "markdown",
   "metadata": {},
   "source": [
    "<h3>Precedencia táblázat</h3>\n",
    "<img src=precedence.PNG><br>\n"
   ]
  },
  {
   "cell_type": "markdown",
   "metadata": {},
   "source": [
    "A legmagasabb precedenciájú értékelődik ki elősször. Itt 18 elem van, megtanulni nem kell de jó ha tudunk róla.<br>\n",
    "<h3>Rövidített értékadás</h3>\n",
    "i = 2<br>\n",
    "i = i + 1<br>\n",
    "Valójában az egyenlőség nem értékadási művelet, hanem összehasonlítás művelet. A pythonban, viszont az, az összehasonlítási az ==<br>\n",
    "i +=1 ez a röviditett értékadás. i ++ nem létezik itt. Más műveletekre is értelmezett:"
   ]
  },
  {
   "cell_type": "code",
   "execution_count": null,
   "metadata": {},
   "outputs": [],
   "source": [
    "i += 3\n",
    "i -= 3\n",
    "i *= 3\n",
    "i /= 3\n",
    "i //= 3\n",
    "i **= 3\n",
    "\n",
    "j = 4\n",
    "i += 2 * j - 7"
   ]
  },
  {
   "cell_type": "markdown",
   "metadata": {},
   "source": [
    "<h3>Lebegőpontos számok</h3>\n",
    "A 4. példa a korlátokat mutatja. Ezekkel óvatosan kell bánni, lehetőleg kerülni kell."
   ]
  },
  {
   "cell_type": "code",
   "execution_count": 4,
   "metadata": {},
   "outputs": [
    {
     "name": "stdout",
     "output_type": "stream",
     "text": [
      "5.6\n",
      "5.0\n",
      "2.0\n",
      "0.30000000000000004\n"
     ]
    }
   ],
   "source": [
    "print(3.2 + 2.4)\n",
    "print(3.0 + 2.0)\n",
    "print(6.0 / 3.0)\n",
    "print(0.2 + 0.1)"
   ]
  },
  {
   "cell_type": "markdown",
   "metadata": {},
   "source": [
    "<h3>Stringek</h3>\n",
    "Összefűzés + jellel, vannak szövegműveletek (len).\n",
    "\n",
    "<h3>Konverziók</h3>\n",
    "céltípus(amit át szeretnénk alakítani)"
   ]
  },
  {
   "cell_type": "code",
   "execution_count": 5,
   "metadata": {},
   "outputs": [
    {
     "name": "stdout",
     "output_type": "stream",
     "text": [
      "5\n",
      "32\n",
      "32\n",
      "5\n"
     ]
    }
   ],
   "source": [
    "print(3+2)\n",
    "print(str(3) + str(2))\n",
    "print('3' + '2')\n",
    "print(int('3') + int('2'))"
   ]
  }
 ],
 "metadata": {
  "kernelspec": {
   "display_name": "Python 3.10.5 64-bit",
   "language": "python",
   "name": "python3"
  },
  "language_info": {
   "codemirror_mode": {
    "name": "ipython",
    "version": 3
   },
   "file_extension": ".py",
   "mimetype": "text/x-python",
   "name": "python",
   "nbconvert_exporter": "python",
   "pygments_lexer": "ipython3",
   "version": "3.10.8"
  },
  "orig_nbformat": 4,
  "vscode": {
   "interpreter": {
    "hash": "87b94aab8dd3a663a3aec68f345fa01ed7856442ab6e88e521fff6b30a54006b"
   }
  }
 },
 "nbformat": 4,
 "nbformat_minor": 2
}
