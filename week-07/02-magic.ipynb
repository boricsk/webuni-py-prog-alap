{
 "cells": [
  {
   "cell_type": "markdown",
   "metadata": {},
   "source": [
    "<h3>Mágikus metódusok</h3>\n",
    "<br>\n",
    "Más nyelvekban operator overloading-nak hívják. Pythonban __valami__, mint az __init__ konstruktor.<br>\n",
    "konstruktorok :<br>\n",
    "__new__     létrehozáskor<br>\n",
    "__init__    beállításkor<br>\n",
    "__del__     törléskor destruktor<br>\n",
    "A pythonban egy garbage collector működik, ami törli az olyan adatokat a memóriából, amire nincs hivatkozás. Erre nincs ráhatásunk. Létezik olyan programtervezési minta aminek singletone a neve. Arról szól, hogy egy osztályból csak 1 példányt hozunk létre. A __new__ nál nem self van, hanem cls (class). Amikor a new hívódik még nem létezik a példány de az init meghivasánál már létezik. Itt tudjuk a példányosítás kontrolálni."
   ]
  },
  {
   "cell_type": "code",
   "execution_count": 1,
   "metadata": {},
   "outputs": [
    {
     "name": "stdout",
     "output_type": "stream",
     "text": [
      "1\n",
      "2\n",
      "3\n",
      "4\n",
      "5\n"
     ]
    }
   ],
   "source": [
    "class Szamlalo:\n",
    "    _peldany = None\n",
    "    \n",
    "    def __new__(cls):\n",
    "        if cls._peldany is None: # ha a példány nem létezik létrehozzuk.\n",
    "            cls._peldany = super(Szamlalo, cls).__new__(cls)\n",
    "            cls._peldany._aktualis_szam = 0\n",
    "        return cls._peldany\n",
    "    \n",
    "    def kovetkezo(self):\n",
    "        self._aktualis_szam += 1\n",
    "        return self._aktualis_szam\n",
    "\n",
    "szamlalo1 = Szamlalo()\n",
    "print(szamlalo1.kovetkezo())\n",
    "print(szamlalo1.kovetkezo())\n",
    "print(szamlalo1.kovetkezo())\n",
    "szamlalo2 = Szamlalo() # a new tudni fogja, hogy már megvan a példány\n",
    "print(szamlalo2.kovetkezo())\n",
    "print(szamlalo1.kovetkezo())"
   ]
  },
  {
   "cell_type": "code",
   "execution_count": 2,
   "metadata": {},
   "outputs": [
    {
     "name": "stdout",
     "output_type": "stream",
     "text": [
      "Morzsi egy 3 éves kutya\n",
      "Gyurrika egy 2 éves papagáj\n"
     ]
    }
   ],
   "source": [
    "#String jellegű mágikus függvények\n",
    "#__str__        amikor kiirjuk\n",
    "#__repr__       repr() híváskor\n",
    "#__format__     formázáskor\n",
    "\n",
    "class Hazikedvenc:\n",
    "    def __init__(self, nev, eletkor):\n",
    "        self.eletkor = eletkor\n",
    "        self.nev = nev\n",
    "    \n",
    "    def __str__(self):\n",
    "        return f'{self.nev} egy {self.eletkor} éves {type(self).__name__.lower()}' #az osztály nevét adta vissza kisbetűkkel.\n",
    "\n",
    "class Kutya(Hazikedvenc):\n",
    "    pass\n",
    "\n",
    "class Papagáj(Hazikedvenc):\n",
    "    pass\n",
    "\n",
    "morzsi = Kutya('Morzsi',3)\n",
    "gyurrika = Papagáj('Gyurrika', 2)\n",
    "\n",
    "print(morzsi) # az __str__ hajtódik végre.\n",
    "print(gyurrika)"
   ]
  },
  {
   "cell_type": "code",
   "execution_count": null,
   "metadata": {},
   "outputs": [],
   "source": [
    "#A __repr__ az objektum belső reprezentációjára szolgál. Hibakeresésre szolgál. Ide lehet tenni a technikai részleteket, amelyek nem tul olvashatóak.\n",
    "#A __format__ formásáskor használatos."
   ]
  },
  {
   "cell_type": "code",
   "execution_count": 3,
   "metadata": {},
   "outputs": [
    {
     "name": "stdout",
     "output_type": "stream",
     "text": [
      "5\n",
      "5\n"
     ]
    }
   ],
   "source": [
    "#Függvény\n",
    "class Osszead:\n",
    "    def __call__(self, a, b): #az osztályból fgv-t csinál.\n",
    "        return a + b\n",
    "\n",
    "osszead = Osszead()\n",
    "print(osszead(2, 3)) #fgv-ként hivom meg\n",
    "print(Osszead()(2,3)) # nem a szokott modon van példányositva, ugy példányositjuk, hogy utánna rögtön átadoma két paraméterét."
   ]
  },
  {
   "cell_type": "code",
   "execution_count": 5,
   "metadata": {},
   "outputs": [
    {
     "name": "stdout",
     "output_type": "stream",
     "text": [
      "0.4\n",
      "0.1\n",
      "0.02\n",
      "2.0\n"
     ]
    }
   ],
   "source": [
    "#Aritmetikai műveleteknek mindnek van magic függvénye.\n",
    "\"\"\"\n",
    "__add__         a + b\n",
    "__sub__         a - b\n",
    "__mul__         a * b\n",
    "__floordiv__    a // b\n",
    "__truediv__     a / b\n",
    "__mod__         a % b\n",
    "__pow__         a  ** b\n",
    "__pos__         + a pozitiv előjel\n",
    "__neg__         - a negativ előjel\n",
    "__abs__         abs(a)\n",
    "\"\"\"\n",
    "\n",
    "class Szam:\n",
    "    def __init__(self, a):\n",
    "        self.a = a\n",
    "    \n",
    "    def __add__(self, masik):\n",
    "        return Szam(round(self.a + masik.a, 3))\n",
    "\n",
    "    def __sub__(self, masik):\n",
    "        return Szam(round(self.a - masik.a, 3))\n",
    "\n",
    "    def __mul__(self, masik):\n",
    "        return Szam(round(self.a * masik.a, 3))\n",
    "\n",
    "    def __truediv__(self, masik):\n",
    "        return Szam(round(self.a / masik.a, 3))\n",
    "\n",
    "    def __str__(self):\n",
    "        return str(self.a)\n",
    "    \n",
    "print(Szam(0.2) + Szam(0.1) + Szam(0.1))\n",
    "print(Szam(0.2) - Szam(0.1))\n",
    "print(Szam(0.2) * Szam(0.1))\n",
    "print(Szam(0.2) / Szam(0.1))\n",
    "    "
   ]
  },
  {
   "cell_type": "code",
   "execution_count": 8,
   "metadata": {},
   "outputs": [
    {
     "name": "stdout",
     "output_type": "stream",
     "text": [
      "101000\n",
      "101\n"
     ]
    }
   ],
   "source": [
    "#Bitműveletek\n",
    "\"\"\"\n",
    "__lshift__      a << b\n",
    "__rshift__      a >> b\n",
    "__and__         a & b\n",
    "__or__          a | b\n",
    "__xor__         a ^ b\n",
    "__invert__      ~ a    \n",
    "\"\"\"\n",
    "\n",
    "class Binaris:\n",
    "    def __init__(self, binaris):\n",
    "        self._binaris = binaris\n",
    "    \n",
    "    def __str__(self):\n",
    "        return self._binaris\n",
    "    \n",
    "    def __lshift__(self, masik):\n",
    "        return Binaris(self._binaris + masik * '0')\n",
    "    \n",
    "    def __rshift__(self, masik):\n",
    "        return Binaris(self._binaris[:-masik])\n",
    "\n",
    "print(Binaris('101') << 3)\n",
    "print(Binaris('101010') >> 3)"
   ]
  },
  {
   "cell_type": "code",
   "execution_count": null,
   "metadata": {},
   "outputs": [],
   "source": [
    "#Rövidített értékadás\n",
    "\"\"\"\n",
    "__iadd__         a += b\n",
    "__isub__         a -= b\n",
    "__imul__         a *= b\n",
    "__ifloordiv__    a //= b\n",
    "__itruediv__     a /= b\n",
    "__imod__         a %= b\n",
    "__ipow__         a  **= b\n",
    "__ilshift__      a <<= b\n",
    "__irshift__      a >>= b\n",
    "__iand__         a &= b\n",
    "__ior__          a |= b\n",
    "__ixor__         a ^= b\n",
    "\"\"\"\n",
    "\n",
    "#Áralakítások\n",
    "#Ha saját osztályt át akarjuk alakítani egy másik formátummá a lentieket kell átírni.\n",
    "\"\"\"\n",
    "__int__\n",
    "__long__\n",
    "__oct__\n",
    "__hex__\n",
    "__float__\n",
    "__complex__\n",
    "\"\"\""
   ]
  },
  {
   "cell_type": "code",
   "execution_count": 9,
   "metadata": {},
   "outputs": [
    {
     "name": "stdout",
     "output_type": "stream",
     "text": [
      "False\n",
      "False\n",
      "True\n",
      "True\n"
     ]
    }
   ],
   "source": [
    "#Összehasonlítások\n",
    "\n",
    "class Szam:\n",
    "    def __init__(self,a): self.a = round(a, 3)\n",
    "    def __lt__(self, masik): return self.a < masik.a\n",
    "    def __le__(self, masik): return self.a <= masik.a\n",
    "    def __eq__(self, masik): return self.a == masik.a\n",
    "    def __ne__(self, masik): return self.a != masik.a\n",
    "    def __gt__(self, masik): return self.a > masik.a\n",
    "    def __ge__(self, masik): return self.a >= masik.a\n",
    "    \n",
    "print(0.2 + 0.1 <= 0.3) # nincs krtekítve a művelet\n",
    "print(0.2 + 0.1 == 0.3)\n",
    "print(Szam(0.2 + 0.1) <= Szam(0.3))\n",
    "print(Szam(0.2 + 0.1) == Szam(0.3))"
   ]
  },
  {
   "cell_type": "code",
   "execution_count": 11,
   "metadata": {},
   "outputs": [
    {
     "name": "stdout",
     "output_type": "stream",
     "text": [
      "1\n",
      "1\n",
      "2\n",
      "3\n",
      "5\n",
      "8\n",
      "13\n",
      "21\n",
      "34\n",
      "55\n"
     ]
    }
   ],
   "source": [
    "#Iterátorok\n",
    "\n",
    "class Fibonacci:\n",
    "    def __iter__(self):\n",
    "        self.x = 0\n",
    "        self.y = 1\n",
    "        self.n = 0\n",
    "        return self\n",
    "    \n",
    "    def __next__(self):\n",
    "        self.n +=1\n",
    "        if self.n <=10:\n",
    "            eredmeny = self.y\n",
    "            next = self.x + self.y\n",
    "            self.x = self.y\n",
    "            self.y = next\n",
    "            return eredmeny\n",
    "        else:\n",
    "            raise StopIteration\n",
    "\n",
    "for x in Fibonacci():\n",
    "    print(x)\n"
   ]
  },
  {
   "cell_type": "code",
   "execution_count": 12,
   "metadata": {},
   "outputs": [
    {
     "name": "stdout",
     "output_type": "stream",
     "text": [
      "0 0\n",
      "1 1\n",
      "2 1\n",
      "3 2\n",
      "4 3\n",
      "5 5\n",
      "6 8\n",
      "7 13\n",
      "8 21\n",
      "9 34\n",
      "10 55\n"
     ]
    }
   ],
   "source": [
    "#Generátorok\n",
    "def fibonacci_generator():\n",
    "    a, b = 0, 1\n",
    "    while True:\n",
    "        yield a # nem return, a fgv folyamatosan fut, amikor kiolvastuk az értéket akkor megy tovább\n",
    "        a, b = b, a + b\n",
    "\n",
    "fibonacci = fibonacci_generator()\n",
    "for i in range(11):\n",
    "    print(i, next(fibonacci)) # a next keri le a következőt"
   ]
  },
  {
   "cell_type": "code",
   "execution_count": 15,
   "metadata": {},
   "outputs": [
    {
     "name": "stdout",
     "output_type": "stream",
     "text": [
      "<generator object <genexpr> at 0x000001C674B2A8F0>\n",
      "0 1 4 9 16 25 36 49 64 81 \n"
     ]
    }
   ],
   "source": [
    "#Generátor származtatás\n",
    "lista = (i * i for i in range(10)) # ez egy generátort hoz létre\n",
    "print(lista)\n",
    "\n",
    "for elem in lista: #generátor származtatás\n",
    "    print(elem, end=' ')\n",
    "print()\n",
    "for elem in lista:\n",
    "    print(elem, end=' ') #üres lesz a lista\n"
   ]
  }
 ],
 "metadata": {
  "kernelspec": {
   "display_name": "Python 3.10.8 64-bit",
   "language": "python",
   "name": "python3"
  },
  "language_info": {
   "codemirror_mode": {
    "name": "ipython",
    "version": 3
   },
   "file_extension": ".py",
   "mimetype": "text/x-python",
   "name": "python",
   "nbconvert_exporter": "python",
   "pygments_lexer": "ipython3",
   "version": "3.10.8"
  },
  "orig_nbformat": 4,
  "vscode": {
   "interpreter": {
    "hash": "301a17a29b57d3836b7901af1621afd6d2b1f2298b9c7949191147cf2fea93e3"
   }
  }
 },
 "nbformat": 4,
 "nbformat_minor": 2
}
