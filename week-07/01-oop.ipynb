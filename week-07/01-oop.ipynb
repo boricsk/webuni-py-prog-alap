{
 "cells": [
  {
   "cell_type": "markdown",
   "metadata": {},
   "source": [
    "<h3>Objektum Orientát programozás</h3>\n",
    "<br>\n",
    "Gondolatkisérlet<br>\n",
    "Próbáljuk meg modellezni az alábbiakat:<br>\n",
    "-Van 2 kutya, Morzsi 23 éves és Fifi 2.<br>\n",
    "-Van két papagáj Gyurrika 2 éves és Pityuka 4.<br>\n",
    "-Van két pók, 1 és 2 évesek. Nincs nevük<br>\n",
    "Hogyan kérdezhető le minden állat neve és életkora.<br>\n",
    "Hogyan lehet növelni az állatok életkorást.<br>\n",
    "Minden állatról meg kell határoznunk a lábak számát ami az állat fajtájából derül ki.<br>\n",
    "<br>\n",
    "Rekord alkalmazására gondoltam.\n",
    "<br>\n",
    "Ez egy programozási paradigma, amely kicsit eltérő gondolkodát igényel, mit a proceduláris. A legtöbb prog. nyelv is OOP. Van olyan prog. nyelv ahol kötelező az OOP irányelveket használni, mit pl. a Java, de a Python nem az, eddig nem írtunk oop progit. az osztály (class) alapvető fontosságú. Az egymáshoz szorosan kapcsolódó változók és műveletek tartoznak ide (Kutya esetén a név , élekor és a öregedés művelete). Az objektum pedig osztály példány. (Morzsi vagy Fifi)<br>\n",
    "<br>\n",
    "Elvek<br>\n",
    "4 fontos alapelve:<br>\n",
    "-Magába foglalás (encapsulation)\n",
    "-Absztrakció (abstraction)\n",
    "-Öröklés (inheritance)\n",
    "-Többalakúság (polymorphism)\n",
    "<br>\n",
    "Encapsulation<br>\n",
    "A külső hozzáférés korlátozását jelenti. Ne lehessen mindent módosítani (kivülől ne legyen minden elérhető), ennek tecchnikája a megfelelő kulcsszó használata, ami a pythonban nincs, itt _ konvenciót alkalmaznak. Példa : ne lehessen a kutya életkotát módosítani, csak az öregszik fgv hívással. Képzeljük el, ha az öregszik fgv mást is csinál, pl. adatbázisba ír. Ha csak simán átírnánk a kutya életkorát, akkor a fgv egyébb funkciói nem futnának le. Általában kívüről nem lehet adatmezőket elérni, csak fgv-t hivni.<br>\n",
    "<br>\n",
    "Absztrakció<br>\n",
    "Magas szintű műveletek kiajánlása, a részletek elrejtével. Technika : a kivulröl elérhető fgv-k fejléceinek (név, paraméter, visszatérési érték) interface-be szervezése, és megvalósítás külön osztályban. Pythonban absztrakt osztály és metódus van. Példa : a kutya élrtkorának módosítása adatbázis műveletet tart. Ezt nem kell láthatóvá tenni a külvilág felé.<br>\n",
    "<br>\n",
    "Öröklés<br>\n",
    "Az osztályok hierarchiába rendezése. Technika : megfelelő kulcsszó használata. Pythonban kutya(háziallat) itt a kutya a gyerek a hazallat pedig az öszosztály. a kutya minden ősosztály tulajdonságot birtokol, de lehetnek neki újakat is adni.<br>\n",
    "<br>\n",
    "Polimorfizmus<br>\n",
    "A leszermazottaknak saját viselkedési formát ad. Technika : az ősosztályban definiált fgv-k felülírása. Példa : az egyes állatok bemutatkozása eltérő.<br>\n",
    "<br>\n",
    "Elvárások<br>\n",
    "-erős a kohézió (high cohesion), amit 1 osztályba teszünk egymással legyenek szoros kapcsolatban.<br>\n",
    "-laza csatolás (loose coupling), az osztályok közti kapcsolat legyen minimális.<br>\n",
    "-egy felelősség elve (single responsibility), az a jó ha az osztálynak egy szerepe legyen.<br>\n",
    "-függőség (dependency), az absztrakció az absztrakcióval álljon kapcsolatban, az egyik osztály absztrakciója nem függjön a másik osztály részreteitől.<br>\n",
    "<br>\n",
    "Kapcsolatok<br>\n",
    "A kapcsolatoknak nem szabad túl szorosnak lenni.<br>\n",
    "Asszociáció (association) az osztályok függetlenek egymástól, de kapcsolatban állnak, egymás nélkül is tudnak létezni. (autó és garázs)<br>\n",
    "Aggregáció aggregation a hivatkozónak része a hivatkozott, a hivatkozott önnállóan is tud létezni. (autó és a kereke)<br>\n",
    "Kompozíció (composition) a hivatkozónak része a hivatkozott, és a hivatkozott önnállóan nem létezhet. (épület és szoba)<br>\n",
    "A legáltalánosabb az assoctiation -> aggregation -> composition<br>\n"
   ]
  },
  {
   "cell_type": "code",
   "execution_count": null,
   "metadata": {},
   "outputs": [],
   "source": [
    "#osztály létrehozása és példányosítása\n",
    "class kutya:\n",
    "    pass\n",
    "\n",
    "morzsi = kutya() #példányosítás\n",
    "morzsi.nev = 'Morzsi'\n",
    "morzsi.kor = 3\n",
    "\n",
    "fifi = kutya()\n",
    "fifi.nev = \"Fifi\"\n",
    "fifi.kor = 2\n",
    "\n"
   ]
  },
  {
   "cell_type": "code",
   "execution_count": null,
   "metadata": {},
   "outputs": [],
   "source": [
    "#Konctruktor\n",
    "class kutya():\n",
    "    def __init__(self, nev, eletkor):# konstruktor __init__ self hivatkozik az adott példányra, kötelező\n",
    "        self.nev = nev\n",
    "        self.eletkor = eletkor\n",
    "\n",
    "morzsi = kutya('Morzsi', 3)\n",
    "fifi = kutya('Fifi', 2)\n"
   ]
  },
  {
   "cell_type": "code",
   "execution_count": 1,
   "metadata": {},
   "outputs": [
    {
     "name": "stdout",
     "output_type": "stream",
     "text": [
      "Morzsi (5)\n",
      "Fifi (2)\n"
     ]
    }
   ],
   "source": [
    "#változók és metódusok\n",
    "class kutya():\n",
    "    def __init__(self, nev, eletkor):# konstruktor __init__ self hivatkozik az adott példányra, kötelező\n",
    "        self.nev = nev\n",
    "        self.eletkor = eletkor\n",
    "    def oregszik(self, ev):\n",
    "        self.eletkor += ev\n",
    "    def bemutat(self):\n",
    "        return f'{self.nev} ({self.eletkor})'\n",
    "\n",
    "morzsi = kutya('Morzsi', 3)\n",
    "morzsi.oregszik(2)\n",
    "fifi = kutya('Fifi', 2)\n",
    "print(morzsi.bemutat())\n",
    "print(fifi.bemutat())"
   ]
  },
  {
   "cell_type": "code",
   "execution_count": null,
   "metadata": {},
   "outputs": [],
   "source": [
    "#Osztály és példány elemek\n",
    "#Eddig osztályon belül használtak csak a példányra vonatkozott, nem pedig a kutya osztályra.\n",
    "\n",
    "class kutya():\n",
    "    kutyakszama = 0\n",
    "    def __init__(self, nev, eletkor):# konstruktor __init__ self hivatkozik az adott példányra, kötelező\n",
    "        self.nev = nev\n",
    "        self.eletkor = eletkor #az objektum példányhoz tartozik\n",
    "        kutya.kutyakszama += 1 #osztályhoz tartozik\n",
    "    def oregszik(self, ev):\n",
    "        self.eletkor += ev\n",
    "    def bemutat(self):\n",
    "        return f'{self.nev} ({self.eletkor})'"
   ]
  },
  {
   "cell_type": "code",
   "execution_count": null,
   "metadata": {},
   "outputs": [],
   "source": [
    "#Öröklés\n",
    "class allat():\n",
    "    \n",
    "    def __init__(self, nev, eletkor):# konstruktor __init__ self hivatkozik az adott példányra, kötelező\n",
    "        self.nev = nev\n",
    "        self.eletkor = eletkor #az objektum példányhoz tartozik\n",
    "        \n",
    "    def oregszik(self, ev):\n",
    "        self.eletkor += ev\n",
    "    def bemutat(self):\n",
    "        return f'{self.nev} ({self.eletkor})'\n",
    "\n",
    "class kutya(allat):#öröklés megvalósítása\n",
    "    pass\n",
    "\n",
    "class papagaj(allat):\n",
    "    pass\n",
    "\n"
   ]
  },
  {
   "cell_type": "code",
   "execution_count": 3,
   "metadata": {},
   "outputs": [
    {
     "name": "stdout",
     "output_type": "stream",
     "text": [
      "Fifi (2) egy kutya\n",
      "Gyurrika (2) egy papagály\n",
      "Morzsi (3) egy kutya\n",
      "Pityuka (4) egy papagály\n"
     ]
    }
   ],
   "source": [
    "#Többalakúság (polymorphism) és a felüldefiniálás (overriding)\n",
    "class allat():\n",
    "    \n",
    "    def __init__(self, nev, eletkor):# konstruktor __init__ self hivatkozik az adott példányra, kötelező\n",
    "        self.nev = nev\n",
    "        self.eletkor = eletkor #az objektum példányhoz tartozik\n",
    "        \n",
    "    def oregszik(self, ev):\n",
    "        self.eletkor += ev\n",
    "    def bemutat(self):\n",
    "        return f'{self.nev} ({self.eletkor})'\n",
    "\n",
    "class kutya(allat):#öröklés megvalósítása\n",
    "    def bemutat(self):\n",
    "        return super().bemutat()+ ' egy kutya' #felüldefiniálás az ős returnhozz hozzáadtunk egy szöveget.\n",
    "\n",
    "class papagaj(allat):\n",
    "    def bemutat(self):\n",
    "        return super().bemutat()+ ' egy papagály'\n",
    "\n",
    "morzsi = kutya('Morzsi', 3)\n",
    "fifi = kutya('Fifi', 2)\n",
    "gyurrika = papagaj('Gyurrika', 2)\n",
    "pityuka = papagaj('Pityuka', 4)\n",
    "\n",
    "print(fifi.bemutat())\n",
    "\n",
    "print(gyurrika.bemutat())\n",
    "\n",
    "print(morzsi.bemutat())\n",
    "\n",
    "print(pityuka.bemutat())"
   ]
  },
  {
   "cell_type": "code",
   "execution_count": 6,
   "metadata": {},
   "outputs": [
    {
     "name": "stdout",
     "output_type": "stream",
     "text": [
      "Fifi (2) 4 lábú\n",
      "Gyurrika (2) 2 lábú\n",
      "Morzsi (3) 4 lábú\n",
      "Pityuka (4) 2 lábú\n",
      "1 éves 8 lábú állat\n",
      "2 éves 8 lábú állat\n"
     ]
    }
   ],
   "source": [
    "#Osztályhierarchia\n",
    "class allat():\n",
    "    \n",
    "    def __init__(self, eletkor, labakszama):# konstruktor __init__ self hivatkozik az adott példányra, kötelező\n",
    "        self.eletkor = eletkor #az objektum példányhoz tartozik\n",
    "        self.labakszama = labakszama\n",
    "        \n",
    "    def oregszik(self, ev):\n",
    "        self.eletkor += ev\n",
    "        \n",
    "    def bemutat(self):\n",
    "        return f'{self.eletkor} éves {self.labakszama} lábú állat'\n",
    "    \n",
    "class hazikedvenc(allat):\n",
    "    def __init__(self, nev, eletkor, labakszama):\n",
    "        super().__init__(eletkor, labakszama)\n",
    "        self.nev = nev\n",
    "    def bemutat(self):\n",
    "        return f'{self.nev} ({self.eletkor}) {self.labakszama} lábú' #teljes egészében felül van definiálva, mert nincs hivva a super()\n",
    "\n",
    "class kutya(hazikedvenc):\n",
    "    def __init__(self, nev, eletkor):\n",
    "        super().__init__(nev, eletkor, 4)\n",
    "\n",
    "class papagaj(hazikedvenc):\n",
    "    def __init__(self, nev, eletkor):\n",
    "        super().__init__(nev, eletkor, 2)\n",
    "        \n",
    "class pok(allat):\n",
    "    def __init__(self, eletkor):\n",
    "        super().__init__(eletkor, 8)\n",
    "\n",
    "morzsi = kutya('Morzsi', 3)\n",
    "fifi = kutya('Fifi', 2)\n",
    "gyurrika = papagaj('Gyurrika', 2)\n",
    "pityuka = papagaj('Pityuka', 4)\n",
    "pok1 = pok(1)\n",
    "pok2 = pok(2)\n",
    "print(fifi.bemutat())\n",
    "print(gyurrika.bemutat())\n",
    "print(morzsi.bemutat())\n",
    "print(pityuka.bemutat())\n",
    "print(pok1.bemutat())\n",
    "print(pok2.bemutat())"
   ]
  },
  {
   "cell_type": "code",
   "execution_count": 7,
   "metadata": {},
   "outputs": [
    {
     "name": "stdout",
     "output_type": "stream",
     "text": [
      "Iskola tér 1\n",
      "Kovács István\n"
     ]
    }
   ],
   "source": [
    "#Többszörös öröklődés (nehezen felderíthető hibákat tud okozni)\n",
    "class epulet:\n",
    "    def __init__(self, cim, **kwargs):\n",
    "        self.cim = cim\n",
    "        super(epulet, self).__init__(**kwargs)\n",
    "\n",
    "class intezmeny:\n",
    "    def __init__(self, igazgato, **kwargs):\n",
    "        self.igazgato = igazgato\n",
    "        super(intezmeny, self).__init__(**kwargs)\n",
    "\n",
    "class iskola(epulet, intezmeny): # absztrakció, mert az iskola egyben épület is. Többszörös öröklés itt van.\n",
    "    def __init__(self, cim, igazgato):\n",
    "        super(iskola, self).__init__(cim=cim, igazgato=igazgato)\n",
    "        \n",
    "iskola = iskola('Iskola tér 1', 'Kovács István')\n",
    "print(iskola.cim)\n",
    "print(iskola.igazgato)"
   ]
  },
  {
   "cell_type": "code",
   "execution_count": 8,
   "metadata": {},
   "outputs": [
    {
     "name": "stdout",
     "output_type": "stream",
     "text": [
      "<class '__main__.kutya'>\n",
      "False\n",
      "False\n"
     ]
    }
   ],
   "source": [
    "#Típusellenőrzés\n",
    "class allat:\n",
    "    pass\n",
    "\n",
    "class kutya:\n",
    "    pass\n",
    "\n",
    "morzsi = kutya()\n",
    "\n",
    "print(type(morzsi))\n",
    "print(type(morzsi) is allat) #morzsi tipusa az állat?\n",
    "print(isinstance(morzsi, allat)) #morzsi az állatnak a példánya-e\n"
   ]
  },
  {
   "cell_type": "code",
   "execution_count": 9,
   "metadata": {},
   "outputs": [
    {
     "name": "stdout",
     "output_type": "stream",
     "text": [
      "1\n",
      "4\n",
      "4\n"
     ]
    }
   ],
   "source": [
    "#Érték és referencia\n",
    "class kutya():\n",
    "    def __init__(self, nev, eletkor):\n",
    "        self.nev = nev\n",
    "        self.eletkor = eletkor\n",
    "\n",
    "morzsi1 = kutya('Morzsi', 1)\n",
    "morzsi2 = kutya('Morzsi', 2)\n",
    "morzsi3 = morzsi2 #ez nem különböző, hanem ugyanazokkal a tulajdonsággal rendelkezik (egy memóriateröletre mutat mindkét név)\n",
    "morzsi2.eletkor = 4\n",
    "print(morzsi1.eletkor)\n",
    "print(morzsi2.eletkor)\n",
    "print(morzsi3.eletkor)"
   ]
  },
  {
   "cell_type": "code",
   "execution_count": 12,
   "metadata": {},
   "outputs": [
    {
     "name": "stdout",
     "output_type": "stream",
     "text": [
      "Szia Chris !\n",
      "Hello\n"
     ]
    }
   ],
   "source": [
    "#None\n",
    "def koszon(nev):\n",
    "    if nev is not None:\n",
    "        print(f'Szia {nev} !')\n",
    "    else:\n",
    "        print('Hello')\n",
    "\n",
    "koszon('Chris')\n",
    "koszon(None)\n"
   ]
  },
  {
   "cell_type": "code",
   "execution_count": 15,
   "metadata": {},
   "outputs": [],
   "source": [
    "#Asztrakt osztály\n",
    "from abc import ABC, abstractmethod # abc = abstract base class\n",
    "class allat(ABC): #ABC absztrak osztályból öröklődik\n",
    "    def __init__(self, nev, eletkor):\n",
    "        self.nev = nev\n",
    "        self.eletkor = eletkor\n",
    "    def oregszik(self, ev):\n",
    "        self.eletkor += ev\n",
    "    @abstractmethod #mivel az allat absztrakt, ezért ezen a szinten nincs szükség rá, de szeretnénk hogy ezen a szinten is megjelenjen, csak üres kóddal.\n",
    "    #A fordító felé így jelezzük, hogy nem lehet példányosítani mert van benne absztrakt metódus.\n",
    "    def bemutat(self):\n",
    "        pass #\n",
    "    \n",
    "class kutya(allat):\n",
    "    def bemutat(self):\n",
    "        return f'{self.nev} {self.eletkor} kutya' # felülirja a bemutatot\n",
    "\n",
    "class papagaj(allat):\n",
    "    def bemutat(self):\n",
    "        return f'{self.nev} {self.eletkor} papagaj'# felülirja a bemutatot\n",
    "    \n",
    "morzsi = kutya('Morzsi', 3)\n",
    "gyurrika = papagaj('Gyurrika', 2)\n",
    "#valami = allat('Valami', 1) # tipushiba"
   ]
  },
  {
   "cell_type": "code",
   "execution_count": 22,
   "metadata": {},
   "outputs": [
    {
     "name": "stdout",
     "output_type": "stream",
     "text": [
      "0.30000000000000004\n",
      "0.19999999999999998\n",
      "0.3\n",
      "0.2\n",
      "0.30000000000000004\n",
      "0.19999999999999998\n"
     ]
    },
    {
     "ename": "TypeError",
     "evalue": "kerekitettmateks.kerekitettosszeads() missing 1 required positional argument: 'b'",
     "output_type": "error",
     "traceback": [
      "\u001b[1;31m---------------------------------------------------------------------------\u001b[0m",
      "\u001b[1;31mTypeError\u001b[0m                                 Traceback (most recent call last)",
      "Cell \u001b[1;32mIn [22], line 32\u001b[0m\n\u001b[0;32m     28\u001b[0m \u001b[39mprint\u001b[39m(\u001b[39m0.3\u001b[39m\u001b[39m-\u001b[39m\u001b[39m0.1\u001b[39m)\n\u001b[0;32m     30\u001b[0m \u001b[39m#nem kell példányosítani.\u001b[39;00m\n\u001b[0;32m     31\u001b[0m \u001b[39m#kerekitett_matek = kerekitettmateks()\u001b[39;00m\n\u001b[1;32m---> 32\u001b[0m \u001b[39mprint\u001b[39m(kerekitettmateks\u001b[39m.\u001b[39;49mkerekitettosszeads(\u001b[39m0.2\u001b[39;49m, \u001b[39m0.1\u001b[39;49m))\n\u001b[0;32m     33\u001b[0m \u001b[39mprint\u001b[39m(kerekitettmateks\u001b[39m.\u001b[39mkerekitettkivons(\u001b[39m0.3\u001b[39m, \u001b[39m0.1\u001b[39m))\n",
      "\u001b[1;31mTypeError\u001b[0m: kerekitettmateks.kerekitettosszeads() missing 1 required positional argument: 'b'"
     ]
    }
   ],
   "source": [
    "#Statikus metódus (self-et nem használjuk)\n",
    "class kerekitettmatek:\n",
    "\n",
    "    def kerekitettosszead(self, a, b):\n",
    "        return round(1000*(a+b))/1000\n",
    "    \n",
    "    def kerekitettkivon(self, a, b):\n",
    "        return round(1000*(a-b))/1000\n",
    "    \n",
    "print(0.2+0.1)\n",
    "print(0.3-0.1)\n",
    "\n",
    "kerekitett_matek = kerekitettmatek()\n",
    "print(kerekitett_matek.kerekitettosszead(0.2, 0.1))\n",
    "print(kerekitett_matek.kerekitettkivon(0.3, 0.1))\n",
    "\n",
    "\n",
    "#Statikusítás\n",
    "class kerekitettmateks:\n",
    "    @staticmethod\n",
    "    def kerekitettosszeads(self, a, b):\n",
    "        return round(1000*(a+b))/1000\n",
    "    @staticmethod\n",
    "    def kerekitettkivons(self, a, b):\n",
    "        return round(1000*(a-b))/1000\n",
    "    \n",
    "print(0.2+0.1)\n",
    "print(0.3-0.1)\n",
    "\n",
    "#nem kell példányosítani.\n",
    "#kerekitett_matek = kerekitettmateks()\n",
    "print(kerekitettmateks.kerekitettosszeads(0.2, 0.1))\n",
    "print(kerekitettmateks.kerekitettkivons(0.3, 0.1))"
   ]
  }
 ],
 "metadata": {
  "kernelspec": {
   "display_name": "Python 3.10.8 64-bit",
   "language": "python",
   "name": "python3"
  },
  "language_info": {
   "codemirror_mode": {
    "name": "ipython",
    "version": 3
   },
   "file_extension": ".py",
   "mimetype": "text/x-python",
   "name": "python",
   "nbconvert_exporter": "python",
   "pygments_lexer": "ipython3",
   "version": "3.10.8"
  },
  "orig_nbformat": 4,
  "vscode": {
   "interpreter": {
    "hash": "301a17a29b57d3836b7901af1621afd6d2b1f2298b9c7949191147cf2fea93e3"
   }
  }
 },
 "nbformat": 4,
 "nbformat_minor": 2
}
