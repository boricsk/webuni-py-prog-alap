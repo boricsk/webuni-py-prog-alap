{
 "cells": [
  {
   "cell_type": "code",
   "execution_count": null,
   "metadata": {},
   "outputs": [],
   "source": [
    "\"\"\"\n",
    "Időkezelés\n",
    "\n",
    "Ez elég összetett feladat, amelyben a lentiek lehetnek:\n",
    "dátumkezelés\n",
    "dátum és időpontkezelés\n",
    "időpontkezelés\n",
    "rendszeróra kezelés\n",
    "összehasonlítások\n",
    "időszakaszok kezelése\n",
    "időzónák kezelése\n",
    "\n",
    "Általában nehéz mert nincs a rendszerek között szinergia. A python a dátum és időpont kezelésben jó, de az időzonákban már nehéz dolgozni.\n",
    "\n",
    "\"\"\""
   ]
  },
  {
   "cell_type": "code",
   "execution_count": 3,
   "metadata": {},
   "outputs": [
    {
     "name": "stdout",
     "output_type": "stream",
     "text": [
      "2022-11-21\n",
      "2022-11-21 16:59:21.045974\n"
     ]
    }
   ],
   "source": [
    "#ma és most fogalma\n",
    "\n",
    "import datetime\n",
    "\n",
    "print(datetime.date.today()) #mai nap\n",
    "print(datetime.datetime.now()) #az aktuális rendszeridő\n"
   ]
  },
  {
   "cell_type": "code",
   "execution_count": 9,
   "metadata": {},
   "outputs": [
    {
     "name": "stdout",
     "output_type": "stream",
     "text": [
      "2021-12-19\n",
      "2021-12-19 19:22:08.000013\n",
      "2021 12 19 19 8\n",
      "December 19 2021 (Sunday) 19:22:08\n",
      "2021-12-19\n"
     ]
    }
   ],
   "source": [
    "#dátum, idő megadható\n",
    "\n",
    "datum = datetime.date(2021, 12, 19)\n",
    "print(datum)\n",
    "\n",
    "ido = datetime.datetime(2021, 12, 19, 19, 22, 8, 13)\n",
    "print(ido)\n",
    "\n",
    "# külön lehet hivatkozni minden elemre\n",
    "\n",
    "print(ido.year, ido.month, ido.day, ido.hour, ido.second)\n",
    "\n",
    "#formázás\n",
    "\n",
    "print(ido.strftime('%B %d %Y (%A) %H:%M:%S'))\n",
    "\n",
    "print(ido.date()) # csak a dátum lekérdezése\n"
   ]
  },
  {
   "cell_type": "code",
   "execution_count": null,
   "metadata": {},
   "outputs": [],
   "source": [
    "#Összehasonlítások, a szokásos összehasonlító műveletek működnek. Ha van 2 egyforma datetime akkor az == nem a hivatkozást hasonlítja össze\n",
    "#hanem a tartalmat, ezért lesz True.\n"
   ]
  },
  {
   "cell_type": "code",
   "execution_count": 10,
   "metadata": {},
   "outputs": [
    {
     "name": "stdout",
     "output_type": "stream",
     "text": [
      "2020-03-01 04:00:00\n"
     ]
    }
   ],
   "source": [
    "#Változtatás\n",
    "idopont = datetime.datetime(2020,2,28,22,0,0)\n",
    "kesobb = idopont + datetime.timedelta(hours=30)\n",
    "print(kesobb)"
   ]
  },
  {
   "cell_type": "code",
   "execution_count": null,
   "metadata": {},
   "outputs": [],
   "source": [
    "#Unix rendszeridő (Unix epoch)\n",
    "#UTC szerinti 1970.01.01 (csütörtök) 00:00:00 óta eltelt másodpercek számát jelenti.\n",
    "#2038 év problémaája : előjeles 32 bites szám utolsó másodperce (2 147 483 647) azaz 2038.01.19 (kedd) 03.14.07 (UTC), ez után túlcsordul\n",
    "#Érdekesség : a legalacsonyabb előjeles 32 bites értés 1901.12.13 (péntek) 20:45:52\n",
    "#Konverter : https://www.epochconverter.com"
   ]
  },
  {
   "cell_type": "code",
   "execution_count": 14,
   "metadata": {},
   "outputs": [
    {
     "name": "stdout",
     "output_type": "stream",
     "text": [
      "1582923600.0\n",
      "1582923600.012345\n",
      "2020-02-28 22:00:00\n"
     ]
    }
   ],
   "source": [
    "#Unix rendszeridő pythonban\n",
    "idopont = datetime.datetime(2020,2,28,22,0,0)\n",
    "print(idopont.timestamp())\n",
    "\n",
    "idopont = datetime.datetime(2020,2,28,22,0,0,12345) # azért lebegőpontos szám mert a milliomod másodpercet is meg lehet adni\n",
    "print(idopont.timestamp())\n",
    "\n",
    "print(datetime.datetime.fromtimestamp(1582923600.0))# kovertálás timestamp értékből"
   ]
  },
  {
   "cell_type": "code",
   "execution_count": 18,
   "metadata": {},
   "outputs": [
    {
     "name": "stdout",
     "output_type": "stream",
     "text": [
      "2021-12-19 22:08:13\n",
      "2021-12-19 22:08:13+01:00\n",
      "UTC+01:00\n"
     ]
    }
   ],
   "source": [
    "#ISO formátum\n",
    "#Az ISO 8601 foglalkozik a dátumokkal\n",
    "#A szabvány a YYYY-MM-DDThh:mm:ss # T helyett szóköz lehet, ez akkor jó ha nem lehet szóköz benne.\n",
    "#YYYY-MM-DD hh:mm:ss.sss+-hh:mm időzóna megadása\n",
    "#YYYY-MM-DDThh:mm:ss.sssZ+-hh:mm a Z a zónát jelenti.\n",
    "\n",
    "print(datetime.datetime.fromisoformat('2021-12-19 22:08:13'))\n",
    "#sztringből ISO formátummá alakít\n",
    "idopont = datetime.datetime.fromisoformat('2021-12-19 22:08:13Z+01:00') #időzóna megadása\n",
    "print(idopont)\n",
    "print(idopont.tzinfo)"
   ]
  },
  {
   "cell_type": "code",
   "execution_count": null,
   "metadata": {},
   "outputs": [],
   "source": [
    "#Időzónák kezelése\n",
    "'''\n",
    "pip install pytz, külső könyvtár kell hozzá.\n",
    "'''\n",
    "import pytz\n",
    "import datetime\n",
    "\n",
    "print(datetime.datetime.fromisoformat('2021-12-19 22:08:13'))\n",
    "print(datetime.datetime.fromisoformat('2021-12-19 22:08:13',tzinfo = pytz.UTC))\n",
    "print(datetime.datetime.fromisoformat('2021-12-19 22:08:13', tzinfo = pytz.timezone('CET')))"
   ]
  },
  {
   "cell_type": "code",
   "execution_count": null,
   "metadata": {},
   "outputs": [],
   "source": [
    "#Időzona konvertálás. Létrehozunk egy CET időt és ezt át kell rakni US/Eastern-be\n",
    "\n",
    "kozep_europa = print(datetime.datetime.fromisoformat('2021-12-19 22:08:13', tzinfo = pytz.timezone('CET')))\n",
    "print(kozep_europa)\n",
    "print(kozep_europa.astimezone(pytz.timezone('US/Eastern')))"
   ]
  },
  {
   "cell_type": "code",
   "execution_count": null,
   "metadata": {},
   "outputs": [],
   "source": [
    "#Időzóna megnevezések\n",
    "for timezone in pytz.all_timezones:\n",
    "    print(timezone)\n",
    "    \n",
    "'''\n",
    "Időzónák nyári időszámítással\n",
    "Közép európai idő       : CET, MET, Europe/Budapest\n",
    "Nyugat európai idő      : WET\n",
    "Kelet európai idő       : EET\n",
    "USA Keleti part         : US/Eastern\n",
    "\n",
    "Időzónák nyári időszámítás nélkül\n",
    "Univerzális : UTC, Universal, Greenwich, GMT, Etc/UTC, Etc/Universal\n",
    "Közép Európa téli : GMT -1 (de valójában + jelent!!)\n",
    "Közép Európa nyári : GMT -2\n",
    "'''"
   ]
  },
  {
   "cell_type": "code",
   "execution_count": null,
   "metadata": {},
   "outputs": [],
   "source": [
    "#Problémák\n",
    "'''\n",
    "a pytz.timezone('Europe/Budapest') az nem 1:00, hanem 1.16\n",
    "a GMT -1 az valójában GMT + 1 (A POSIX miatt kell -1 et írni)\n",
    "a >3.9 től beépített zoneinfo van, de win alatt nem megy. pip install tzdata kell. \n",
    "'''\n",
    "\n",
    "import zoneinfo, datetime\n",
    "print(datetime.datetime(2021,12,17,11,44,23, tzinfo=zoneinfo.ZoneInfo('US/Eastern')))"
   ]
  },
  {
   "cell_type": "code",
   "execution_count": null,
   "metadata": {},
   "outputs": [],
   "source": [
    "#Problémák más rendszerekben\n",
    "'''\n",
    "hónapok száma 0-11 \n",
    "honapok rendezése ABC szerint\n",
    "évnél csak az utolsó 2 jegy kell (sorrend nem egy értelmű)\n",
    "a hét napjánál 1. a vasárnap\n",
    "hét napjai 0-6\n",
    "Java : datum osztály nem megy jól többszálú környezetben\n",
    "\n",
    "'''"
   ]
  }
 ],
 "metadata": {
  "kernelspec": {
   "display_name": "Python 3.10.8 64-bit",
   "language": "python",
   "name": "python3"
  },
  "language_info": {
   "codemirror_mode": {
    "name": "ipython",
    "version": 3
   },
   "file_extension": ".py",
   "mimetype": "text/x-python",
   "name": "python",
   "nbconvert_exporter": "python",
   "pygments_lexer": "ipython3",
   "version": "3.10.8"
  },
  "orig_nbformat": 4,
  "vscode": {
   "interpreter": {
    "hash": "301a17a29b57d3836b7901af1621afd6d2b1f2298b9c7949191147cf2fea93e3"
   }
  }
 },
 "nbformat": 4,
 "nbformat_minor": 2
}
