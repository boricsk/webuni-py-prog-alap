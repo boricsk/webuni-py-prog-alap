{
 "cells": [
  {
   "cell_type": "code",
   "execution_count": null,
   "metadata": {},
   "outputs": [],
   "source": [
    "#Adatformátumok\n",
    "'''\n",
    "Probléma adattovábbítás egyik rendszerből a másikba, és ez csak byte sorozat lehet.\n",
    "szabványos byte sorozattá kell az adatot alakítani. a legáltalánosabb adattov lehetőség a string.\n",
    "Más adatszerkezeteket stringé kell alakitani, a függvényeket nem lehet.\n",
    "A kódolást szerializálásnak, a dekódolást pedig deszerializálásnak hívjuk.\n",
    "Lehetőségek : \n",
    "-bináris (ASN1 szabvány) sztring -> binárisba, létrehozni adatmezőket és úgy továbbítani, itt meg kell pontosan adni, hogy melyik byte-intervallum mit jelent. \n",
    "-base64 csak kisbetü, nagybetű, szám és +,= használható, ez 64 karakter. Url hez használható.\n",
    "-csv : comma separated values, nem vessző már, hanem más(;), mert a , gyakori.\n",
    "-xml Extensible Markup Language\n",
    "-json Javascript Object Notation\n",
    "\n",
    "'''"
   ]
  },
  {
   "cell_type": "code",
   "execution_count": null,
   "metadata": {},
   "outputs": [],
   "source": [
    "#XML\n",
    "'''\n",
    "A HTML-re hasonlít, de annál szigorúbb mert az adattovábbításnál fontos a pontosság. 90-es 2000 években volt a csúcson. Előnye az hogy ember és gép által is olvasható,\n",
    "de nem egy egyszerű.\n",
    "Példa : \n",
    "\n",
    "<ember azonosito=\"1\">\n",
    "    <nev>Józska</nev>\n",
    "    <eletkor>40</eletkor>\n",
    "    <hobbik>\n",
    "        <hobbi>bélyeggyűjtés</hobbi>\n",
    "        <hobbi>kerékpározás</hobbi>\n",
    "        <hobbi>foci</hobbi>\n",
    "    </hobbik>\n",
    "    <hazas>True</hazas>\n",
    "</ember>\n",
    "\n",
    "TAG-eket tartalmaz. A lezárás kötelező. Az egyész egy nagy TAG-ben van mindíg. Atributuma lehet (azonositó).\n",
    "\n",
    "Fogalmak:\n",
    "DOM - Document object modell, azt jelenti, hogy a dokumentumot a memóriában építjük fel, ekkor lesz DOM belőle.\n",
    "SAX - Streaming API for XML callback függvények. 3 rész van, a nyitótag az attribútumokkal, tartalom és zárótag. Ezekre callback fgv-t tudunk csinálni. Segitségével\n",
    "        nem kell betölteni a memóriába, hanem fogyamatosan lehet feldolgozni. Akkor volt fontos, amikor a memória kissebb volt.\n",
    "\n",
    "Felépítése: (Ezeknek kell megfelelnie az XML-nek) Ezekkel lehet validálni a küldött adatokat. Az interfésznél el kell dönteni melyiket használjuk.\n",
    "DTD - Document type def.\n",
    "XSD - XML schema definition.\n",
    "\n",
    "Lekérdezés:\n",
    "XPath   - pl /ember/hobbik/hobbi[1]\n",
    "Xquery  \n",
    "\n",
    "Formázás:\n",
    "XSL - Extensible Stylesheet Language\n",
    "\n",
    "'''\n",
    "\n"
   ]
  },
  {
   "cell_type": "code",
   "execution_count": 6,
   "metadata": {},
   "outputs": [
    {
     "name": "stdout",
     "output_type": "stream",
     "text": [
      "Azonosito 1\n",
      "nev : Józska\n",
      "eletkor : 40\n",
      "Hobbik :\n",
      "    - bélyeggyűjtés\n",
      "    - kerékpározás\n",
      "    - foci\n",
      "hazas : True\n"
     ]
    }
   ],
   "source": [
    "#XML Példa\n",
    "import xml.etree.ElementTree as ET\n",
    "\n",
    "jozska_xml = ET.parse('jozska.xml') # beolvasás\n",
    "jozska = jozska_xml.getroot() # gyökér elem lekérdezése\n",
    "print('Azonosito', jozska.attrib['azonosito']) #attributumok lekérdezés\n",
    "for elem in jozska:\n",
    "    if elem.tag == 'hobbik':\n",
    "        print('Hobbik :')\n",
    "        for hobbi in elem:\n",
    "            print(f'    - {hobbi.text}')\n",
    "    else:\n",
    "        print(f'{elem.tag} : {elem.text}')\n",
    "            "
   ]
  },
  {
   "cell_type": "code",
   "execution_count": 10,
   "metadata": {},
   "outputs": [
    {
     "name": "stdout",
     "output_type": "stream",
     "text": [
      "{\"nev\": \"jozska\", \"eletkor\": 40, \"hobby\": [\"b\\u00e9lyeggy\\u00fcjt\\u00e9s\", \"ker\\u00e9kp\\u00e1r\", \"foci\"], \"hazas\": true}\n",
      "<class 'str'>\n",
      "{'nev': 'jozska', 'eletkor': 40, 'hobby': ['bélyeggyüjtés', 'kerékpár', 'foci'], 'hazas': True}\n",
      "<class 'dict'>\n"
     ]
    }
   ],
   "source": [
    "#JSON JavaScript Object Notation\n",
    "'''\n",
    "A JavaScripttől független, a sikeressége miatt. Passzol a pythonhoz.\n",
    "Példa:\n",
    "{\n",
    "\"nev\" : \"jozska\",\n",
    "\"eletkor\": 40,\n",
    "\"hobby\": [\"bélyeggyüjtés\",\n",
    "          \"kerékpár\",\n",
    "          \"foci\"\n",
    "          ],\n",
    "\"hazas\": true\n",
    "}\n",
    "\n",
    "Egy gyakorlatilag olyan mint egy szótár. \n",
    "\n",
    "Adatformátum:\n",
    "A formátum string, egyszeű adattipusokat tartalmaz:\n",
    "-szám (egész és lebegőpontos)\n",
    "-szöveg (idézőjelek között)\n",
    "-logikai (true, false)\n",
    "-üres (null)\n",
    "\n",
    "Összetett adattipus:\n",
    "-lista [elem1, elem2]\n",
    "-objektum {kulcs: ertek, kulcs2: ertek2} (nem keverendő az OOP objektummal!)\n",
    "\n",
    "Korlátlan egymásba ágyazás lehetséges. Halmaz nincs benne. Sokkal jobban fekszik a programozási nyelvhez.\n",
    "Tömörebb és jobban olvasható.\n",
    "\n",
    "Alapműveletek:\n",
    "szerializáció : natív, azaz a memóriában található adatokat ültetjük át JSON-ra\n",
    "deszerializáció : JSON -> natív.\n",
    "\n",
    "Más nyelvekben külső könyvtár kell hozzá és bonyi.\n",
    "\n",
    "Pythonban beépített könyvtár van. Ha van olyan obj ami megf a JSON követelményeinek akkor a json.dumps(név) használatával lehet a JSON-t létrehozni.\n",
    "Visszafele : json.loads(név) eredmény szótár.\n",
    "\n",
    "Példa : \n",
    "'''\n",
    "\n",
    "import json\n",
    "\n",
    "jozska = {\n",
    "    \"nev\" : \"jozska\",\n",
    "    \"eletkor\": 40,\n",
    "    \"hobby\": [\"bélyeggyüjtés\",\n",
    "           \"kerékpár\",\n",
    "           \"foci\"\n",
    "          ],\n",
    "    \"hazas\": True\n",
    "}\n",
    "\n",
    "jozska_json = json.dumps(jozska)\n",
    "print(jozska_json)\n",
    "print(type(jozska_json))\n",
    "\n",
    "jozska_vissza = json.loads(jozska_json)\n",
    "print(jozska_vissza)\n",
    "print(type(jozska_vissza))\n"
   ]
  },
  {
   "cell_type": "code",
   "execution_count": 12,
   "metadata": {},
   "outputs": [
    {
     "name": "stdout",
     "output_type": "stream",
     "text": [
      "{'nev': 'jozska', 'eletkor': 40, 'hobby': ['bélyeggyüjtés', 'kerékpár', 'foci'], 'hazas': True}\n"
     ]
    }
   ],
   "source": [
    "#JSON Fileműveletek\n",
    "\n",
    "with open('jozska.json', 'w') as jsonFile:\n",
    "    json.dump(jozska, jsonFile)\n",
    "\n",
    "with open('jozska.json') as jsonFile:\n",
    "    jozska_vissza = json.load(jsonFile)\n",
    "print(jozska_vissza)"
   ]
  },
  {
   "cell_type": "code",
   "execution_count": null,
   "metadata": {},
   "outputs": [],
   "source": [
    "#Eszközök\n",
    "'''\n",
    "https://jsonformatter.curiousconcept.com (online validálás és formázás)\n",
    "Formázás linux alatt, ha nincs net : json_reformat (json-t lehet formázni vele.)\n",
    "\n",
    "'''\n"
   ]
  }
 ],
 "metadata": {
  "kernelspec": {
   "display_name": "Python 3.10.8 64-bit",
   "language": "python",
   "name": "python3"
  },
  "language_info": {
   "codemirror_mode": {
    "name": "ipython",
    "version": 3
   },
   "file_extension": ".py",
   "mimetype": "text/x-python",
   "name": "python",
   "nbconvert_exporter": "python",
   "pygments_lexer": "ipython3",
   "version": "3.10.8"
  },
  "orig_nbformat": 4,
  "vscode": {
   "interpreter": {
    "hash": "301a17a29b57d3836b7901af1621afd6d2b1f2298b9c7949191147cf2fea93e3"
   }
  }
 },
 "nbformat": 4,
 "nbformat_minor": 2
}
