{
 "cells": [
  {
   "cell_type": "code",
   "execution_count": 2,
   "metadata": {},
   "outputs": [],
   "source": [
    "#Filekezelés\n",
    "'''\n",
    "Szövegfileok irása, olvasása, karakterkódolás.\n",
    "'''\n",
    "#Írás\n",
    "szarka = \"\"\"\n",
    "Nem minden fajta szarka farka tarkabarka, csak a tarka farkú szarka fajta tarkabarka, \n",
    "mert ha minden fajta szarka farka tarkabarka volna, akkor minden szarka fajta tarkabarka \n",
    "farkú szarka fajta volna.\"\"\"\n",
    "file = open('szarka.txt', mode='w')\n",
    "file.write(szarka)\n",
    "file.close()\n",
    "\n",
    "'''\n",
    "Módok:\n",
    "r   olvasás\n",
    "w   írás (ha nem létezik létrehozza, ha létezik felülirja)\n",
    "a   hozzáfűzés\n",
    "x   létrehozás (ha már létezik hibára fut)\n",
    "'''"
   ]
  },
  {
   "cell_type": "code",
   "execution_count": 3,
   "metadata": {},
   "outputs": [
    {
     "name": "stdout",
     "output_type": "stream",
     "text": [
      "\n",
      "Nem minden fajta szarka farka tarkabarka, csak a tarka farkú szarka fajta tarkabarka, \n",
      "mert ha minden fajta szarka farka tarkabarka volna, akkor minden szarka fajta tarkabarka \n",
      "farkú szarka fajta volna.\n"
     ]
    }
   ],
   "source": [
    "#Olvasás\n",
    "file = open('szarka.txt') #r az alapértelmezett ezért nem kell megadni\n",
    "szoveg = file.read()\n",
    "file.close()\n",
    "print(szoveg)\n",
    "\n",
    "\"\"\"\n",
    "read()      beolvassa az egészet\n",
    "readline()  egy sort olvas be (kiiratáskor lesz egy üres sor is, mert az újsor karaktert is beolvassa)\n",
    "readlines() beolvassa az egészet, listába teszi.\n",
    "\"\"\""
   ]
  },
  {
   "cell_type": "code",
   "execution_count": 4,
   "metadata": {},
   "outputs": [
    {
     "name": "stdout",
     "output_type": "stream",
     "text": [
      "\n",
      "Nem minden fajta szarka farka tarkabarka, csak a tarka farkú szarka fajta tarkabarka, \n",
      "mert ha minden fajta szarka farka tarkabarka volna, akkor minden szarka fajta tarkabarka \n",
      "farkú szarka fajta volna.\n"
     ]
    }
   ],
   "source": [
    "#Karakterkódolaás \n",
    "'''\n",
    "Az opennek van egy opcionális paramétere az encoding, itt lehet megadni. UTF-8 ajánlott, ha nem adjuk meg a rendszertől kéri le.\n",
    "'''\n",
    "\n",
    "szarka = \"\"\"\n",
    "Nem minden fajta szarka farka tarkabarka, csak a tarka farkú szarka fajta tarkabarka, \n",
    "mert ha minden fajta szarka farka tarkabarka volna, akkor minden szarka fajta tarkabarka \n",
    "farkú szarka fajta volna.\"\"\"\n",
    "file = open('szarka.txt', mode='w', encoding='utf-8')\n",
    "file.write(szarka)\n",
    "file.close()\n",
    "\n",
    "file = open('szarka.txt', encoding='utf-8') #r az alapértelmezett ezért nem kell megadni\n",
    "szoveg = file.read()\n",
    "file.close()\n",
    "print(szoveg)"
   ]
  },
  {
   "cell_type": "code",
   "execution_count": 5,
   "metadata": {},
   "outputs": [
    {
     "name": "stdout",
     "output_type": "stream",
     "text": [
      "\n",
      "Nem minden fajta szarka farka tarkabarka, csak a tarka farkú szarka fajta tarkabarka, \n",
      "mert ha minden fajta szarka farka tarkabarka volna, akkor minden szarka fajta tarkabarka \n",
      "farkú szarka fajta volna.\n"
     ]
    }
   ],
   "source": [
    "#With struktúra (nem kell a filet lezárni)\n",
    "with open('szarka.txt', mode='w') as file:\n",
    "    file.write(szarka)\n",
    "\n",
    "with open('szarka.txt', mode='r') as file:\n",
    "    print(file.read())"
   ]
  },
  {
   "cell_type": "code",
   "execution_count": null,
   "metadata": {},
   "outputs": [],
   "source": [
    "#Print\n",
    "file = open('szarka.txt', mode='w')\n",
    "print('nem minden tarkabarka...', file=file) #a fileba fogja irni\n",
    "print('csak a tarka farku ...', file=file)\n",
    "file.close()"
   ]
  }
 ],
 "metadata": {
  "kernelspec": {
   "display_name": "Python 3.10.8 64-bit",
   "language": "python",
   "name": "python3"
  },
  "language_info": {
   "codemirror_mode": {
    "name": "ipython",
    "version": 3
   },
   "file_extension": ".py",
   "mimetype": "text/x-python",
   "name": "python",
   "nbconvert_exporter": "python",
   "pygments_lexer": "ipython3",
   "version": "3.10.8"
  },
  "orig_nbformat": 4,
  "vscode": {
   "interpreter": {
    "hash": "301a17a29b57d3836b7901af1621afd6d2b1f2298b9c7949191147cf2fea93e3"
   }
  }
 },
 "nbformat": 4,
 "nbformat_minor": 2
}
