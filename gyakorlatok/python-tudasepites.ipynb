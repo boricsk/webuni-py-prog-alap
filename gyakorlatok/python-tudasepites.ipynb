{
 "cells": [
  {
   "cell_type": "code",
   "execution_count": 12,
   "metadata": {},
   "outputs": [
    {
     "name": "stdout",
     "output_type": "stream",
     "text": [
      "A nyugdijig hátralévő idő:\n",
      "Nyuggerkorhatár : 65\n",
      "Ádám 33\n",
      "Éva 38\n",
      "Laci 60\n",
      "70\n",
      "{'nev': 'Chris', 'kor': 18, 'nyugdijkorhatar': 70}\n",
      "{'nev': 'Chris', 'kor': 18, 'nyugdijkorhatar': 70, 'new': 5}\n",
      "{'__module__': '__main__', 'nyugdijkorhatar': 65, '__init__': <function Ember.__init__ at 0x000001D4247D1BC0>, 'eszik': <function Ember.eszik at 0x000001D4247D1C60>, 'bemutat': <function Ember.bemutat at 0x000001D4247D18A0>, 'evek_a_nyugdijig': <function Ember.evek_a_nyugdijig at 0x000001D4247D1580>, '__dict__': <attribute '__dict__' of 'Ember' objects>, '__weakref__': <attribute '__weakref__' of 'Ember' objects>, '__doc__': None}\n"
     ]
    }
   ],
   "source": [
    "class Ember:\n",
    "    nyugdijkorhatar = 65\n",
    "    def __init__(self, nev, kor) -> None:\n",
    "        self.nev = nev\n",
    "        self.kor = kor\n",
    "    def eszik(self, etel):\n",
    "        print(f'Az étel amit eszek : {etel}')\n",
    "    def bemutat(self):\n",
    "        print(f'En {self.nev} vagyok, egy ember')\n",
    "    def evek_a_nyugdijig(self):\n",
    "        return Ember.nyugdijkorhatar - self.kor\n",
    "    \n",
    "emberek = [Ember('Ádám', 32),\n",
    "            Ember('Éva', 27),\n",
    "            Ember('Laci', 5)]\n",
    "print('A nyugdijig hátralévő idő:')\n",
    "\n",
    "emb4 = Ember('Chris',18)\n",
    "emb4.nyugdijkorhatar = 70\n",
    "\n",
    "print(f'Nyuggerkorhatár : {Ember.nyugdijkorhatar}')\n",
    "for ember in emberek:\n",
    "    print(f'{ember.nev} '\\\n",
    "            f'{ember.evek_a_nyugdijig()}')\n",
    "\n",
    "print(emb4.nyugdijkorhatar)\n",
    "\n",
    "print(vars(emb4))\n",
    "\n",
    "setattr(emb4,'new',5)\n",
    "print(vars(emb4))\n",
    "print(Ember.__dict__)"
   ]
  },
  {
   "cell_type": "code",
   "execution_count": 13,
   "metadata": {},
   "outputs": [
    {
     "name": "stdout",
     "output_type": "stream",
     "text": [
      "4 5\n",
      "6 7\n"
     ]
    }
   ],
   "source": [
    "#Osztálymetódus\n",
    "class Osztaly:\n",
    "    @classmethod\n",
    "    def osztalymethodus(cls, x, y):\n",
    "        print(x, y)\n",
    "\n",
    "pld = Osztaly\n",
    "pld.osztalymethodus(4, 5)\n",
    "Osztaly.osztalymethodus(6, 7)"
   ]
  },
  {
   "cell_type": "code",
   "execution_count": 20,
   "metadata": {},
   "outputs": [
    {
     "name": "stdout",
     "output_type": "stream",
     "text": [
      "En Kovács Pista vagyok, egy 40 éves ember\n",
      "En NagyPiri vagyok, egy 34 éves ember\n",
      "En Kis Jani vagyok, egy 35 éves ember\n",
      "En Kovács István vagyok, egy 50 éves ember\n",
      "En Nagy Ákos vagyok, egy 36 éves ember\n",
      "En Kis Piri vagyok, egy 46 éves ember\n"
     ]
    }
   ],
   "source": [
    "class Ember:\n",
    "    nyugdijkorhatar = 65\n",
    "    def __init__(self, nev, kor) -> None:\n",
    "        self.nev = nev\n",
    "        self.kor = kor\n",
    "    def eszik(self, etel):\n",
    "        print(f'Az étel amit eszek : {etel}')\n",
    "    def bemutat(self):\n",
    "        print(f'En {self.nev} vagyok, egy {self.kor} éves ember')\n",
    "    def evek_a_nyugdijig(self):\n",
    "        return Ember.nyugdijkorhatar - self.kor\n",
    "    #Értékadásban kifejezések vannak mert különböző adatok állnak a rendelkezésre\n",
    "    emb1 = Ember('Kovács Pista', 40)\n",
    "    emb2 = Ember('Nagy' + 'Piri', 34)\n",
    "    emb3 = Ember('Kis Jani', 2022-1987)\n",
    "    \n",
    "    for emb in (emb1, emb2, emb3):\n",
    "        emb.bemutat()\n",
    "\n",
    "#osztálymetódussal meg lehet oldani, hogy többféleképp példányosítsunk attól függően milyen adat van a birtokunkban, egy megfelel egy egyedi korstruktornak\n",
    "\n",
    "class Ember:\n",
    "    nyugdijkorhatar = 65\n",
    "    def __init__(self, nev, kor) -> None:\n",
    "        self.nev = nev\n",
    "        self.kor = kor\n",
    "    def eszik(self, etel):\n",
    "        print(f'Az étel amit eszek : {etel}')\n",
    "    def bemutat(self):\n",
    "        print(f'En {self.nev} vagyok, egy {self.kor} éves ember')\n",
    "    def evek_a_nyugdijig(self):\n",
    "        return Ember.nyugdijkorhatar - self.kor\n",
    "    @classmethod\n",
    "    def nev_szuletesi_ev(cls, nev:str, szul_ev:int, jelen_ev:int):\n",
    "        return cls(nev, jelen_ev - szul_ev)\n",
    "    @classmethod\n",
    "    def csaladi_utonev_kor(cls, csaladnev:str, utonev:str, kor:int):\n",
    "        return cls(' '.join((csaladnev, utonev)), kor)\n",
    "\n",
    "emb1 = Ember('Kovács István', 50)\n",
    "emb2 = Ember.csaladi_utonev_kor('Nagy', 'Ákos', 36)\n",
    "emb3 = Ember.nev_szuletesi_ev('Kis Piri',1976,2022)\n",
    "\n",
    "for emb in (emb1, emb2, emb3):\n",
    "        emb.bemutat()"
   ]
  }
 ],
 "metadata": {
  "kernelspec": {
   "display_name": "Python 3.11.0 64-bit",
   "language": "python",
   "name": "python3"
  },
  "language_info": {
   "codemirror_mode": {
    "name": "ipython",
    "version": 3
   },
   "file_extension": ".py",
   "mimetype": "text/x-python",
   "name": "python",
   "nbconvert_exporter": "python",
   "pygments_lexer": "ipython3",
   "version": "3.11.0"
  },
  "orig_nbformat": 4,
  "vscode": {
   "interpreter": {
    "hash": "df1aea1c7186bdc4ca14c87f6074eed6922d5fa596f2602f29be5fe2c335b5f2"
   }
  }
 },
 "nbformat": 4,
 "nbformat_minor": 2
}
