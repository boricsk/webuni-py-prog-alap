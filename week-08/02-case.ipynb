{
 "cells": [
  {
   "cell_type": "code",
   "execution_count": 6,
   "metadata": {},
   "outputs": [
    {
     "name": "stdout",
     "output_type": "stream",
     "text": [
      "csutortok\n",
      "pentek\n",
      "50\n",
      "osszead\n",
      "9\n"
     ]
    }
   ],
   "source": [
    "#Többszörös feltátel problémája\n",
    "\"\"\"\n",
    "Pythonban ez sokáig nem volt, más nyelvekben a case volt a hasonló. A 3.10-től van.\n",
    "\"\"\"\n",
    "\n",
    "#Régi megolgás\n",
    "def nap_if(sorszam):\n",
    "    if sorszam == 1: return 'hetfo'\n",
    "    elif sorszam == 2: return 'kedd'\n",
    "    elif sorszam == 3: return 'szerda'\n",
    "    elif sorszam == 4: return 'csutortok'\n",
    "    elif sorszam == 5: return 'pentek'\n",
    "    elif sorszam == 6: return 'szombat'\n",
    "    elif sorszam == 7: return 'vasarnap'\n",
    "    else: return 'hiba'\n",
    "\n",
    "print(nap_if(4))\n",
    "\n",
    "#szotaras\n",
    "def nap_szotar(sorszam):\n",
    "    return {\n",
    "        1: 'hetfo',\n",
    "        2: 'kedd',\n",
    "        3: 'szerda',\n",
    "        4: 'csutortok',\n",
    "        5: 'pentek',\n",
    "        6: 'szomabt',\n",
    "        7: 'vasarnap',\n",
    "        \n",
    "    }[sorszam] #kivalasztjuk a sorszam kulcshoz tart. erteket\n",
    "\n",
    "print(nap_szotar(5))\n",
    "\n",
    "# szotar és lambda\n",
    "def kiszamol(a, jel, b):\n",
    "    return {\n",
    "        '+': lambda x, y: x + y,\n",
    "        '-': lambda x, y: x - y,\n",
    "        '*': lambda x, y: x * y,\n",
    "        ':': lambda x, y: x // y,        \n",
    "    }[jel](a,b)\n",
    "\n",
    "print(kiszamol(10, '+', 40))\n",
    "\n",
    "'''\n",
    "Az a hátránya, hogy túl egyszerűsít. Csak egyértelmű kulcs érték párt lehet felállítani. Több utasítás behelyezése a lenti példa szerint lehet\n",
    "'''\n",
    "\n",
    "def osszead(x, y):\n",
    "    print('osszead'); return x + y\n",
    "\n",
    "def kivon(x, y):\n",
    "    print('kivon'); return x - y\n",
    "    \n",
    "def szoroz(x, y):\n",
    "    print('szoroz'); return x * y\n",
    "\n",
    "def oszt(x, y):\n",
    "    print('oszt'); return x // y\n",
    "\n",
    "def kiszamol(a, jel, b):\n",
    "     return {\n",
    "        '+': osszead,\n",
    "        '-': kivon,\n",
    "        '*': szoroz,\n",
    "        ':': oszt,        \n",
    "    }[jel](a,b)\n",
    "\n",
    "print(kiszamol(3, '+', 6))\n"
   ]
  },
  {
   "cell_type": "code",
   "execution_count": 7,
   "metadata": {},
   "outputs": [
    {
     "name": "stdout",
     "output_type": "stream",
     "text": [
      "csutortok\n"
     ]
    }
   ],
   "source": [
    "#mach - case >=3.10\n",
    "def nap_mach(sorszam):\n",
    "    match sorszam:\n",
    "        case 1: return 'hetfo'\n",
    "        case 2: return 'kedd'\n",
    "        case 3: return 'szerda'\n",
    "        case 4: return 'csutortok'\n",
    "        case 5: return 'pentek'\n",
    "        case 6: return 'szombat'\n",
    "        case 7: return 'vasarnap'\n",
    "        case _: return 'hiba'\n",
    "\n",
    "print(nap_mach(4))"
   ]
  },
  {
   "cell_type": "code",
   "execution_count": 9,
   "metadata": {},
   "outputs": [
    {
     "name": "stdout",
     "output_type": "stream",
     "text": [
      "osszead\n",
      "9\n"
     ]
    }
   ],
   "source": [
    "#Lehet többsoros case ágakat is létrehozni\n",
    "def kiszamol(a, jel, b):\n",
    "    match jel:\n",
    "        case '+': \n",
    "            print('osszead')\n",
    "            eredmeny = a + b\n",
    "        case '-':\n",
    "            print('kivon')\n",
    "            eredmeny = a - b\n",
    "        case '*':\n",
    "            print('szoroz')\n",
    "            eredmeny = a * b\n",
    "        case ':':\n",
    "            print('oszt')\n",
    "            eredmeny = a // b         \n",
    "    return eredmeny\n",
    "\n",
    "print(kiszamol(3, '+', 6))"
   ]
  },
  {
   "cell_type": "code",
   "execution_count": 10,
   "metadata": {},
   "outputs": [
    {
     "name": "stdout",
     "output_type": "stream",
     "text": [
      "nyár\n"
     ]
    }
   ],
   "source": [
    "#Többszörös illeszkedés megadása\n",
    "\n",
    "def evszak(honap):\n",
    "    match honap:\n",
    "        case 3|4|5 : return 'tavasz'\n",
    "        case 6|7|8 : return 'nyár'\n",
    "        case 9|10|11 : return 'osz'\n",
    "        case 12|1|2 : return 'tel'\n",
    "        \n",
    "\n",
    "print(evszak(7))        \n",
    "        "
   ]
  },
  {
   "cell_type": "code",
   "execution_count": 12,
   "metadata": {},
   "outputs": [
    {
     "name": "stdout",
     "output_type": "stream",
     "text": [
      "nyár\n",
      "tel\n"
     ]
    }
   ],
   "source": [
    "#Case utáni feltételek megadása\n",
    "\n",
    "def evszak(honap):\n",
    "    match honap:\n",
    "        case n if 3 <= n <= 5 : return 'tavasz'\n",
    "        case n if 6 <= n <= 8 : return 'nyár'\n",
    "        case n if 9 <= n <= 11 : return 'osz'\n",
    "        case n if 1 <= n <= 2 or n == 12 : return 'tel'\n",
    "        \n",
    "\n",
    "print(evszak(7))\n",
    "print(evszak(12))\n"
   ]
  },
  {
   "cell_type": "code",
   "execution_count": 13,
   "metadata": {},
   "outputs": [
    {
     "name": "stdout",
     "output_type": "stream",
     "text": [
      "fekvő téglalap\n",
      "álló téglalap\n",
      "négyzet\n",
      "Egység négyzet\n",
      "hibás\n"
     ]
    }
   ],
   "source": [
    "#Összetett mintaillesztés\n",
    "class Teglalap:\n",
    "    def __init__(self, a, b) -> None:\n",
    "        self.a = a\n",
    "        self.b = b\n",
    "\n",
    "for teglalap in [\n",
    "    Teglalap(5, 2),\n",
    "    Teglalap(3, 4),\n",
    "    Teglalap(5, 5),\n",
    "    Teglalap(1, 1),\n",
    "    Teglalap(-5, 2),\n",
    "    \n",
    "]:\n",
    "    match teglalap:\n",
    "        case (Teglalap(a = 1, b = 1)): print('Egység négyzet')\n",
    "        case (Teglalap(a = x, b = y)) if x < 0 or y < 0: print('hibás')\n",
    "        case (Teglalap(a = x, b = y)) if x == y: print('négyzet')\n",
    "        case (Teglalap(a = x, b = y)) if x > y: print('fekvő téglalap')\n",
    "        case (Teglalap(a = x, b = y)) if x < y: print('álló téglalap')\n"
   ]
  }
 ],
 "metadata": {
  "kernelspec": {
   "display_name": "Python 3.10.8 64-bit",
   "language": "python",
   "name": "python3"
  },
  "language_info": {
   "codemirror_mode": {
    "name": "ipython",
    "version": 3
   },
   "file_extension": ".py",
   "mimetype": "text/x-python",
   "name": "python",
   "nbconvert_exporter": "python",
   "pygments_lexer": "ipython3",
   "version": "3.10.8"
  },
  "orig_nbformat": 4,
  "vscode": {
   "interpreter": {
    "hash": "301a17a29b57d3836b7901af1621afd6d2b1f2298b9c7949191147cf2fea93e3"
   }
  }
 },
 "nbformat": 4,
 "nbformat_minor": 2
}
