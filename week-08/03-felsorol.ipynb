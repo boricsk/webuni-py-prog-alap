{
 "cells": [
  {
   "cell_type": "code",
   "execution_count": 1,
   "metadata": {},
   "outputs": [
    {
     "name": "stdout",
     "output_type": "stream",
     "text": [
      "Hétköznap\n",
      "Szabadnap\n",
      "Munkaszöneti nap\n"
     ]
    }
   ],
   "source": [
    "#Felsorolás tipus\n",
    "'''\n",
    "Kategorikus adatok tárolására szolg. Nézzük a mérési skálákat, ezek lehetnek:\n",
    "-Kategorikus pl. szinek (a kéket meg a pisosat nem lehet összehasonlítani)\n",
    "-Sorrendi pl. rangsor\n",
    "-Intervallum pl. hőmérséglet\n",
    "-Arány pl. hossz\n",
    "Általában enum tipus és nyelvi elem, de a pythonban ez az Enum osztály az enum könyvtáron belül.\n",
    "\n",
    "'''\n",
    "\n",
    "from enum import Enum\n",
    "\n",
    "class Napok(Enum):\n",
    "    HÉTFŐ = 1\n",
    "    KEDD = 2\n",
    "    SZERDA = 3\n",
    "    CSUTORTOK = 4\n",
    "    PENTEK = 5\n",
    "    SZOMBAT = 6\n",
    "    VASARNAP = 7\n",
    "\n",
    "#A konvenció az hogy nagybetűket használunk. Explicit értéket meg kell adni, nem lehet érték nélkül.\n",
    "\n",
    "from enum import Enum, auto\n",
    "\n",
    "class Napok(Enum):\n",
    "    HÉTFŐ = auto()\n",
    "    KEDD = auto()\n",
    "    SZERDA = auto()\n",
    "    CSUTORTOK = auto()\n",
    "    PENTEK = auto()\n",
    "    SZOMBAT = auto()\n",
    "    VASARNAP = auto()\n",
    "\n",
    "#Tipikus használata match-el történik.\n",
    "\n",
    "def nap_tipus(nap):\n",
    "    match nap:\n",
    "        case Napok.HÉTFŐ | Napok.KEDD | Napok.SZERDA | Napok.CSUTORTOK | Napok.PENTEK:\n",
    "            return 'Hétköznap'\n",
    "        case Napok.SZOMBAT:\n",
    "            return 'Szabadnap'\n",
    "        case Napok.VASARNAP:\n",
    "            return 'Munkaszüeti nap'\n",
    "\n",
    "print(nap_tipus(Napok.SZERDA))\n",
    "print(nap_tipus(Napok.SZOMBAT))\n",
    "print(nap_tipus(Napok.VASARNAP))\n"
   ]
  },
  {
   "cell_type": "code",
   "execution_count": 2,
   "metadata": {},
   "outputs": [
    {
     "name": "stdout",
     "output_type": "stream",
     "text": [
      "Napok.CSUTORTOK\n",
      "<Napok.CSUTORTOK: 4>\n",
      "<enum 'Napok'>\n",
      "CSUTORTOK\n",
      "4\n"
     ]
    }
   ],
   "source": [
    "#Részletei\n",
    "nap = Napok.CSUTORTOK\n",
    "print(nap)\n",
    "print(repr(nap)) # magadja a belső értéket is\n",
    "print(type(nap)) # tipusa\n",
    "print(nap.name) # neve\n",
    "print(nap.value) # értéke"
   ]
  },
  {
   "cell_type": "code",
   "execution_count": 3,
   "metadata": {},
   "outputs": [
    {
     "name": "stdout",
     "output_type": "stream",
     "text": [
      "True\n",
      "True\n"
     ]
    },
    {
     "ename": "TypeError",
     "evalue": "'<' not supported between instances of 'Napok' and 'Napok'",
     "output_type": "error",
     "traceback": [
      "\u001b[1;31m---------------------------------------------------------------------------\u001b[0m",
      "\u001b[1;31mTypeError\u001b[0m                                 Traceback (most recent call last)",
      "Cell \u001b[1;32mIn [3], line 4\u001b[0m\n\u001b[0;32m      2\u001b[0m \u001b[39mprint\u001b[39m(Napok\u001b[39m.\u001b[39mHÉTFŐ \u001b[39m!=\u001b[39m Napok\u001b[39m.\u001b[39mCSUTORTOK)\n\u001b[0;32m      3\u001b[0m \u001b[39mprint\u001b[39m(Napok\u001b[39m.\u001b[39mKEDD \u001b[39m==\u001b[39m Napok\u001b[39m.\u001b[39mKEDD)\n\u001b[1;32m----> 4\u001b[0m \u001b[39mprint\u001b[39m(Napok\u001b[39m.\u001b[39;49mHÉTFŐ \u001b[39m<\u001b[39;49m Napok\u001b[39m.\u001b[39;49mCSUTORTOK)\n\u001b[0;32m      5\u001b[0m \u001b[39mprint\u001b[39m(Napok\u001b[39m.\u001b[39mKedd \u001b[39m+\u001b[39m Napok\u001b[39m.\u001b[39mCSUTORTOK \u001b[39m==\u001b[39m Napok\u001b[39m.\u001b[39mPENTEK)\n",
      "\u001b[1;31mTypeError\u001b[0m: '<' not supported between instances of 'Napok' and 'Napok'"
     ]
    }
   ],
   "source": [
    "#Összehasonlítások\n",
    "print(Napok.HÉTFŐ != Napok.CSUTORTOK)\n",
    "print(Napok.KEDD == Napok.KEDD)\n",
    "print(Napok.HÉTFŐ < Napok.CSUTORTOK) # nem használható mert a sorrendiség az enumban nem számít\n",
    "print(Napok.Kedd + Napok.CSUTORTOK == Napok.PENTEK) # nem használható\n"
   ]
  },
  {
   "cell_type": "code",
   "execution_count": 4,
   "metadata": {},
   "outputs": [
    {
     "name": "stdout",
     "output_type": "stream",
     "text": [
      "PIROS 1\n",
      "ZOLD 2\n",
      "KEK 4\n",
      "SARGA 3\n",
      "ROZSASZIN 5\n",
      "CIAN 6\n",
      "FEHER 7\n"
     ]
    }
   ],
   "source": [
    "#Flag felsorolás tipus\n",
    "'''\n",
    "Jelzőbitek tárolására van, az a különbség hogy az auto nem egyessével generálja a számokat, hanem a 2 hatványait rendel hozzájuk.\n",
    "'''\n",
    "\n",
    "from enum import Flag, auto\n",
    "\n",
    "class Szin(Flag):\n",
    "    PIROS = auto()\n",
    "    ZOLD = auto()\n",
    "    KEK = auto()\n",
    "    SARGA = PIROS | ZOLD\n",
    "    ROZSASZIN = PIROS | KEK #ebben az esetben az auto által generát értékek összegződnek\n",
    "    CIAN = ZOLD | KEK\n",
    "    FEHER = PIROS | ZOLD | KEK\n",
    "    \n",
    "for szin in Szin:\n",
    "    print(szin.name, szin.value)"
   ]
  }
 ],
 "metadata": {
  "kernelspec": {
   "display_name": "Python 3.10.8 64-bit",
   "language": "python",
   "name": "python3"
  },
  "language_info": {
   "codemirror_mode": {
    "name": "ipython",
    "version": 3
   },
   "file_extension": ".py",
   "mimetype": "text/x-python",
   "name": "python",
   "nbconvert_exporter": "python",
   "pygments_lexer": "ipython3",
   "version": "3.10.8"
  },
  "orig_nbformat": 4,
  "vscode": {
   "interpreter": {
    "hash": "301a17a29b57d3836b7901af1621afd6d2b1f2298b9c7949191147cf2fea93e3"
   }
  }
 },
 "nbformat": 4,
 "nbformat_minor": 2
}
