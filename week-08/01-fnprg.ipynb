{
 "cells": [
  {
   "cell_type": "code",
   "execution_count": 2,
   "metadata": {},
   "outputs": [
    {
     "name": "stdout",
     "output_type": "stream",
     "text": [
      "5\n"
     ]
    }
   ],
   "source": [
    "#Funkcionális programozás.\n",
    "#Idmételés\n",
    "\n",
    "def osszead(a , b):\n",
    "    return a + b\n",
    "\n",
    "print(osszead(3, 2))\n"
   ]
  },
  {
   "cell_type": "code",
   "execution_count": 3,
   "metadata": {},
   "outputs": [
    {
     "name": "stdout",
     "output_type": "stream",
     "text": [
      "3\n",
      "alma\n",
      "(2, [1, 2, 4], True)\n",
      "True\n",
      "{'x': 5, 'y': 'banan'}\n",
      "banan\n"
     ]
    }
   ],
   "source": [
    "#*args, **kwargs\n",
    "\"\"\"\n",
    "Ha nem tudjuk előre h a fgv-nek hány paramétere van. Más nyelvekben ... . Ezzel akárhány paramétert fel lehet sorolni.\n",
    "a lenti esetben az args a 2, [1, 2, 4] és a True. A kwargs kulcs - érték párokkal dolgozik.\n",
    "\"\"\"\n",
    "def f(a, b, *args, **kwargs): #ha mindkettő ott van lényeges a sorrend\n",
    "    print(a)\n",
    "    print(b)\n",
    "    print(args)\n",
    "    print(args[2])\n",
    "    print(kwargs)\n",
    "    print(kwargs['y'])\n",
    "\n",
    "f(3, 'alma', 2, [1, 2, 4], True, x=5, y='banan') #sorrend fontos! nem lehet a hivast x=5 el kezdeni.\n",
    "\n"
   ]
  },
  {
   "cell_type": "code",
   "execution_count": 5,
   "metadata": {},
   "outputs": [
    {
     "name": "stdout",
     "output_type": "stream",
     "text": [
      "1 2 3 4 5 6\n"
     ]
    }
   ],
   "source": [
    "# / * paraméterek\n",
    "'''\n",
    "Sorrend itt is lényeges. Az a, b mindenkép pozicionális paraméter. Az e, f kulcs - érték, az c, d mindkettő lehet. Megkötés : ha a / után kulcs-érték párral kezdtünk \n",
    "az összesenek annak kell lenni, nem lehet pozicionálsira visszatérni.\n",
    "'''\n",
    "def f(a, b, /, c, d, *, e, f):\n",
    "    print(a, b, c, d, e, f)\n",
    "    \n",
    "f(1, 2, 3, 4, e=5, f=6)\n",
    "f(1, 2, c=3, d=4, e=5, f=6)"
   ]
  },
  {
   "cell_type": "code",
   "execution_count": 6,
   "metadata": {},
   "outputs": [
    {
     "name": "stdout",
     "output_type": "stream",
     "text": [
      "\n",
      "    Összeadja a maraméterül kapott értéket.\n",
      "    \n",
      "    param a egyik tag\n",
      "    param b másik tag.\n",
      "    \n"
     ]
    }
   ],
   "source": [
    "#Függvény dokumentáció\n",
    "\n",
    "def osszead(a, b):\n",
    "    '''\n",
    "    Összeadja a maraméterül kapott értéket.\n",
    "    \n",
    "    param a egyik tag\n",
    "    param b másik tag.\n",
    "    '''\n",
    "    return a + b\n",
    "\n",
    "print(osszead.__doc__)"
   ]
  },
  {
   "cell_type": "code",
   "execution_count": 7,
   "metadata": {},
   "outputs": [
    {
     "name": "stdout",
     "output_type": "stream",
     "text": [
      "5\n",
      "6\n"
     ]
    }
   ],
   "source": [
    "#Funkcionális programozás\n",
    "\"\"\"\n",
    "First Class Citizen, azaz a fgv-t lehet értékül adni, lehet paraméter és visszatérési érték is.\n",
    "Az hogy a fgv lehet paraméter nem azt jelenti, hogy af és bf fgv esetén a bf-et az af paraméterében hívjuk, hanem amikor a fgv nevét adjuk át.\n",
    "\n",
    "\"\"\"\n",
    "\n",
    "def osszead(a, b):\n",
    "    return a + b\n",
    "def szoroz(a, b):\n",
    "    return a * b\n",
    "def vegrehajt(muvelet, a, b): # a muvelet a meghívható fgv.\n",
    "    return muvelet(a, b)\n",
    "\n",
    "print(vegrehajt(osszead, 2, 3)) # nem kell () hiváskor\n",
    "print(vegrehajt(szoroz, 2, 3))\n"
   ]
  },
  {
   "cell_type": "code",
   "execution_count": 9,
   "metadata": {},
   "outputs": [
    {
     "name": "stdout",
     "output_type": "stream",
     "text": [
      "5\n",
      "6\n"
     ]
    }
   ],
   "source": [
    "#Függvény mint visszatérési érték\n",
    "\n",
    "def osszead(a, b):\n",
    "    return a + b\n",
    "def szoroz(a, b):\n",
    "    return a * b\n",
    "def muvelet(jel):\n",
    "    if jel == '+':\n",
    "        return osszead #fuggveny a visszatérés\n",
    "    elif jel == '*':\n",
    "        return szoroz    \n",
    "def vegrehajt(jel, a, b): \n",
    "    return muvelet(jel)(a, b)\n",
    "\n",
    "print(vegrehajt('+', 2, 3)) \n",
    "print(vegrehajt('*', 2, 3))"
   ]
  },
  {
   "cell_type": "code",
   "execution_count": 10,
   "metadata": {},
   "outputs": [
    {
     "name": "stdout",
     "output_type": "stream",
     "text": [
      "5\n",
      "6\n"
     ]
    }
   ],
   "source": [
    "#Függvény mint érték\n",
    "def osszead(a, b):\n",
    "    return a + b\n",
    "def szoroz(a, b):\n",
    "    return a * b\n",
    "def muvelet(jel):\n",
    "    jel_muvelet_szotar = {'+': osszead, #kulcs a muveleti jel az ertek a fgv, fgv nem lehet kulcs\n",
    "                          '*': szoroz,\n",
    "                          }\n",
    "    return jel_muvelet_szotar[jel]    \n",
    "def vegrehajt(jel, a, b): \n",
    "    return muvelet(jel)(a, b)\n",
    "\n",
    "print(vegrehajt('+', 2, 3)) \n",
    "print(vegrehajt('*', 2, 3))"
   ]
  },
  {
   "cell_type": "code",
   "execution_count": 11,
   "metadata": {},
   "outputs": [
    {
     "name": "stdout",
     "output_type": "stream",
     "text": [
      "5\n",
      "6\n"
     ]
    }
   ],
   "source": [
    "#A lambda\n",
    "\n",
    "def vegrehajt(muvelet, a, b):\n",
    "    return muvelet(a, b)\n",
    "\n",
    "print(vegrehajt(lambda a, b: a + b, 3, 2))\n",
    "print(vegrehajt(lambda a, b: a * b, 3, 2))\n",
    "\n",
    "'''\n",
    "Nem kell a fgv-ket definiálni, hanem a lambdában definiáljuk a műveletet. Csak akkor mukordik, ha 1 db utasitasból áll az egész fgv.\n",
    "'''"
   ]
  },
  {
   "cell_type": "code",
   "execution_count": 12,
   "metadata": {},
   "outputs": [
    {
     "name": "stdout",
     "output_type": "stream",
     "text": [
      "5\n",
      "6\n"
     ]
    }
   ],
   "source": [
    "#Lambda mint fgv érték\n",
    "def muvelet(jel):\n",
    "    jel_muvelet_szotar = {'+': lambda a, b: a + b, \n",
    "                          '*': lambda a, b: a * b,\n",
    "                          }\n",
    "    return jel_muvelet_szotar[jel]    \n",
    "def vegrehajt(jel, a, b): \n",
    "    return muvelet(jel)(a, b)\n",
    "\n",
    "print(vegrehajt('+', 2, 3)) \n",
    "print(vegrehajt('*', 2, 3))"
   ]
  },
  {
   "cell_type": "code",
   "execution_count": 13,
   "metadata": {},
   "outputs": [
    {
     "name": "stdout",
     "output_type": "stream",
     "text": [
      "5\n",
      "6\n"
     ]
    }
   ],
   "source": [
    "#Lambda mint visszatérési érték\n",
    "def muvelet(jel):\n",
    "    if jel == '+':\n",
    "        return lambda a, b: a + b \n",
    "    elif jel == '*':\n",
    "        return lambda a, b: a * b    \n",
    "def vegrehajt(jel, a, b): \n",
    "    return muvelet(jel)(a, b)\n",
    "\n",
    "print(vegrehajt('+', 2, 3)) \n",
    "print(vegrehajt('*', 2, 3))"
   ]
  },
  {
   "cell_type": "code",
   "execution_count": 14,
   "metadata": {},
   "outputs": [
    {
     "name": "stdout",
     "output_type": "stream",
     "text": [
      "5\n"
     ]
    }
   ],
   "source": [
    "#Closure azaz magába foglalás\n",
    "def novel(kulso_parameter):\n",
    "    def osszead(belso_parameter):\n",
    "        return kulso_parameter + belso_parameter\n",
    "    return osszead\n",
    "\n",
    "print(novel(3)(2)) #curing hivas"
   ]
  },
  {
   "cell_type": "code",
   "execution_count": 15,
   "metadata": {},
   "outputs": [
    {
     "name": "stdout",
     "output_type": "stream",
     "text": [
      "Fuggvenyhivas : osszead(2, 3)\n",
      "osszead eredmeny : 5\n",
      "Fuggvenyhivas : szoroz(4, 5)\n",
      "szoroz eredmeny : 20\n",
      "20\n"
     ]
    }
   ],
   "source": [
    "#Dekorátor (a closure tipikus felhasználási helye)\n",
    "def naplozo_dekorator(fuggveny):\n",
    "    def naploz(*parameterek):\n",
    "        print(f'Fuggvenyhivas : {fuggveny.__name__}{parameterek}')\n",
    "        eredmeny = fuggveny(*parameterek) #maghivja a fgv-t a paraméterekkel\n",
    "        print(f'{fuggveny.__name__} eredmeny : {eredmeny}')\n",
    "        return eredmeny\n",
    "    return naploz\n",
    "@naplozo_dekorator\n",
    "def osszead(a, b):\n",
    "    return a + b\n",
    "@naplozo_dekorator\n",
    "def szoroz(a, b):\n",
    "    return a * b\n",
    "\n",
    "print(szoroz(4, osszead(2, 3)))"
   ]
  },
  {
   "cell_type": "code",
   "execution_count": 16,
   "metadata": {},
   "outputs": [
    {
     "name": "stdout",
     "output_type": "stream",
     "text": [
      "[3, 5, 7]\n"
     ]
    }
   ],
   "source": [
    "#Folyamaok filter\n",
    "\n",
    "lista = [2, 3, 5, 7, 8]\n",
    "paratlan_szamok = filter(lambda x: x % 2 == 1, lista) #filter(szurofeltetel (predikatum) eredmenye logikai, lita, amin szurni szeretnenk)\n",
    "\n",
    "print(list(paratlan_szamok))"
   ]
  },
  {
   "cell_type": "code",
   "execution_count": 17,
   "metadata": {},
   "outputs": [
    {
     "name": "stdout",
     "output_type": "stream",
     "text": [
      "[4, 6, 10, 14, 16]\n"
     ]
    }
   ],
   "source": [
    "#Folyamok map\n",
    "ketszeres_szamok = map(lambda x: 2*x, lista) #átalakitunk valamit valamivé, 1 param egy fgv, amelyik visszaadja a kivant eredmenyt\n",
    "print(list(ketszeres_szamok))"
   ]
  },
  {
   "cell_type": "code",
   "execution_count": 18,
   "metadata": {},
   "outputs": [
    {
     "name": "stdout",
     "output_type": "stream",
     "text": [
      "25\n"
     ]
    }
   ],
   "source": [
    "#Folyamok reduce\n",
    "from functools import reduce\n",
    "osszeg = reduce(lambda a, b : a + b, lista) #ketparameteres fgv-kell, azt csinalja, hogy veszi az 1, 2 elemet összeadja, majd veszi a 3. elemet és az eredmenyhez hozzaadja...\n",
    "print(osszeg)\n"
   ]
  },
  {
   "cell_type": "code",
   "execution_count": 19,
   "metadata": {},
   "outputs": [
    {
     "name": "stdout",
     "output_type": "stream",
     "text": [
      "30\n"
     ]
    }
   ],
   "source": [
    "paratlan_ketszeres_osszeg = reduce(lambda a, b: a + b, map(lambda x: x*2, filter(lambda x : x % 2 == 1, lista)))\n",
    "print(paratlan_ketszeres_osszeg)\n",
    "\"\"\"\n",
    "A folyamokat egymásba szokták ágyazni. Lentről fölfele kell olvasni. Itt csak implicit ciklus van, explicit nincs.\n",
    "A map és a filter csak kiválasztják az adatokat (nem kiváltó művelet), a reduce a kiváltó fgv, itt kapjuk meg az eredményt.\n",
    "\"\"\""
   ]
  }
 ],
 "metadata": {
  "kernelspec": {
   "display_name": "Python 3.11.0 64-bit",
   "language": "python",
   "name": "python3"
  },
  "language_info": {
   "codemirror_mode": {
    "name": "ipython",
    "version": 3
   },
   "file_extension": ".py",
   "mimetype": "text/x-python",
   "name": "python",
   "nbconvert_exporter": "python",
   "pygments_lexer": "ipython3",
   "version": "3.11.0"
  },
  "orig_nbformat": 4,
  "vscode": {
   "interpreter": {
    "hash": "df1aea1c7186bdc4ca14c87f6074eed6922d5fa596f2602f29be5fe2c335b5f2"
   }
  }
 },
 "nbformat": 4,
 "nbformat_minor": 2
}
