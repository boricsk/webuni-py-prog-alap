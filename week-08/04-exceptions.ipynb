{
 "cells": [
  {
   "cell_type": "code",
   "execution_count": 1,
   "metadata": {},
   "outputs": [
    {
     "name": "stdout",
     "output_type": "stream",
     "text": [
      "Hiba volt a művelet során\n"
     ]
    }
   ],
   "source": [
    "#Kivételkezelés\n",
    "'''\n",
    "A futás alatt keletkezett javithatatatlan hibák kezeésére van, pl hibás paraméterrel hivott fvg, adatbázis v. háló nem elérhető, nem létező file stb.\n",
    "Azaz nem kódhibával kapcsolatos hibák kezelése. Mi hogyan kezelnénk? Minden ilyen esetben kodban kell a hibakezelést lehezelni, megvizsgálva az összes hibalehetőséget\n",
    "ami bonyi kódot eredményezhet.\n",
    "A kivételkezelés előnye az, hogy elkülönül a hibás és a jó lefutás és visszatérési érték csaj jó lefutásnál lesz.\n",
    "Nullával való osztás:\n",
    "'''\n",
    "\n",
    "def oszt(a, b):\n",
    "    return a // b\n",
    "\n",
    "#print(1, 0) #Zero division error kivétel.\n",
    "\n",
    "#Kivétel elkapása\n",
    "def oszt(a, b):\n",
    "    try: # után vannak azok az utasítások, amelyek a hibát generálgatják\n",
    "        return a // b\n",
    "    except: # után pedig a hibakezelére vonatkozó utasítások, ez csak hiba esetén fut le\n",
    "        return 'Hiba volt a művelet során'\n",
    "\n",
    "print(oszt(1,0))"
   ]
  },
  {
   "cell_type": "code",
   "execution_count": 2,
   "metadata": {},
   "outputs": [
    {
     "name": "stdout",
     "output_type": "stream",
     "text": [
      "Hiba történt a művelet során : integer division or modulo by zero\n"
     ]
    }
   ],
   "source": [
    "#Kivételek részletei\n",
    "\n",
    "def oszt(a, b):\n",
    "    try:\n",
    "        return a // b\n",
    "    except Exception as error:\n",
    "        return f'Hiba történt a művelet során : {error}'\n",
    "\n",
    "print(oszt(1, 0))"
   ]
  },
  {
   "cell_type": "code",
   "execution_count": 4,
   "metadata": {},
   "outputs": [
    {
     "name": "stdout",
     "output_type": "stream",
     "text": [
      "Hiba történt a művelet során : integer division or modulo by zero\n"
     ]
    },
    {
     "ename": "TypeError",
     "evalue": "unsupported operand type(s) for //: 'int' and 'NoneType'",
     "output_type": "error",
     "traceback": [
      "\u001b[1;31m---------------------------------------------------------------------------\u001b[0m",
      "\u001b[1;31mTypeError\u001b[0m                                 Traceback (most recent call last)",
      "Cell \u001b[1;32mIn [4], line 10\u001b[0m\n\u001b[0;32m      7\u001b[0m         \u001b[39mreturn\u001b[39;00m \u001b[39mf\u001b[39m\u001b[39m'\u001b[39m\u001b[39mHiba történt a művelet során : \u001b[39m\u001b[39m{\u001b[39;00merror\u001b[39m}\u001b[39;00m\u001b[39m'\u001b[39m\n\u001b[0;32m      9\u001b[0m \u001b[39mprint\u001b[39m(oszt(\u001b[39m1\u001b[39m, \u001b[39m0\u001b[39m))\n\u001b[1;32m---> 10\u001b[0m \u001b[39mprint\u001b[39m(oszt(\u001b[39m1\u001b[39;49m, \u001b[39mNone\u001b[39;49;00m))\n",
      "Cell \u001b[1;32mIn [4], line 5\u001b[0m, in \u001b[0;36moszt\u001b[1;34m(a, b)\u001b[0m\n\u001b[0;32m      3\u001b[0m \u001b[39mdef\u001b[39;00m \u001b[39moszt\u001b[39m(a, b):\n\u001b[0;32m      4\u001b[0m     \u001b[39mtry\u001b[39;00m:\n\u001b[1;32m----> 5\u001b[0m         \u001b[39mreturn\u001b[39;00m a \u001b[39m/\u001b[39;49m\u001b[39m/\u001b[39;49m b\n\u001b[0;32m      6\u001b[0m     \u001b[39mexcept\u001b[39;00m \u001b[39mZeroDivisionError\u001b[39;00m \u001b[39mas\u001b[39;00m error: \u001b[39m# a vizsgálandó hiba definiálása\u001b[39;00m\n\u001b[0;32m      7\u001b[0m         \u001b[39mreturn\u001b[39;00m \u001b[39mf\u001b[39m\u001b[39m'\u001b[39m\u001b[39mHiba történt a művelet során : \u001b[39m\u001b[39m{\u001b[39;00merror\u001b[39m}\u001b[39;00m\u001b[39m'\u001b[39m\n",
      "\u001b[1;31mTypeError\u001b[0m: unsupported operand type(s) for //: 'int' and 'NoneType'"
     ]
    }
   ],
   "source": [
    "#Speciális kivétel. Az előzőeben minden kivételt vizsgáltunk, de meg lehet azt is adni, hogy melyikeket nézze csak.\n",
    "\n",
    "def oszt(a, b):\n",
    "    try:\n",
    "        return a // b\n",
    "    except ZeroDivisionError as error: # a vizsgálandó hiba definiálása\n",
    "        return f'Hiba történt a művelet során : {error}'\n",
    "\n",
    "print(oszt(1, 0))\n",
    "print(oszt(1, None)) # itt már leáll, mert ezt a kivételt nem figyeljük."
   ]
  },
  {
   "cell_type": "code",
   "execution_count": 5,
   "metadata": {},
   "outputs": [
    {
     "name": "stdout",
     "output_type": "stream",
     "text": [
      "Hiba történt a művelet során : integer division or modulo by zero\n",
      "Hiba történt a művelet során : unsupported operand type(s) for //: 'int' and 'NoneType'\n"
     ]
    }
   ],
   "source": [
    "#Több except ág megadása\n",
    "\n",
    "def oszt(a, b):\n",
    "    try:\n",
    "        return a // b\n",
    "    except ZeroDivisionError as error: # a vizsgálandó hiba definiálása\n",
    "        return f'Hiba történt a művelet során : {error}'\n",
    "    except TypeError as error: # a vizsgálandó hiba definiálása 2\n",
    "        return f'Hiba történt a művelet során : {error}'\n",
    "    except Exception as error: # a vizsgálandó hiba definiálása 3 célszerű a specifikus hibákkal kezdeni és haladni az általános felé\n",
    "        return f'Hiba történt a művelet során : {error}'\n",
    "\n",
    "print(oszt(1, 0))\n",
    "print(oszt(1, None)) # itt már leáll, mert ezt a kivételt nem figyeljük."
   ]
  },
  {
   "cell_type": "code",
   "execution_count": 6,
   "metadata": {},
   "outputs": [
    {
     "name": "stdout",
     "output_type": "stream",
     "text": [
      "Hiba történt a művelet során : integer division or modulo by zero\n",
      "Hiba történt a művelet során : unsupported operand type(s) for //: 'int' and 'NoneType'\n"
     ]
    }
   ],
   "source": [
    "#Egyszerre több kivételtipust is el lehet kapni\n",
    "\n",
    "def oszt(a, b):\n",
    "    try:\n",
    "        return a // b\n",
    "    except (ZeroDivisionError, TypeError) as error: # a vizsgálandó hibák definiálása\n",
    "        return f'Hiba történt a művelet során : {error}'\n",
    "\n",
    "print(oszt(1, 0))\n",
    "print(oszt(1, None)) "
   ]
  },
  {
   "cell_type": "code",
   "execution_count": 9,
   "metadata": {},
   "outputs": [
    {
     "name": "stdout",
     "output_type": "stream",
     "text": [
      "Valamilyen hiba volt : unsupported operand type(s) for //: 'int' and 'NoneType'\n",
      "Hiba történt a művelet során : integer division or modulo by zero\n"
     ]
    }
   ],
   "source": [
    "#Kivételek a hivási láncban. A kivételek a hívási láncban továbbadódnak.\n",
    "\n",
    "def osztast_vegrehajt(a, b):\n",
    "    try:\n",
    "        return a // b\n",
    "    except (ZeroDivisionError) as e:\n",
    "        return f'Hiba történt a művelet során : {e}'\n",
    "\n",
    "def osztast_tovabbit(a, b):\n",
    "    eredmeny = osztast_vegrehajt(a, b)\n",
    "    return eredmeny\n",
    "\n",
    "def oszt(a,b):\n",
    "    try:\n",
    "        return osztast_tovabbit(a,b)\n",
    "    except Exception as e:\n",
    "        return f'Valamilyen hiba volt : {e}' \n",
    "\n",
    "print(oszt(1, None))\n",
    "print(oszt(1, 0))\n"
   ]
  },
  {
   "cell_type": "code",
   "execution_count": 10,
   "metadata": {},
   "outputs": [
    {
     "name": "stdout",
     "output_type": "stream",
     "text": [
      "Ez mingíg lefut\n",
      "Hiba történt a művelet során : integer division or modulo by zero\n"
     ]
    }
   ],
   "source": [
    "# Mindenképp lefutó ág (Finally)\n",
    "\n",
    "def oszt(a,b):\n",
    "    try:\n",
    "        return osztast_tovabbit(a,b)\n",
    "    except Exception as e: # ebből több ág is lehet\n",
    "        return f'Valamilyen hiba volt : {e}'\n",
    "    finally:\n",
    "        print('Ez mingíg lefut')\n",
    "\n",
    "print(oszt(1, 0))"
   ]
  },
  {
   "cell_type": "code",
   "execution_count": 11,
   "metadata": {},
   "outputs": [
    {
     "name": "stdout",
     "output_type": "stream",
     "text": [
      "Előtte\n",
      "Számitás előtt\n",
      "Szamitás után\n",
      "Ez mindíg lefut.\n",
      "Utánna\n",
      "2\n",
      "Előtte\n",
      "Számitás előtt\n",
      "Ez mindíg lefut.\n",
      "Utánna\n",
      "Nullával való osztás integer division or modulo by zero\n"
     ]
    }
   ],
   "source": [
    "#Általános kód\n",
    "def oszt(a, b):\n",
    "    print('Előtte')\n",
    "    try:\n",
    "        print('Számitás előtt')\n",
    "        eredmeny = a // b\n",
    "        print('Szamitás után')\n",
    "    except ZeroDivisionError as e:\n",
    "        eredmeny = f'Nullával való osztás {e}'\n",
    "    finally:\n",
    "        print('Ez mindíg lefut.')\n",
    "    print('Utánna')\n",
    "    return eredmeny\n",
    "\n",
    "print(oszt(6, 3))\n",
    "print(oszt(1, 0))"
   ]
  },
  {
   "cell_type": "code",
   "execution_count": null,
   "metadata": {},
   "outputs": [],
   "source": [
    "#Saját kivételek\n",
    "\n",
    "class SajatKivetel(Exception):\n",
    "    pass\n",
    "\n",
    "class HibasAdatvivetel(SajatKivetel):\n",
    "    pass\n",
    "\n",
    "class OsztasKivetel(SajatKivetel):\n",
    "    pass"
   ]
  },
  {
   "cell_type": "code",
   "execution_count": 3,
   "metadata": {},
   "outputs": [
    {
     "name": "stdout",
     "output_type": "stream",
     "text": [
      "3\n",
      "Az eredmény végtelen\n",
      "Hiányzik a nevező vagy a számláló\n"
     ]
    }
   ],
   "source": [
    "#raise kivétel kiváltása\n",
    "\n",
    "class SajatKivetel(Exception):\n",
    "    pass\n",
    "\n",
    "class HibasAdatvivetel(SajatKivetel):\n",
    "    pass\n",
    "\n",
    "class OsztasKivetel(SajatKivetel):\n",
    "    pass\n",
    "\n",
    "def osztast_vegrehajt(a, b):\n",
    "    if a is None or b is None:\n",
    "        raise HibasAdatvivetel('Hiányzik a nevező vagy a számláló')\n",
    "    if type(a) is not int or type(b) is not int:\n",
    "        raise HibasAdatvivetel('A nevezőnek vagy a számlálónak hibás a típusa.')\n",
    "    if b == 0:\n",
    "        if a == 0:\n",
    "            raise OsztasKivetel('Az eredmény nem definiált')\n",
    "        elif a > 0:\n",
    "            raise OsztasKivetel('Az eredmény végtelen')\n",
    "        else:\n",
    "            raise OsztasKivetel('Az eredmény - végtelen')\n",
    "    return a // b\n",
    "\n",
    "def oszt(a, b):\n",
    "    try:\n",
    "        return osztast_vegrehajt(a, b)\n",
    "    except SajatKivetel as sk:\n",
    "        return sk\n",
    "\n",
    "print(oszt(6, 2))\n",
    "print(oszt(1, 0))\n",
    "print(oszt(6, None))\n"
   ]
  },
  {
   "cell_type": "code",
   "execution_count": null,
   "metadata": {},
   "outputs": [],
   "source": [
    "# Kivétel hierarchia : https://dotnettutorials.net/lesson/exception-handling-in-python/\n",
    "'''\n",
    "Kitekintés.\n",
    "Más nyelveknél bonyolultabb a hierarchia\n",
    "Jelezni kell a fgv elején h milyen kivételeket dobhat.\n",
    "Kezelt (fel kell sorolni) és nem kezelt kivételek (nem kell felsorolni)\n",
    "Elbonyolítja a kódot\n",
    "Távoli metódusok kivételei neheten kezelhetőek (Távoli metódus)\n",
    "'''"
   ]
  }
 ],
 "metadata": {
  "kernelspec": {
   "display_name": "Python 3.10.8 64-bit",
   "language": "python",
   "name": "python3"
  },
  "language_info": {
   "codemirror_mode": {
    "name": "ipython",
    "version": 3
   },
   "file_extension": ".py",
   "mimetype": "text/x-python",
   "name": "python",
   "nbconvert_exporter": "python",
   "pygments_lexer": "ipython3",
   "version": "3.10.8"
  },
  "orig_nbformat": 4,
  "vscode": {
   "interpreter": {
    "hash": "301a17a29b57d3836b7901af1621afd6d2b1f2298b9c7949191147cf2fea93e3"
   }
  }
 },
 "nbformat": 4,
 "nbformat_minor": 2
}
