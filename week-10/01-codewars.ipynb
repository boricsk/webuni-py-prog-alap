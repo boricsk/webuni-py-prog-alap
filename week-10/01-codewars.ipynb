{
 "cells": [
  {
   "cell_type": "code",
   "execution_count": null,
   "metadata": {},
   "outputs": [],
   "source": [
    "'''\n",
    "A feladat:\n",
    "A kapott szám alatt összeadni minden olyan számot ami 3-al és 5-el osztható, ha a kapott szám negatív 0-val térjen vissza,\n",
    "ha 3-al és 5-el is osztható csak az egyiket számolja.\n",
    "'''\n",
    "\n",
    "def solution(number):\n",
    "    sum = 0\n",
    "    if number < 0: return 0\n",
    "    for i in range(number):\n",
    "        if i % 3==0 or i % 5 == 0:\n",
    "            sum +=i\n",
    "    return sum\n",
    "    \n",
    "#Más megoldás:\n",
    "def solution(number):\n",
    "    return sum(x for x in range(number) if x % 3 == 0 or x % 5 == 0)"
   ]
  },
  {
   "cell_type": "code",
   "execution_count": null,
   "metadata": {},
   "outputs": [],
   "source": [
    "'''\n",
    "Feladat\n",
    "Számoljuk meg a magánhangzókat [a, e, i, o, u] egy mondatban. Az input csak kisbetűket és szóközöket tartalmaz.\n",
    "'''\n",
    "def get_count(sentence):\n",
    "    return len([character for character in sentence if character in 'aeiou'])\n",
    "\n",
    "#Más megoldás\n",
    "import re\n",
    "def getCount(str):\n",
    "    return len(re.findall('[aeiou]', str, re.IGNORECASE)) #IGNORECASE nem tesz különbséget a kis és nagybetűk között. a regex segítségével gyárt egy listát, és ennek a hosszát adja vissza\n",
    "\n",
    "#végigmegy a megadott listán és a .count -al megszámolja a char, tartalmát (ami a listából jön) és összegezi ezeket.\n",
    "def getCount(inputStr):\n",
    "    return sum(inputStr.count(char) for char in ['a', 'e', 'i', 'o', 'u'])\n",
    "\n",
    "#True-false értékeket ad vissza a listának, és ezt összegzi\n",
    "def getCount(string):\n",
    "    return sum([i in list('euioa') for i in string])\n"
   ]
  },
  {
   "cell_type": "code",
   "execution_count": null,
   "metadata": {},
   "outputs": [],
   "source": [
    "\"\"\"\n",
    "egy számról meg kell mondani, hogy páros vagy páratlan\n",
    "\"\"\"\n",
    "\n",
    "def even_or_odd(number):\n",
    "    return \"Even\" if number % 2 == 0 else \"Odd\"\n"
   ]
  },
  {
   "cell_type": "code",
   "execution_count": 1,
   "metadata": {},
   "outputs": [
    {
     "name": "stdout",
     "output_type": "stream",
     "text": [
      "Even\n"
     ]
    }
   ],
   "source": [
    "def even_or_odd(number):\n",
    "    return [\"Even\", \"Odd\"][number % 2]\n",
    "\n",
    "print(even_or_odd(100))"
   ]
  },
  {
   "cell_type": "code",
   "execution_count": null,
   "metadata": {},
   "outputs": [],
   "source": [
    "\"\"\"\n",
    "Feladat:\n",
    "Given an array of integers, find the one that appears an odd number of times.\n",
    "\n",
    "There will always be only one integer that appears an odd number of times.\n",
    "Examples\n",
    "\n",
    "[7] should return 7, because it occurs 1 time (which is odd).\n",
    "[0] should return 0, because it occurs 1 time (which is odd).\n",
    "[1,1,2] should return 2, because it occurs 1 time (which is odd).\n",
    "[0,1,0,1,0] should return 0, because it occurs 3 times (which is odd).\n",
    "[1,2,2,3,3,3,4,3,3,3,2,2,1] should return 4, because it appears 1 time (which is odd).\n",
    "\n",
    "\"\"\"\n",
    "\n",
    "from collections import Counter\n",
    "\n",
    "def find_it(seq):\n",
    "    counted_seq = Counter(seq)\n",
    "    for elem in counted_seq:\n",
    "        if counted_seq[elem] % 2 == 1:\n",
    "            return elem"
   ]
  },
  {
   "cell_type": "code",
   "execution_count": null,
   "metadata": {},
   "outputs": [],
   "source": [
    "'''\n",
    "Feladat\n",
    "Trollok támadják a komment rovatodat!\n",
    "\n",
    "A helyzet kezelésének általános módja az, hogy eltávolítják az összes magánhangzót a trollok megjegyzéseiből, így semlegesítve a fenyegetést.\n",
    "\n",
    "Az Ön feladata, hogy írjon egy függvényt, amely egy karakterláncot vesz fel, és egy új karakterláncot ad vissza az összes magánhangzó eltávolításával.\n",
    "\n",
    "Például a \"Ez a webhely a veszteseknek készült LOL!\" „Ths wbst s fr lsrs LL!” lesz.\n",
    "\n",
    "Megjegyzés: ehhez a kata y-t nem tekintjük magánhangzónak.\n",
    "\n",
    "'''\n",
    "\n",
    "def disemvowel(string_):\n",
    "    return string_.replace('a', '').replace('e', '').replace('u', '').replace('o', '').replace('i', '').replace('A', '').replace('E', '').replace('U', '').replace('O', '').replace('I', '')\n",
    "\n",
    "def disemvowel(string_):\n",
    "    return ''.join([char for char in string_ if char not in 'aeiouAEIOU'])\n",
    "\n",
    "import re\n",
    "def disemvowel(string):\n",
    "    return re.sub('[aeiou]', '', string, flags = re.IGNORECASE)"
   ]
  },
  {
   "cell_type": "code",
   "execution_count": 6,
   "metadata": {},
   "outputs": [
    {
     "name": "stdout",
     "output_type": "stream",
     "text": [
      "149\n"
     ]
    }
   ],
   "source": [
    "\"\"\"\n",
    "Üdvözöljük. Ebben a katában egy szám minden számjegyét négyzetre kell emelni, és összefűzni őket.\n",
    "\n",
    "Például, ha a 9119-et futtatjuk a függvényen, akkor a 811181 jön ki, mert a 9^2 az 81, a 1^2 pedig az 1.\n",
    "\n",
    "Megjegyzés: A függvény egész számot fogad el, és egész számot ad vissza\n",
    "\"\"\"\n",
    "\n",
    "def square_digits(num):\n",
    "    str_num = str(num)\n",
    "    out = ''\n",
    "    for digit in str_num:\n",
    "        out += str(int(digit)*int(digit))\n",
    "    return int(out)\n",
    "print(square_digits(123))\n",
    "\n",
    "def square_digits(num):\n",
    "    return int(''.join(str(int(d)**2) for d in str(num)))\n",
    "\n"
   ]
  },
  {
   "cell_type": "code",
   "execution_count": 14,
   "metadata": {},
   "outputs": [
    {
     "name": "stdout",
     "output_type": "stream",
     "text": [
      "will like more tsisnoc only rettel a and snruter etirW five name with with Kata sgnirtS tneserp sdrow secapS rettel sdrow name\n"
     ]
    }
   ],
   "source": [
    "\"\"\"\n",
    "Írjon egy függvényt, amely egy vagy több szóból álló sztringet vesz fel, és ugyanazt a karakterláncot adja vissza, de mind az öt vagy több betűs szót fordítva \n",
    "(Ugyanúgy, mint ennek a Kata-nak a neve). Az átadott karakterláncok csak betűkből és szóközökből állnak. A szóközök csak akkor jelennek meg, ha egynél több szó van jelen.\n",
    "\n",
    "Példák:\n",
    "spinWords( \"Hey fellow warriors\" ) => returns \"Hey wollef sroirraw\" \n",
    "spinWords( \"This is a test\") => returns \"This is a test\" \n",
    "spinWords( \"This is another test\" )=> returns \"This is rehtona test\"\n",
    "\n",
    "Testing for sentence = \n",
    "'will like more consist only letter a and returns Write five name with with Kata Strings present words Spaces letter words name'\n",
    "'will like more tsisnoc only rettel a and snruter Write five name with with Kata sgnirtS tneserp words secapS rettel words name' \n",
    "\n",
    "should equal \n",
    "'will like more tsisnoc only rettel a and snruter etirW five name with with Kata sgnirtS tneserp sdrow secapS rettel sdrow name'\n",
    "\n",
    "\"\"\"\n",
    "\n",
    "def spin_words(sentence):\n",
    "    # Your code goes here\n",
    "    sentenceList = sentence.split()\n",
    "    output = ''\n",
    "    wordPos = 1\n",
    "    for word in sentenceList:\n",
    "        if len(word) >= 5:\n",
    "            reverseWord = ''.join(reversed([char for char in word]))\n",
    "            if wordPos < len(sentenceList):\n",
    "                output += reverseWord + ' '\n",
    "            else:\n",
    "                output += reverseWord\n",
    "            wordPos += 1\n",
    "        else:\n",
    "            if wordPos < len(sentenceList):\n",
    "                output += word + ' '\n",
    "            else:\n",
    "                output += word\n",
    "            \n",
    "            wordPos += 1\n",
    "    return output\n",
    "\n",
    "print(spin_words('will like more consist only letter a and returns Write five name with with Kata Strings present words Spaces letter words name'))\n",
    "\n",
    "def spin_words(sentence):\n",
    "    # Your code goes here\n",
    "    return \" \".join([x[::-1] if len(x) >= 5 else x for x in sentence.split(\" \")])\n",
    "\n",
    "def spin_words(sentence):\n",
    "    L = sentence.split()\n",
    "    new = []\n",
    "    for word in L:\n",
    "        if len(word) >= 5:\n",
    "            new.append(word[::-1])\n",
    "        else:\n",
    "            new.append(word)\n",
    "    string = \" \".join(new)\n",
    "    return string\n",
    "    "
   ]
  },
  {
   "cell_type": "code",
   "execution_count": 26,
   "metadata": {},
   "outputs": [
    {
     "data": {
      "text/plain": [
       "7"
      ]
     },
     "execution_count": 26,
     "metadata": {},
     "output_type": "execute_result"
    }
   ],
   "source": [
    "'''\n",
    "    16  -->  1 + 6 = 7\n",
    "   942  -->  9 + 4 + 2 = 15  -->  1 + 5 = 6\n",
    "132189  -->  1 + 3 + 2 + 1 + 8 + 9 = 24  -->  2 + 4 = 6\n",
    "493193  -->  4 + 9 + 3 + 1 + 9 + 3 = 29  -->  2 + 9 = 11  -->  1 + 1 = 2\n",
    "'''\n",
    "\n",
    "def digital_root(n):\n",
    "    while n > 9:\n",
    "        n = sum(map(int,str(n)))\n",
    "    return n\n",
    "\n",
    "digital_root(16)"
   ]
  },
  {
   "cell_type": "code",
   "execution_count": null,
   "metadata": {},
   "outputs": [],
   "source": [
    "#Lista pozitív elemeinek a összegzése\n",
    "\n",
    "def positive_sum(arr):\n",
    "    return sum(x for x in arr if x > 0)\n"
   ]
  },
  {
   "cell_type": "code",
   "execution_count": 23,
   "metadata": {},
   "outputs": [],
   "source": [
    "#a kapott szóközzel elválasztott számok közül a legkisebbel és legnagyobbal kell visszatérni\n",
    "\"\"\"\n",
    "high_and_low(\"1 2 3 4 5\")  # return \"5 1\"\n",
    "high_and_low(\"1 2 -3 4 5\") # return \"5 -3\"\n",
    "high_and_low(\"1 9 3 4 -5\") # return \"9 -5\"\n",
    "\n",
    "\"\"\"\n",
    "def high_and_low(numbers):\n",
    "    # ...\n",
    "    numberList = numbers.split()\n",
    "    numberListInt = [eval(i) for i in numberList]\n",
    "    returnValue = str(max(numberListInt)) + ' ' + str(min(numberListInt))\n",
    "    return returnValue\n",
    "\n",
    "high_and_low(\"8 3 -5 42 -1 0 0 -9 4 7 4 -4\")\n",
    "\n",
    "def high_and_low(numbers): #z.\n",
    "    nn = [int(s) for s in numbers.split(\" \")]\n",
    "    return \"%i %i\" % (max(nn),min(nn))\n",
    "\n",
    "def high_and_low(numbers):\n",
    "    nums = sorted(numbers.split(), key=int)\n",
    "    return '{} {}'.format(nums[-1], nums[0])\n",
    "\n",
    "def high_and_low(numbers):\n",
    "  return \" \".join(x(numbers.split(), key=int) for x in (max, min))"
   ]
  },
  {
   "cell_type": "code",
   "execution_count": 5,
   "metadata": {},
   "outputs": [
    {
     "data": {
      "text/plain": [
       "77765421"
      ]
     },
     "execution_count": 5,
     "metadata": {},
     "output_type": "execute_result"
    }
   ],
   "source": [
    "'''\n",
    "Your task is to make a function that can take any non-negative integer as an argument and return it with its digits in descending order. \n",
    "Essentially, rearrange the digits to create the highest possible number.\n",
    "Examples:\n",
    "\n",
    "Input: 42145 Output: 54421\n",
    "Input: 145263 Output: 654321\n",
    "Input: 123456789 Output: 987654321\n",
    "\n",
    "'''\n",
    "\n",
    "def descending_order(num):\n",
    "    # Bust a move right here\n",
    "    return int(''.join(sorted(str(num),reverse=True)))\n",
    "\n",
    "descending_order(12456777) \n",
    "\n",
    "def Descending_Order(num):\n",
    "    return int(''.join(sorted(str(num))[::-1]))\n"
   ]
  },
  {
   "cell_type": "code",
   "execution_count": 15,
   "metadata": {},
   "outputs": [
    {
     "name": "stdout",
     "output_type": "stream",
     "text": [
      "Ati, Kati and 3 others like this\n"
     ]
    }
   ],
   "source": [
    "'''\n",
    "You probably know the \"like\" system from Facebook and other pages. People can \"like\" blog posts, pictures or other items. \n",
    "We want to create the text that should be displayed next to such an item.\n",
    "\n",
    "Implement the function which takes an array containing the names of people that like an item. It must return the display text as shown in the examples:\n",
    "\n",
    "[]                                -->  \"no one likes this\"\n",
    "[\"Peter\"]                         -->  \"Peter likes this\"\n",
    "[\"Jacob\", \"Alex\"]                 -->  \"Jacob and Alex like this\"\n",
    "[\"Max\", \"John\", \"Mark\"]           -->  \"Max, John and Mark like this\"\n",
    "[\"Alex\", \"Jacob\", \"Mark\", \"Max\"]  -->  \"Alex, Jacob and 2 others like this\"\n",
    "\n",
    "Note: For 4 or more names, the number in \"and 2 others\" simply increases.\n",
    "\n",
    "'''\n",
    "\n",
    "def likes(names):\n",
    "    # your code here\n",
    "    if len(names) == 0:\n",
    "        return \"no one likes this\"\n",
    "    elif len(names) == 1:\n",
    "        return f'{names[0]} likes this'\n",
    "    elif len(names) == 2:\n",
    "        return f'{names[0]} and {names[1]} like this'\n",
    "    elif len(names) == 3:\n",
    "        return f'{names[0]}, {names[1]} and {names[2]} like this'\n",
    "    else:\n",
    "        return f'{names[0]}, {names[1]} and {len(names)-2} others like this'\n",
    "\n",
    "print(likes(['Ati','Kati','Mici','Muci','Maci']))\n",
    "\n",
    "def likes(names):\n",
    "    n = len(names)\n",
    "    return {\n",
    "        0: 'no one likes this',\n",
    "        1: '{} likes this', \n",
    "        2: '{} and {} like this', \n",
    "        3: '{}, {} and {} like this', \n",
    "        4: '{}, {} and {others} others like this'\n",
    "    }[min(4, n)].format(*names[:3], others=n-2)\n",
    "\n",
    "def likes(names):\n",
    "    # készítsen szótárt d az összes lehetséges válaszról. A kulcsok a megfelelő számok\n",
    "    #Azok száma, akiknek tetszett.\n",
    "    \n",
    "    # {} helyőrzőket jelöl. Nincs szükségük számokra, hanem egyszerűen lecserélik/formázzák őket\n",
    "    # abban a sorrendben, ahogy a nevekben szereplő argumentumok formátumba kerülnek\n",
    "    # {others} helyettesíthető a nevével; az \"egyéb = hossz - 2\" argumentum alatt\n",
    "    # átkerül az str.format() \n",
    "    d = {\n",
    "        0: \"no one likes this\",\n",
    "        1: \"{} likes this\",\n",
    "        2: \"{} and {} like this\",\n",
    "        3: \"{}, {} and {} like this\",\n",
    "        4: \"{}, {} and {others} others like this\"\n",
    "        }\n",
    "    length = len(names)\n",
    "    # d[min(4, hossz)] biztosítja, hogy a megfelelő karakterlánc meghívásra kerüljön a szótárból\n",
    "    # és ezt követően visszaküldték. A Min szükséges, mivel a len(nevek) > 4 lehet\n",
    "    \n",
    "    # A * a *nevekben biztosítja, hogy a listanevek felrobbanjanak, és a formátum meghívásra kerüljön\n",
    "    # mintha minden egyes névbeli elemet külön-külön adnának át a formázáshoz, pl. e.\n",
    "    # formátum(nevek[0], nevek[1], .... , nevek[n], egyéb = hossz - 2\n",
    "    return d[min(4, length)].format(*names, others = length - 2)\n",
    "\n",
    "def likes(names):\n",
    "    match names:\n",
    "        case []: return 'no one likes this'\n",
    "        case [a]: return f'{a} likes this'\n",
    "        case [a, b]: return f'{a} and {b} like this'\n",
    "        case [a, b, c]: return f'{a}, {b} and {c} like this'\n",
    "        case [a, b, *rest]: return f'{a}, {b} and {len(rest)} others like this'"
   ]
  },
  {
   "cell_type": "code",
   "execution_count": 47,
   "metadata": {},
   "outputs": [
    {
     "name": "stdout",
     "output_type": "stream",
     "text": [
      "[3]\n"
     ]
    }
   ],
   "source": [
    "'''\n",
    "A cél ebben a katában egy különbségfüggvény megvalósítása, amely kivonja az egyik listát a másikból, és visszaadja az eredményt.\n",
    "El kell távolítania az a listából az összes olyan értéket, amely a b listában szerepel, megtartva sorrendjüket.\n",
    "array_diff([1,2],[1]) == [2]\n",
    "Ha egy érték jelen van b-ben, akkor minden előfordulását el kell távolítani a másikból:\n",
    "array_diff([1,2,2,2,3],[2]) == [1,3]\n",
    "'''\n",
    "def array_diff(a, b):\n",
    "    return [x for x in a if x not in b]\n",
    "\n",
    "print(array_diff([1,2,2,3,2,2],[1,2,9]))"
   ]
  },
  {
   "cell_type": "code",
   "execution_count": null,
   "metadata": {},
   "outputs": [],
   "source": [
    "def create_phone_number(n):\n",
    "    #your code here\n",
    "    return f\"({n[0]}{n[1]}{n[2]}) {n[3]}{n[4]}{n[5]}-{n[6]}{n[7]}{n[8]}{n[9]}\"\n",
    "        \n",
    "def create_phone_number(n):\n",
    "\treturn \"({}{}{}) {}{}{}-{}{}{}{}\".format(*n)\n",
    "\n",
    "def create_phone_number(n):\n",
    "    n = ''.join(map(str,n))\n",
    "    return '(%s) %s-%s'%(n[:3], n[3:6], n[6:])\n",
    "\n",
    "def create_phone_number(n):\n",
    "  str1 =  ''.join(str(x) for x in n[0:3])\n",
    "  str2 =  ''.join(str(x) for x in n[3:6])\n",
    "  str3 =  ''.join(str(x) for x in n[6:10])\n",
    "\n",
    "\n",
    "  return '({}) {}-{}'.format(str1, str2, str3)\n"
   ]
  }
 ],
 "metadata": {
  "kernelspec": {
   "display_name": "Python 3.11.0 64-bit",
   "language": "python",
   "name": "python3"
  },
  "language_info": {
   "codemirror_mode": {
    "name": "ipython",
    "version": 3
   },
   "file_extension": ".py",
   "mimetype": "text/x-python",
   "name": "python",
   "nbconvert_exporter": "python",
   "pygments_lexer": "ipython3",
   "version": "3.11.0"
  },
  "orig_nbformat": 4,
  "vscode": {
   "interpreter": {
    "hash": "df1aea1c7186bdc4ca14c87f6074eed6922d5fa596f2602f29be5fe2c335b5f2"
   }
  }
 },
 "nbformat": 4,
 "nbformat_minor": 2
}
