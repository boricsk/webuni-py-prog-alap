{
 "cells": [
  {
   "cell_type": "code",
   "execution_count": null,
   "metadata": {},
   "outputs": [],
   "source": [
    "'''\n",
    "Ezen az oldalon olyan feladatok vannak, melyeknek a megoldása szám. Nincs kikötés, hogy milyen nyelven oldod meg.\n",
    "\n",
    "'''"
   ]
  },
  {
   "cell_type": "code",
   "execution_count": 1,
   "metadata": {},
   "outputs": [
    {
     "name": "stdout",
     "output_type": "stream",
     "text": [
      "233168\n"
     ]
    }
   ],
   "source": [
    "#projecteuler_001\n",
    "# 1000 alatti 3-al és 5-el osztható számok összege\n",
    "print(sum([i for i in range(1000) if i % 3 == 0 or i % 5 == 0]))"
   ]
  },
  {
   "cell_type": "code",
   "execution_count": 2,
   "metadata": {},
   "outputs": [
    {
     "name": "stdout",
     "output_type": "stream",
     "text": [
      "4613732\n"
     ]
    }
   ],
   "source": [
    "#projecteuler_002\n",
    "# A 4000000-ig vegyük a páros fibonacci szám összegét.\n",
    "osszeg = 0\n",
    "a = 1\n",
    "b = 2\n",
    "\n",
    "while b < 4000000:\n",
    "    if b % 2 == 0:\n",
    "        osszeg += b\n",
    "    a, b = b, a + b\n",
    "print(osszeg)"
   ]
  }
 ],
 "metadata": {
  "kernelspec": {
   "display_name": "Python 3.11.0 64-bit",
   "language": "python",
   "name": "python3"
  },
  "language_info": {
   "codemirror_mode": {
    "name": "ipython",
    "version": 3
   },
   "file_extension": ".py",
   "mimetype": "text/x-python",
   "name": "python",
   "nbconvert_exporter": "python",
   "pygments_lexer": "ipython3",
   "version": "3.11.0"
  },
  "orig_nbformat": 4,
  "vscode": {
   "interpreter": {
    "hash": "df1aea1c7186bdc4ca14c87f6074eed6922d5fa596f2602f29be5fe2c335b5f2"
   }
  }
 },
 "nbformat": 4,
 "nbformat_minor": 2
}
