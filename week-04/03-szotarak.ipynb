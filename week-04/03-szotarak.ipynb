{
 "cells": [
  {
   "cell_type": "markdown",
   "metadata": {},
   "source": [
    "<h3>Szótárak</h3>\n",
    "Többféle megnevezése van:<br>\n",
    "<br>\n",
    "-Szótár dictionary, dict<br>\n",
    "-asszociatív tömb associative array<br>\n",
    "-szimbólumtábla symbol table<br>\n",
    "-térkép map<br>\n",
    "-hash tábla hash table<br>\n",
    "-objektum<br>\n",
    "<br>\n",
    "Kulcs - Érték párokat tartalmaz. Az érték bármi lehet, akár fgv is. A kulcsnak egyedinek kell lennie."
   ]
  },
  {
   "cell_type": "code",
   "execution_count": null,
   "metadata": {},
   "outputs": [],
   "source": [
    "#Létrehozása\n",
    "gyumi_szótár = {\n",
    "    'alma' : 'apple',\n",
    "    'banán': 'banana',\n",
    "    'narancs': 'orange',\n",
    "}\n",
    "\n",
    "ures_szotar = {}\n",
    "ures_szotar = dict()\n",
    "\n"
   ]
  },
  {
   "cell_type": "code",
   "execution_count": 5,
   "metadata": {},
   "outputs": [
    {
     "name": "stdout",
     "output_type": "stream",
     "text": [
      "apple\n",
      "banana\n",
      "{'alma': 'apple', 'banán': 'banana', 'narancs': 'orange'}\n",
      "alma apple\n",
      "banán banana\n",
      "narancs orange\n"
     ]
    }
   ],
   "source": [
    "#Lekérdezés\n",
    "gyumi_szótár = {\n",
    "    'alma' : 'apple',\n",
    "    'banán': 'banana',\n",
    "    'narancs': 'orange',\n",
    "}\n",
    "print(gyumi_szótár.get('alma'))\n",
    "print(gyumi_szótár['banán'])\n",
    "print(gyumi_szótár)\n",
    "\n",
    "for gyumi in gyumi_szótár:\n",
    "    print(gyumi, gyumi_szótár[gyumi])\n",
    "\n"
   ]
  },
  {
   "cell_type": "code",
   "execution_count": 9,
   "metadata": {},
   "outputs": [
    {
     "name": "stdout",
     "output_type": "stream",
     "text": [
      "{'alma': 'apple', 'banán': 'banana', 'narancs': 'orange', 'ananász': 'ananas'}\n",
      "{'alma': 'apple', 'banán': 'banana', 'narancs': 'orange', 'ananász': 'pineapple'}\n",
      "{'alma': 'apple', 'banán': 'banana', 'narancs': 'orange', 'ananász': {'pineapple', 'ananas'}}\n",
      "{'alma': 'apple', 'banán': 'banana', 'narancs': 'orange', 'ananász': {'pineapple', 'ananas'}, 'görögdinnye': 'watermelon', 'körte': 'pear'}\n"
     ]
    }
   ],
   "source": [
    "#Módosítás\n",
    "gyumi_szótár = {\n",
    "    'alma' : 'apple',\n",
    "    'banán': 'banana',\n",
    "    'narancs': 'orange',\n",
    "}\n",
    "\n",
    "gyumi_szótár['ananász'] = 'ananas'\n",
    "print(gyumi_szótár)\n",
    "gyumi_szótár['ananász'] = 'pineapple'\n",
    "print(gyumi_szótár)\n",
    "gyumi_szótár['ananász'] = {'ananas', 'pineapple'} #halmaz az értéke\n",
    "print(gyumi_szótár)\n",
    "gyumi_szótár.update({\n",
    "    'görögdinnye': 'watermelon',\n",
    "    'körte': 'pear',\n",
    "})\n",
    "print(gyumi_szótár)"
   ]
  },
  {
   "cell_type": "code",
   "execution_count": 10,
   "metadata": {},
   "outputs": [
    {
     "name": "stdout",
     "output_type": "stream",
     "text": [
      "apple\n",
      "{'banán': 'banana', 'narancs': 'orange'}\n"
     ]
    }
   ],
   "source": [
    "#Törlés\n",
    "gyumi_szótár = {\n",
    "    'alma' : 'apple',\n",
    "    'banán': 'banana',\n",
    "    'narancs': 'orange',\n",
    "}\n",
    "print(gyumi_szótár.pop('alma'))\n",
    "print(gyumi_szótár)\n",
    "\n",
    "\n"
   ]
  },
  {
   "cell_type": "code",
   "execution_count": 14,
   "metadata": {},
   "outputs": [
    {
     "name": "stdout",
     "output_type": "stream",
     "text": [
      "A banán benne van\n",
      "{'alma': 3, 'narancs': 1, 'banán': 2}\n"
     ]
    }
   ],
   "source": [
    "#Tartalmazásvizsgálat (Kulcsra vonatkozik)\n",
    "gyumi_szótár = {\n",
    "    'alma' : 'apple',\n",
    "    'banán': 'banana',\n",
    "    'narancs': 'orange',\n",
    "}\n",
    "\n",
    "if 'banán' in gyumi_szótár:\n",
    "    print('A banán benne van')\n",
    "\n",
    "if 'alma' not in gyumi_szótár:\n",
    "    print('Az alma nincs benne')\n",
    "\n",
    "#Ha az adott kulcsú elem nincs benne az hiba!!\n",
    "\n",
    "#gyumi_szamlalo = {}\n",
    "#for gyumolcs in ['alma', 'narancs', 'banán', 'alma', 'banán', 'alma']:\n",
    "    #gyumi_szamlalo[gyumolcs] +=1 #ez növelné az értékpárokat, de mivel a szótár üres hibás lesz.\n",
    "\n",
    "#működő\n",
    "gyumi_szamlalo2 = {}\n",
    "for gyumolcs in ['alma', 'narancs', 'banán', 'alma', 'banán', 'alma']:\n",
    "    if gyumolcs not in gyumi_szamlalo2:\n",
    "        gyumi_szamlalo2[gyumolcs] = 1 #ha nem létezik akkor bele kell tenni\n",
    "    else:\n",
    "        gyumi_szamlalo2[gyumolcs] +=1\n",
    "print(gyumi_szamlalo2)\n"
   ]
  },
  {
   "cell_type": "code",
   "execution_count": 16,
   "metadata": {},
   "outputs": [
    {
     "name": "stdout",
     "output_type": "stream",
     "text": [
      "[('alma', 'apple'), ('banán', 'banana'), ('narancs', 'orange')]\n",
      "{'apple': 'alma', 'banana': 'banán', 'orange': 'narancs'}\n",
      "{'alma': 'apple', 'banán': 'banana', 'narancs': 'orange'}\n"
     ]
    }
   ],
   "source": [
    "#Listákból létrehozott szótárak\n",
    "magyar = ['alma', 'banán', 'narancs']\n",
    "angol = ['apple', 'banana', 'orange']\n",
    "\n",
    "print(list(zip(magyar,angol))) #ez listát készít\n",
    "\n",
    "magyar_angol_szotar = dict(zip(magyar, angol))\n",
    "angol_magyar_szotar = dict(zip(angol, magyar))\n",
    "\n",
    "print(angol_magyar_szotar)\n",
    "print(magyar_angol_szotar)\n"
   ]
  },
  {
   "cell_type": "code",
   "execution_count": 18,
   "metadata": {},
   "outputs": [
    {
     "name": "stdout",
     "output_type": "stream",
     "text": [
      "{0: 0, 1: 1, 2: 4, 3: 9, 4: 16, 5: 25, 6: 36, 7: 49, 8: 64, 9: 81}\n",
      "{0: 0, 2: 4, 4: 16, 6: 36, 8: 64}\n"
     ]
    }
   ],
   "source": [
    "#Dict comprehension mint a listáknál, csak nem [] hanem {} és a for elé kucs érték kell.\n",
    "\n",
    "négyzetek = {i :i*i for i in range(10)}\n",
    "print(négyzetek)\n",
    "\n",
    "négyzetek = {i :i*i for i in range(10) if i % 2 == 0}\n",
    "print(négyzetek)"
   ]
  },
  {
   "cell_type": "code",
   "execution_count": 24,
   "metadata": {},
   "outputs": [
    {
     "name": "stdout",
     "output_type": "stream",
     "text": [
      "dict_keys(['alma', 'banán', 'narancs'])\n",
      "dict_values(['apple', 'banana', 'orange'])\n",
      "alma apple\n",
      "banán banana\n",
      "narancs orange\n"
     ]
    }
   ],
   "source": [
    "#Kulcsok, értékek, kulcs érték párok. Amikor lépkedünk a kulcsokon megyünk végig. A kulcsok lekérdezhetőek a keys.el\n",
    "\n",
    "print(gyumi_szótár.keys())\n",
    "print(gyumi_szótár.values())\n",
    "\n",
    "for ma, an in gyumi_szótár.items():\n",
    "    print(ma, an)\n",
    "\n"
   ]
  },
  {
   "cell_type": "code",
   "execution_count": 25,
   "metadata": {},
   "outputs": [
    {
     "name": "stdout",
     "output_type": "stream",
     "text": [
      "{'Burdzs Karifa': 828, 'WTC': 541, 'Petronas torony': 452, 'Eiffel torony': 325, 'Lakihegyi torony': 314}\n"
     ]
    }
   ],
   "source": [
    "#Érték szerinti rendezés\n",
    "épületek = {\n",
    "    'Burdzs Karifa': 828,\n",
    "    'Eiffel torony': 325,\n",
    "    'Lakihegyi torony': 314,\n",
    "    'WTC': 541,\n",
    "    'Petronas torony':452,\n",
    "}\n",
    "\n",
    "rendezett = dict(sorted(épületek.items(), key=lambda épület:épület[1],reverse=True))\n",
    "print(rendezett)"
   ]
  },
  {
   "cell_type": "code",
   "execution_count": 27,
   "metadata": {},
   "outputs": [
    {
     "name": "stdout",
     "output_type": "stream",
     "text": [
      "apple\n",
      "nincs a szotárban\n"
     ]
    }
   ],
   "source": [
    "#Alapértelmezett elem. Nem támogatja az alapértelmezett elemet, de igény van erre. Ezért van a default dict adatszerkezet.\n",
    "\n",
    "from collections import defaultdict\n",
    "\n",
    "gyumi_szótár = defaultdict(lambda: 'nincs a szotárban',{\n",
    "    'alma' : 'apple',\n",
    "    'banán': 'banana',\n",
    "    'narancs': 'orange',\n",
    "})\n",
    "print(gyumi_szótár['alma'])\n",
    "print(gyumi_szótár['meggy'])"
   ]
  },
  {
   "cell_type": "code",
   "execution_count": 32,
   "metadata": {},
   "outputs": [
    {
     "name": "stdout",
     "output_type": "stream",
     "text": [
      "{'alma': 3, 'narancs': 1, 'banán': 2}\n",
      "{'alma': 3, 'narancs': 1, 'banán': 2}\n"
     ]
    }
   ],
   "source": [
    "#Számláló\n",
    "from collections import Counter\n",
    "\n",
    "gyumi_szamlalo3 = Counter()#egyfajta szótár, az alapértéke a 0.\n",
    "\n",
    "for gyumolcs in ['alma', 'narancs', 'banán', 'alma', 'banán', 'alma']:\n",
    "    gyumi_szamlalo3[gyumolcs] += 1 \n",
    "   \n",
    "print(dict(gyumi_szamlalo3))# dict-é kell alakitani\n",
    "\n",
    "#vagy\n",
    "gyumi_szamlalo4 = Counter(['alma', 'narancs', 'banán', 'alma', 'banán', 'alma'])\n",
    "print(dict(gyumi_szamlalo4))"
   ]
  }
 ],
 "metadata": {
  "kernelspec": {
   "display_name": "Python 3.10.8 64-bit",
   "language": "python",
   "name": "python3"
  },
  "language_info": {
   "codemirror_mode": {
    "name": "ipython",
    "version": 3
   },
   "file_extension": ".py",
   "mimetype": "text/x-python",
   "name": "python",
   "nbconvert_exporter": "python",
   "pygments_lexer": "ipython3",
   "version": "3.10.8"
  },
  "orig_nbformat": 4,
  "vscode": {
   "interpreter": {
    "hash": "87b94aab8dd3a663a3aec68f345fa01ed7856442ab6e88e521fff6b30a54006b"
   }
  }
 },
 "nbformat": 4,
 "nbformat_minor": 2
}
