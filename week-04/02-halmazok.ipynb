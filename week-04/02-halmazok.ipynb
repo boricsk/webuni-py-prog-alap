{
 "cells": [
  {
   "cell_type": "markdown",
   "metadata": {},
   "source": [
    "<h3>Halmazok<h3>\n",
    "A halmaz sokaságot összességet jelent. Jell : egy elem része v nem része egy halmaznak. 1 elem 1x szerepelhet, sorrend nem definiált. Múveletek : unio, metszet, különbség és a szimmetrikus különbség. Léteznek elem műveletek : elem hozzáadása, tartalmazás vizsgálat, törlés. Az alap műveletek gyorsabb mint a lista. Sorrend nincs, nincs index szerinti elérés, nincs rendezés, beszurás v törlés után a megmardt elemek sorrendje változhat."
   ]
  },
  {
   "cell_type": "code",
   "execution_count": 2,
   "metadata": {},
   "outputs": [
    {
     "name": "stdout",
     "output_type": "stream",
     "text": [
      "{2, 3, 5}\n",
      "{2, 20, 5}\n"
     ]
    }
   ],
   "source": [
    "#Létrehozása\n",
    "halmaz = {3, 2, 5}\n",
    "print(halmaz)\n",
    "print({5, 20,2})"
   ]
  },
  {
   "cell_type": "code",
   "execution_count": 3,
   "metadata": {},
   "outputs": [
    {
     "name": "stdout",
     "output_type": "stream",
     "text": [
      "2\n",
      "3\n",
      "5\n"
     ]
    }
   ],
   "source": [
    "#elérés\n",
    "halmaz = {3, 2, 5}\n",
    "for elem in halmaz:\n",
    "    print(elem)"
   ]
  },
  {
   "cell_type": "code",
   "execution_count": null,
   "metadata": {},
   "outputs": [],
   "source": [
    "#üres halmaz\n",
    "ures_halmaz = set()\n"
   ]
  },
  {
   "cell_type": "code",
   "execution_count": 4,
   "metadata": {},
   "outputs": [
    {
     "name": "stdout",
     "output_type": "stream",
     "text": [
      "{2, 3, 4, 5}\n"
     ]
    }
   ],
   "source": [
    "#elem hozzáadása\n",
    "halmaz = {3, 2, 5}\n",
    "halmaz.add(4)\n",
    "print(halmaz)\n",
    "#ha benne van és megpróbáljuk hozzáadni nem lesz semmi."
   ]
  },
  {
   "cell_type": "code",
   "execution_count": 6,
   "metadata": {},
   "outputs": [
    {
     "name": "stdout",
     "output_type": "stream",
     "text": [
      "{1, 2, 3, 5, 7}\n",
      "{1, 2, 3, 5, 7, 8, 9}\n"
     ]
    }
   ],
   "source": [
    "#több elem hozzáadása\n",
    "halmaz = {3, 2, 5}\n",
    "halmaz.update({1, 7})\n",
    "print(halmaz)\n",
    "#több elem hozzáadása esetén ezt kell használni nem az add-ot!!\n",
    "halmaz.update([8,9]) #itt lista is megadható.\n",
    "print(halmaz)"
   ]
  },
  {
   "cell_type": "code",
   "execution_count": 8,
   "metadata": {},
   "outputs": [
    {
     "name": "stdout",
     "output_type": "stream",
     "text": [
      "{1, 2, 3, 5, 7, 8}\n",
      "1\n",
      "{2, 3, 5, 7, 8}\n"
     ]
    }
   ],
   "source": [
    "#elem törlése\n",
    "halmaz = {1, 2, 3, 5, 7, 8, 9}\n",
    "halmaz.remove(9) # nem elemszám!! ha olyat akarunk törölni ami nincs akkor hibára fut.\n",
    "print(halmaz)\n",
    "halmaz.discard(6) #ha benne van kiveszi, ha nincs tobábbmegy\n",
    "\n",
    "elem = halmaz.pop() # kivesz egy elemet véletlenszerűen és visszaadja\n",
    "print(elem)\n",
    "print(halmaz)\n"
   ]
  },
  {
   "cell_type": "code",
   "execution_count": 9,
   "metadata": {},
   "outputs": [
    {
     "name": "stdout",
     "output_type": "stream",
     "text": [
      "{1, 2, 3, 5, 7, 8, 9}\n",
      "A 3 benne van\n",
      "A 6 nincs benne\n"
     ]
    }
   ],
   "source": [
    "#Tartalmazásvizsgálat\n",
    "halmaz = {1, 2, 3, 5, 7, 8, 9}\n",
    "print(halmaz)\n",
    "\n",
    "if 3 in halmaz:\n",
    "    print('A 3 benne van')\n",
    "if 6 not in halmaz:\n",
    "    print('A 6 nincs benne')\n"
   ]
  },
  {
   "cell_type": "markdown",
   "metadata": {},
   "source": [
    "Halmazműveletek<br>\n",
    "<img src=muveletek.PNG><br>"
   ]
  },
  {
   "cell_type": "code",
   "execution_count": 12,
   "metadata": {},
   "outputs": [
    {
     "name": "stdout",
     "output_type": "stream",
     "text": [
      "{1, 2, 3, 4}\n",
      "{2, 3}\n",
      "{1}\n",
      "{1, 4}\n"
     ]
    }
   ],
   "source": [
    "#halmazműveletek\n",
    "halmaz1 = {1, 2, 3}\n",
    "halmaz2 = {2, 3, 4}\n",
    "\n",
    "union = halmaz1.union(halmaz2) #halmaz1 | halmaz2\n",
    "print(union)\n",
    "\n",
    "metszet = halmaz1.intersection(halmaz2)# halmaz1 & halmaz2\n",
    "print(metszet)\n",
    "\n",
    "kulonbseg = halmaz1.difference(halmaz2)# halmaz1 - halmaz2\n",
    "print(kulonbseg)\n",
    "\n",
    "symmkul = halmaz1.symmetric_difference(halmaz2) #A közös metszetet vonja ki az unióból. halmaz1 ^ halmaz2 (kizáró vagy)\n",
    "print(symmkul)"
   ]
  },
  {
   "cell_type": "code",
   "execution_count": 16,
   "metadata": {},
   "outputs": [
    {
     "name": "stdout",
     "output_type": "stream",
     "text": [
      "{1, 2, 3, 4, 5}\n",
      "{3, 4, 5}\n",
      "{4, 5}\n",
      "{4, 6}\n"
     ]
    }
   ],
   "source": [
    "# helyben módosító halmazműveletek (magát a halmazt módosítja)\n",
    "halmaz = {3, 2, 5}\n",
    "halmaz.update({1, 3, 4}) #unió\n",
    "print(halmaz)\n",
    "\n",
    "halmaz.intersection_update({3, 4, 5, 6}) #helyben metsz\n",
    "print(halmaz)\n",
    "\n",
    "halmaz.difference_update({1, 2, 3}) # különbség helyben\n",
    "print(halmaz)\n",
    "\n",
    "halmaz.symmetric_difference_update({5, 6}) # szimm. kül helyben\n",
    "print(halmaz)\n"
   ]
  }
 ],
 "metadata": {
  "kernelspec": {
   "display_name": "Python 3.10.8 64-bit",
   "language": "python",
   "name": "python3"
  },
  "language_info": {
   "codemirror_mode": {
    "name": "ipython",
    "version": 3
   },
   "file_extension": ".py",
   "mimetype": "text/x-python",
   "name": "python",
   "nbconvert_exporter": "python",
   "pygments_lexer": "ipython3",
   "version": "3.10.8"
  },
  "orig_nbformat": 4,
  "vscode": {
   "interpreter": {
    "hash": "87b94aab8dd3a663a3aec68f345fa01ed7856442ab6e88e521fff6b30a54006b"
   }
  }
 },
 "nbformat": 4,
 "nbformat_minor": 2
}
