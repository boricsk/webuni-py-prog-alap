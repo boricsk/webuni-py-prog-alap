{
 "cells": [
  {
   "cell_type": "markdown",
   "metadata": {},
   "source": [
    "<h3>Listák</h3>\n",
    "\n",
    "Más nyelvekban meg van különböztetve a tömb és a lista, ez többnyire belső könyvtár. Pythonban nincs tömb, lista van és ez nyelvi elem."
   ]
  },
  {
   "cell_type": "code",
   "execution_count": 6,
   "metadata": {},
   "outputs": [
    {
     "name": "stdout",
     "output_type": "stream",
     "text": [
      "alma\n",
      "korte\n",
      "barack\n"
     ]
    }
   ],
   "source": [
    "#Létrehozás\n",
    "\n",
    "gyumik = ['alma', 'korte', 'barack']\n",
    "\n",
    "for gyümolcs in gyumik:\n",
    "    print(gyümolcs)\n",
    "\n",
    "\n"
   ]
  },
  {
   "cell_type": "code",
   "execution_count": 7,
   "metadata": {},
   "outputs": [],
   "source": [
    "szamok = [3, 2, 5]\n",
    "vegyes = ['alma', 2, 5, False, 7, [2,'c']] # ez jó, de nem ajánlott\n"
   ]
  },
  {
   "cell_type": "code",
   "execution_count": 8,
   "metadata": {},
   "outputs": [],
   "source": [
    "#Lehet vesszőt tenni a felsorolás végére.\n",
    "#Ez azért jó, mert pl a git ellenkező esetben duplikálja azt a sort, ahol eredetileg nem volt vessző. Célszerű alkalmazni.\n",
    "\n",
    "gyumolcsok = [\n",
    "    'mango',\n",
    "    'kiwi',\n",
    "    'cukorrepa',\n",
    "]"
   ]
  },
  {
   "cell_type": "code",
   "execution_count": 9,
   "metadata": {},
   "outputs": [
    {
     "name": "stdout",
     "output_type": "stream",
     "text": [
      "[3, 2, 5]\n",
      "2\n"
     ]
    }
   ],
   "source": [
    "#Indexelés. A sorrend jól definiált.\n",
    "szamok = [3, 2, 5]\n",
    "print(szamok)\n",
    "print(szamok[1])\n"
   ]
  },
  {
   "cell_type": "code",
   "execution_count": 10,
   "metadata": {},
   "outputs": [
    {
     "name": "stdout",
     "output_type": "stream",
     "text": [
      "[3, 2, 5]\n",
      "[3, 2, 7]\n",
      "2\n"
     ]
    }
   ],
   "source": [
    "#Értékadás\n",
    "\n",
    "szamok = [3, 2, 5]\n",
    "print(szamok)\n",
    "szamok[2] = 7\n",
    "print(szamok)\n",
    "print(szamok[1])"
   ]
  },
  {
   "cell_type": "code",
   "execution_count": 11,
   "metadata": {},
   "outputs": [
    {
     "name": "stdout",
     "output_type": "stream",
     "text": [
      "0 3\n",
      "1 2\n",
      "2 5\n"
     ]
    }
   ],
   "source": [
    "\n",
    "szamok = [3, 2, 5]\n",
    "for i in range(len(szamok)):\n",
    "    print(i, szamok[i])\n",
    "    "
   ]
  },
  {
   "cell_type": "code",
   "execution_count": 13,
   "metadata": {},
   "outputs": [
    {
     "name": "stdout",
     "output_type": "stream",
     "text": [
      "4\n",
      "[2, 3]\n",
      "[1, 2, 3]\n",
      "[3, 4, 5]\n",
      "[1, 2, 3, 4, 5]\n",
      "4\n",
      "[2, 3]\n",
      "[2, 4]\n",
      "[4, 3]\n",
      "[5, 4, 3, 2, 1]\n"
     ]
    }
   ],
   "source": [
    "#Szeletelő jelölés (Slice notation)\n",
    "lista = [1, 2, 3, 4, 5]\n",
    "print(lista[3])\n",
    "print(lista[1:3])\n",
    "print(lista[:3])\n",
    "print(lista[2:])\n",
    "print(lista[:])\n",
    "print(lista[-2])\n",
    "print(lista[-4:-2])\n",
    "print(lista[1:4:2]) # a 3. a léptéket jelenti\n",
    "print(lista[3:1:-1])\n",
    "print(lista[::-1])"
   ]
  },
  {
   "cell_type": "code",
   "execution_count": 14,
   "metadata": {},
   "outputs": [
    {
     "name": "stdout",
     "output_type": "stream",
     "text": [
      "0 3\n",
      "1 2\n",
      "2 5\n"
     ]
    }
   ],
   "source": [
    "#Enumerate (elemkettesekből álló listát hoz létre.)\n",
    "lista = [3, 2, 5]\n",
    "for index, elem in enumerate(lista):\n",
    "    print(index, elem)\n",
    "\n"
   ]
  },
  {
   "cell_type": "code",
   "execution_count": 18,
   "metadata": {},
   "outputs": [
    {
     "name": "stdout",
     "output_type": "stream",
     "text": [
      "['Elem', 'Elem', 'Elem', 'Elem']\n",
      "[0, 1, 2, 3]\n",
      "[0, 2, 4, 6]\n",
      "[0, 2, 4, 6]\n"
     ]
    }
   ],
   "source": [
    "#Eygéb megadási módok\n",
    "lista = 4 * ['Elem']\n",
    "print(lista)\n",
    "\n",
    "lista = [i for i in range(4)] #List comprehension, lista származtatás\n",
    "print(lista)\n",
    "\n",
    "lista = [i for i in range(8) if i % 2 == 0]\n",
    "print(lista)\n",
    "\n",
    "lista = [2 * i for i in range(4)]\n",
    "print(lista)"
   ]
  },
  {
   "cell_type": "code",
   "execution_count": 24,
   "metadata": {},
   "outputs": [
    {
     "name": "stdout",
     "output_type": "stream",
     "text": [
      "[[0, 0, 0, 0], [0, 0, 0, 0], [0, 0, 0, 0]]\n",
      "[['A', 'A', 'A', 'A'], ['A', 'A', 'A', 'A'], ['A', 'A', 'A', 'A']]\n",
      "[['C', 'C', 'C', 'C'], ['C', 'C', 'C', 'C'], ['C', 'C', 'C', 'C']]\n",
      "[['C', 'C', 'S', 'C'], ['C', 'C', 'S', 'C'], ['C', 'C', 'S', 'C']]\n"
     ]
    }
   ],
   "source": [
    "#Kétdimenziós tömb\n",
    "lista = [4 * [0] for i in range(3)]\n",
    "print(lista)\n",
    "\n",
    "lista = [['A' for i in range(4)] for j in range(3)]\n",
    "print(lista)\n",
    "\n",
    "lista = 3 * [4 * ['C']]\n",
    "print(lista)\n",
    "#de, ha meg akarjuk változtatni a 1. csoport 2. elemét az összesé változni fog!\n",
    "lista[1][2] = 'S'\n",
    "print(lista)\n"
   ]
  },
  {
   "cell_type": "code",
   "execution_count": 28,
   "metadata": {},
   "outputs": [
    {
     "name": "stdout",
     "output_type": "stream",
     "text": [
      "[3, 2, 7, 4]\n",
      "[3, 2, 8, 7, 4]\n",
      "[3, 8, 7, 4]\n",
      "2\n"
     ]
    }
   ],
   "source": [
    "#Elem hozzáadása\n",
    "szamok = [3, 2, 7,]\n",
    "szamok.append(4) #végére fűzi\n",
    "print(szamok)\n",
    "\n",
    "szamok.insert(2,8) #pozicio, hozzáadandó érték, a mögöttes elemeket jobbra fogja tolni\n",
    "print(szamok)\n",
    "\n",
    "torolt = szamok.pop(1) # 1. indexű elem törlése, balra tolodik a törlés után\n",
    "print(szamok)\n",
    "print(torolt) # a pop visszaadja a törölt elemet.\n",
    "\n"
   ]
  },
  {
   "cell_type": "code",
   "execution_count": 30,
   "metadata": {},
   "outputs": [
    {
     "name": "stdout",
     "output_type": "stream",
     "text": [
      "[3, 2, 8, 7, 4, 1, 6, 2]\n",
      "[1, 2, 3, 4, 5, 6]\n"
     ]
    }
   ],
   "source": [
    "#Két lista összefűzése\n",
    "szamok = [3, 2, 8, 7, 4]\n",
    "szamok.extend([1, 6, 2]) # végére fűzi\n",
    "print(szamok)\n",
    "\n",
    "szamok = [1, 2, 3] + [4, 5, 6]\n",
    "print(szamok)"
   ]
  },
  {
   "cell_type": "code",
   "execution_count": 31,
   "metadata": {},
   "outputs": [
    {
     "name": "stdout",
     "output_type": "stream",
     "text": [
      "[1, 4, 3]\n",
      "[1, 4, 3]\n",
      "[1, 2, 3]\n"
     ]
    }
   ],
   "source": [
    "#Lista másolása\n",
    "szamok = [1, 2, 3]\n",
    "szamok1 = szamok\n",
    "szamok2 = szamok.copy() #ez a valós másolás, itt a memóriában duplikálódik a lista\n",
    "szamok1[1] = 4\n",
    "\n",
    "print(szamok)\n",
    "print(szamok1)\n",
    "print(szamok2)\n",
    "\n",
    "#vegyük észre, hogy a szamok és a szamok 1 is megváltozott (a szamok es a szamok1 ugyanazon a memóriaterületen van)"
   ]
  },
  {
   "cell_type": "code",
   "execution_count": 36,
   "metadata": {},
   "outputs": [
    {
     "name": "stdout",
     "output_type": "stream",
     "text": [
      "[[0, 0, 0], [0, 1, 2], [0, 2, 4], [0, 3, 6]]\n",
      "10\n",
      "[[10, 0, 0], [0, 1, 2], [0, 2, 4], [0, 3, 6]]\n",
      "[[10, 0, 0], [0, 1, 20], [0, 2, 4], [0, 3, 6]]\n",
      "[[10, 0, 0], [0, 1, 2], [0, 2, 4], [0, 3, 6]]\n"
     ]
    }
   ],
   "source": [
    "#Mátrix másolás\n",
    "\n",
    "matrix1 = [[i *j for i in range(3)] for j in range(4)]\n",
    "matrix2 = matrix1.copy()\n",
    "print(matrix1)\n",
    "matrix1[0][0] = 10\n",
    "print(matrix2[0][0])\n",
    "print(matrix2)\n",
    "\n",
    "import copy\n",
    "matrix3 = copy.deepcopy(matrix1)\n",
    "matrix1[1][2] = 20\n",
    "print(matrix1)\n",
    "print(matrix3)\n",
    "\n"
   ]
  },
  {
   "cell_type": "code",
   "execution_count": 39,
   "metadata": {},
   "outputs": [
    {
     "name": "stdout",
     "output_type": "stream",
     "text": [
      "Az 1 benne van\n",
      "Az 5 nincs benne\n"
     ]
    }
   ],
   "source": [
    "#Tartalmazás ellenőrzés (Erőforrás igényes lehet nagy lista esetében, ilyenkor halmazzá célszerű alakítani.)\n",
    "szamok = [3, 8, 7, 4, 1, 6, 2]\n",
    "if 1 in szamok: print('Az 1 benne van')\n",
    "if 5 not in szamok: print('Az 5 nincs benne')\n"
   ]
  },
  {
   "cell_type": "code",
   "execution_count": 43,
   "metadata": {},
   "outputs": [
    {
     "name": "stdout",
     "output_type": "stream",
     "text": [
      "False\n",
      "True\n",
      "True\n",
      "True\n"
     ]
    }
   ],
   "source": [
    "#Összehasonlítás (elemenként hasonlítja össze)\n",
    "print([1, 2, 3] == [3, 2, 1])\n",
    "print([1, 2, 3] == [1, 2, 3])\n",
    "print([1, 2, 3] < [1, 4, 3]) # veszi az első eltérőt és ha az kisseb akkor igaz\n",
    "print([1, 2, 3] < [1, 2, 3, 4]) # ha hosszabb akkor nagyobbnak értékeli"
   ]
  },
  {
   "cell_type": "code",
   "execution_count": 46,
   "metadata": {},
   "outputs": [
    {
     "name": "stdout",
     "output_type": "stream",
     "text": [
      "[3, 8, 7, 4, 1, 6, 2]\n",
      "[1, 2, 3, 4, 6, 7, 8]\n",
      "[1, 2, 3, 4, 6, 7, 8]\n",
      "[8, 7, 6, 4, 3, 2, 1]\n"
     ]
    }
   ],
   "source": [
    "#Rendezés\n",
    "szamok = [3, 8, 7, 4, 1, 6, 2]\n",
    "rendezett = sorted(szamok) # a szamok megmarad az eredeti sorrendben\n",
    "\n",
    "print(szamok)\n",
    "print(rendezett)\n",
    "\n",
    "szamok = [3, 8, 7, 4, 1, 6, 2] \n",
    "szamok.sort()# maga a szamok fog változni\n",
    "print(szamok)\n",
    "\n",
    "szamok.sort(reverse=True)\n",
    "print(szamok)"
   ]
  },
  {
   "cell_type": "code",
   "execution_count": 49,
   "metadata": {},
   "outputs": [
    {
     "name": "stdout",
     "output_type": "stream",
     "text": [
      "[3, 8, 7, 4, 1, 6, 2]\n",
      "[2, 6, 1, 4, 7, 8, 3]\n",
      "[2, 6, 1, 4, 7, 8, 3]\n"
     ]
    }
   ],
   "source": [
    "#Megfordítás\n",
    "szamok = [3, 8, 7, 4, 1, 6, 2] \n",
    "forditott = list(reversed(szamok))\n",
    "\n",
    "print(szamok)\n",
    "print(forditott)\n",
    "\n",
    "szamok = [3, 8, 7, 4, 1, 6, 2]\n",
    "szamok.reverse()\n",
    "print(szamok)"
   ]
  },
  {
   "cell_type": "code",
   "execution_count": 52,
   "metadata": {},
   "outputs": [
    {
     "name": "stdout",
     "output_type": "stream",
     "text": [
      "2\n",
      "3\n",
      "1\n",
      "8\n",
      "31\n"
     ]
    }
   ],
   "source": [
    "#további lista műveletek\n",
    "\n",
    "lista = ['alma',\n",
    "         'barack',\n",
    "         'banán',\n",
    "         'barack',\n",
    "         'banán',\n",
    "         'barack',\n",
    "         ]\n",
    "\n",
    "print(lista.index('banán')) #első előfordulás indexe\n",
    "print(lista.count('barack'))\n",
    "\n",
    "szamok = [3, 8, 7, 4, 1, 6, 2]\n",
    "print(min(szamok))\n",
    "print(max(szamok))\n",
    "print(sum(szamok))\n",
    "\n"
   ]
  },
  {
   "cell_type": "code",
   "execution_count": 54,
   "metadata": {},
   "outputs": [
    {
     "name": "stdout",
     "output_type": "stream",
     "text": [
      "[True, False, True]\n",
      "True\n",
      "False\n"
     ]
    }
   ],
   "source": [
    "#Any All\n",
    "szamok = [3, 2, 5]\n",
    "nagyobb_mint_ketto = [szam > 2 for szam in szamok] #logikai értékekből álló listát csinál\n",
    "print(nagyobb_mint_ketto)\n",
    "print(any(nagyobb_mint_ketto)) # igaz lesz, ha 1 igaz van benne\n",
    "print(all(nagyobb_mint_ketto)) # igaz lessz ha mind igaz"
   ]
  },
  {
   "cell_type": "code",
   "execution_count": 55,
   "metadata": {},
   "outputs": [
    {
     "name": "stdout",
     "output_type": "stream",
     "text": [
      "2\n"
     ]
    },
    {
     "ename": "TypeError",
     "evalue": "'tuple' object does not support item assignment",
     "output_type": "error",
     "traceback": [
      "\u001b[1;31m---------------------------------------------------------------------------\u001b[0m",
      "\u001b[1;31mTypeError\u001b[0m                                 Traceback (most recent call last)",
      "Cell \u001b[1;32mIn [55], line 5\u001b[0m\n\u001b[0;32m      3\u001b[0m modosithatatlan_lista \u001b[39m=\u001b[39m (\u001b[39m3\u001b[39m, \u001b[39m2\u001b[39m, \u001b[39m5\u001b[39m)\n\u001b[0;32m      4\u001b[0m \u001b[39mprint\u001b[39m(modosithatatlan_lista[\u001b[39m1\u001b[39m])\n\u001b[1;32m----> 5\u001b[0m modosithatatlan_lista[\u001b[39m1\u001b[39;49m] \u001b[39m=\u001b[39m \u001b[39m7\u001b[39m\n",
      "\u001b[1;31mTypeError\u001b[0m: 'tuple' object does not support item assignment"
     ]
    }
   ],
   "source": [
    "#Tuple - nem módosítható lista, minden olyan művelet értelmezett ami a listán is értelmezett ha nem módosítja a tuple-t\n",
    "\n",
    "modosithatatlan_lista = (3, 2, 5)\n",
    "print(modosithatatlan_lista[1])\n",
    "modosithatatlan_lista[1] = 7\n"
   ]
  },
  {
   "cell_type": "code",
   "execution_count": 58,
   "metadata": {},
   "outputs": [
    {
     "name": "stdout",
     "output_type": "stream",
     "text": [
      "<class 'int'>\n",
      "<class 'tuple'>\n"
     ]
    }
   ],
   "source": [
    "print(type((1)))\n",
    "print(type((1,)))"
   ]
  },
  {
   "cell_type": "markdown",
   "metadata": {},
   "source": [
    "Különböző tipusok használata lehet, de listáknál nem célszerű, viszont tuple esetében elfogadható, elvileg ezért is csinálták a tuple-t."
   ]
  },
  {
   "cell_type": "code",
   "execution_count": 59,
   "metadata": {},
   "outputs": [
    {
     "name": "stdout",
     "output_type": "stream",
     "text": [
      "(2, 3)\n",
      "<class 'tuple'>\n"
     ]
    }
   ],
   "source": [
    "#tuple megadható zárójel nélkül is.\n",
    "a = 2, 3\n",
    "print(a)\n",
    "print(type(a))\n"
   ]
  },
  {
   "cell_type": "code",
   "execution_count": 60,
   "metadata": {},
   "outputs": [
    {
     "name": "stdout",
     "output_type": "stream",
     "text": [
      "[('alma', 3), ('banan', 2), ('narancs', 5)]\n"
     ]
    }
   ],
   "source": [
    "#Két lista összefésülése\n",
    "gyumolcsok = ['alma', 'banan', 'narancs']\n",
    "darabszamok = [3, 2, 5]\n",
    "gyumolcs_es_darab = list(zip(gyumolcsok, darabszamok))\n",
    "print(gyumolcs_es_darab)"
   ]
  },
  {
   "cell_type": "code",
   "execution_count": 61,
   "metadata": {},
   "outputs": [
    {
     "name": "stdout",
     "output_type": "stream",
     "text": [
      "alma 3\n",
      "banan 2\n",
      "narancs 5\n"
     ]
    }
   ],
   "source": [
    "#for ciklus tobb ciklusvaltozoval\n",
    "gyumolcsok = ['alma', 'banan', 'narancs']\n",
    "darabszamok = [3, 2, 5]\n",
    "gyumolcs_es_darab = list(zip(gyumolcsok, darabszamok))\n",
    "\n",
    "for gyumolcs, darab in gyumolcs_es_darab:\n",
    "    print(gyumolcs, darab)"
   ]
  }
 ],
 "metadata": {
  "kernelspec": {
   "display_name": "Python 3.10.8 64-bit",
   "language": "python",
   "name": "python3"
  },
  "language_info": {
   "codemirror_mode": {
    "name": "ipython",
    "version": 3
   },
   "file_extension": ".py",
   "mimetype": "text/x-python",
   "name": "python",
   "nbconvert_exporter": "python",
   "pygments_lexer": "ipython3",
   "version": "3.10.8"
  },
  "orig_nbformat": 4,
  "vscode": {
   "interpreter": {
    "hash": "87b94aab8dd3a663a3aec68f345fa01ed7856442ab6e88e521fff6b30a54006b"
   }
  }
 },
 "nbformat": 4,
 "nbformat_minor": 2
}
