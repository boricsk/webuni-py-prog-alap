{
 "cells": [
  {
   "cell_type": "markdown",
   "metadata": {},
   "source": [
    "<h4>Week 01 Notes</h4>\n",
    "Programozási paradigmák : https://en.wikipedia.org/wiki/Comparison_of_multi-paradigm_programming_languages<br>\n",
    "Python dokumentáció : https://docs.python.org/3.10/reference/index.html<br>\n",
    "Python könyvtárak : https://docs.python.org/3/library/index.html<br>\n",
    "Pypi Külső könyvtárak : https://pypi.org/ <br>\n",
    "Típusfeladatok : https://rosettacode.org/wiki/Category:Programming_Tasks <br>\n",
    "Faragó Csaba Oldala : http://faragocsaba.hu/python <br>\n",
    "\n",
    "Pyton 1990 körül jelent meg. Névadó monty python csoport, nem a kígyó. Könnyen tanulható, ez volt a kialakitásának célja, de ára van, ami az optimalizálhatósában csapódik ki, azaz, ha minden byte fontos ez nem jó választás. Használhatósága sokrétű, nem egy célnyelv hanem általános célú. \n",
    "\n",
    "-Első nyelvként jó. <br>\n",
    "-Adatfeldolgozás területén sokan használják. <br>\n",
    "-WEB appok backendje is lehet. <br>\n",
    "-Grafikus vastag kliens, könnyen tanulható a tkinter modul, ami a GUI-t kezeli. <br>\n",
    "-Mikrovezérlés, robotok. <br>\n",
    "\n",
    "Jellegzetességei<br>\n",
    "-Gyengén tipusos (nem kell dekralálni a vált. tipusát)<br>\n",
    "-szkriptnyelv<br>\n",
    "-objektumorientált<br>\n",
    "-funkcionális azaz a függvényt át lehet adni paraméterként, egy fgv lehet visszatérési értéke egy fgv-nek, értékül lehet adni egy változónak Ez a First Class Citizen<br>\n",
    "-gazdag a belső és külső könyvtárai<br>\n",
    "-népszerű az 1. háromban van most<br>\n",
    "\n",
    "Python alapjai<br>\n",
    "Filenév könyvtárnév bármi lehet, kiterjesztés : .py Nincs blokk utasítás {} helyette behúzás van. Ez sok hiba forrása lehet. Alapértelmezés az 4 szóköz, javasolt kialakítani egy sémát és azt használni. A tipusokat nem kell megadni, meg lehet de a fordito nem veszi figyelembe. Van utasitás lezáró ; de nem kötelező használni. A hello világ legelősször egy C programozás könyvben jelent meg. "
   ]
  },
  {
   "cell_type": "code",
   "execution_count": 1,
   "metadata": {},
   "outputs": [
    {
     "name": "stdout",
     "output_type": "stream",
     "text": [
      "Szia chris!\n"
     ]
    }
   ],
   "source": [
    "nev = input('Mi a neved? ')\n",
    "print('Szia '+ nev + '!') # sztring összefűzés"
   ]
  },
  {
   "cell_type": "code",
   "execution_count": 2,
   "metadata": {},
   "outputs": [
    {
     "name": "stdout",
     "output_type": "stream",
     "text": [
      "Hello világ!\n"
     ]
    }
   ],
   "source": [
    "print('Hello világ!')"
   ]
  },
  {
   "cell_type": "markdown",
   "metadata": {},
   "source": [
    "Megjegyzések<br>\n",
    "Ezeket figyelmen kivul hagyja a fordíto, dokumentációs célra kell használni.<br>\n",
    "Megjegyzés a pythonban : #megjegyzés <br>\n",
    "Többsoros megjegyzés nincs, de van egy trükk a többsoros stringek alkalmazéséval, de ne adjuk érténként."
   ]
  },
  {
   "cell_type": "code",
   "execution_count": null,
   "metadata": {},
   "outputs": [],
   "source": [
    "    \"\"\"\n",
    "    Ez egy több soros megjegyzés első sora\n",
    "    Ez egy több soros megjegyzés második sora\n",
    "    \"\"\""
   ]
  }
 ],
 "metadata": {
  "kernelspec": {
   "display_name": "Python 3.10.5 64-bit",
   "language": "python",
   "name": "python3"
  },
  "language_info": {
   "codemirror_mode": {
    "name": "ipython",
    "version": 3
   },
   "file_extension": ".py",
   "mimetype": "text/x-python",
   "name": "python",
   "nbconvert_exporter": "python",
   "pygments_lexer": "ipython3",
   "version": "3.10.8"
  },
  "orig_nbformat": 4,
  "vscode": {
   "interpreter": {
    "hash": "87b94aab8dd3a663a3aec68f345fa01ed7856442ab6e88e521fff6b30a54006b"
   }
  }
 },
 "nbformat": 4,
 "nbformat_minor": 2
}
