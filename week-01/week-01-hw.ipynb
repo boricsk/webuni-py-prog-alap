{
 "cells": [
  {
   "cell_type": "markdown",
   "metadata": {},
   "source": [
    "<h4>Week 01 Házi Feladat</h4>\n",
    "- A bemutatott példa alapján egy saját kérdés létrehozása<br>\n",
    "- Kérje ba a vezeték nevet és a keresztnevet és irja ki a keljes nevet.<br>"
   ]
  },
  {
   "cell_type": "code",
   "execution_count": 5,
   "metadata": {},
   "outputs": [
    {
     "name": "stdout",
     "output_type": "stream",
     "text": [
      "A válasz helyes, 1990-ben volt a megjelenés.\n"
     ]
    }
   ],
   "source": [
    "valasz = input('Melyik évben jelent meg a Python nyelv? ')\n",
    "if valasz == '1990':\n",
    "    print('A válasz helyes, 1990-ben volt a megjelenés.')\n",
    "else:\n",
    "    print('A válasz helytelen, 1990-ben volt a megjelenés.')"
   ]
  },
  {
   "cell_type": "code",
   "execution_count": 6,
   "metadata": {},
   "outputs": [
    {
     "name": "stdout",
     "output_type": "stream",
     "text": [
      "Igen nagy valószínűséggel a teljes neved :Borics Krisztián\n"
     ]
    }
   ],
   "source": [
    "vezeteknev = input('Kérem a vezetékneved')\n",
    "utonev = input('Kérem az utóneved')\n",
    "print('Igen nagy valószínűséggel a teljes neved : ' + vezeteknev + ' ' + utonev)"
   ]
  }
 ],
 "metadata": {
  "kernelspec": {
   "display_name": "Python 3.10.5 64-bit",
   "language": "python",
   "name": "python3"
  },
  "language_info": {
   "codemirror_mode": {
    "name": "ipython",
    "version": 3
   },
   "file_extension": ".py",
   "mimetype": "text/x-python",
   "name": "python",
   "nbconvert_exporter": "python",
   "pygments_lexer": "ipython3",
   "version": "3.10.5"
  },
  "orig_nbformat": 4,
  "vscode": {
   "interpreter": {
    "hash": "87b94aab8dd3a663a3aec68f345fa01ed7856442ab6e88e521fff6b30a54006b"
   }
  }
 },
 "nbformat": 4,
 "nbformat_minor": 2
}
