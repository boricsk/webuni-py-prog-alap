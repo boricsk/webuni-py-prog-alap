{
 "cells": [
  {
   "cell_type": "markdown",
   "metadata": {},
   "source": [
    "<h3>Könyvtárak</h3>\n",
    "\n",
    "Olyan funkcionalitást valósít meg, amelyett a nyelv alapból nem támogat. Nevei :<br>\n",
    "-könvtár (library)<br>\n",
    "-modul<br>\n",
    "-bővitmény<br>\n",
    "-komponens<br>\n",
    "<br>\n",
    "Három fajtája van : külső, belső és a saját könyvtár. A belső könyvtárak alapból jönnek. A külső könyvtárak szabványos helyről letölthetőek, általában nyilt forráskódúak. Mi magunk is irhatunk külső könyvtárakat.<br>\n",
    "<br>\n",
    "Belső könyvtárak"
   ]
  },
  {
   "cell_type": "code",
   "execution_count": 1,
   "metadata": {},
   "outputs": [
    {
     "name": "stdout",
     "output_type": "stream",
     "text": [
      "6\n",
      "6\n",
      "6\n",
      "6\n",
      "['__doc__', '__loader__', '__name__', '__package__', '__spec__', 'acos', 'acosh', 'asin', 'asinh', 'atan', 'atan2', 'atanh', 'ceil', 'comb', 'copysign', 'cos', 'cosh', 'degrees', 'dist', 'e', 'erf', 'erfc', 'exp', 'expm1', 'fabs', 'factorial', 'floor', 'fmod', 'frexp', 'fsum', 'gamma', 'gcd', 'hypot', 'inf', 'isclose', 'isfinite', 'isinf', 'isnan', 'isqrt', 'lcm', 'ldexp', 'lgamma', 'log', 'log10', 'log1p', 'log2', 'modf', 'nan', 'nextafter', 'perm', 'pi', 'pow', 'prod', 'radians', 'remainder', 'sin', 'sinh', 'sqrt', 'tan', 'tanh', 'tau', 'trunc', 'ulp']\n"
     ]
    }
   ],
   "source": [
    "import math #belső könyvtár hívása\n",
    "print(math.gcd(30,12))\n",
    "\n",
    "#meg lehet adni hogy a math-ból mi töltődjön be (nem kell math.) Olvashatóságot ront.\n",
    "from math import gcd\n",
    "print(gcd(30, 12))\n",
    "\n",
    "#könyvtár átnevezése\n",
    "import math as matek\n",
    "print(matek.gcd(30, 12))\n",
    "\n",
    "#a metódus átnevezese\n",
    "from math import gcd as lnko\n",
    "print(lnko(30,12))\n",
    "\n",
    "#könyvtár tartalmának listázása\n",
    "import math\n",
    "print(dir(math))\n",
    "\n",
    "#importot a program elejére irjuk, és utánna 1 sort kihagyunk."
   ]
  },
  {
   "cell_type": "markdown",
   "metadata": {},
   "source": [
    "Külső könyvtárak<br>\n",
    "Telepítést igényelnek a <i>pip install [könyvtárnév]</i><br>\n",
    "pip install numpy<br>\n",
    "A numpy egy lista kiterjesztés."
   ]
  },
  {
   "cell_type": "code",
   "execution_count": 2,
   "metadata": {},
   "outputs": [
    {
     "name": "stdout",
     "output_type": "stream",
     "text": [
      "[6 8 5]\n"
     ]
    }
   ],
   "source": [
    "import numpy as np\n",
    "tomb1 = np.array([3, 2, 5])\n",
    "tomb2 = np.array([2, 4, 1])\n",
    "print(tomb1 * tomb2)"
   ]
  },
  {
   "cell_type": "markdown",
   "metadata": {},
   "source": [
    "Saját könyvtárak<br>\n",
    "Tipikus, ha egy cégen belül az imétlődő dolgokra alkalmazzuk. Példa, amikor a lebegőpontos számokat használjuk nem tudja egész értékkel számolni bizonyos műveleteket.<br>"
   ]
  },
  {
   "cell_type": "code",
   "execution_count": 3,
   "metadata": {},
   "outputs": [
    {
     "name": "stdout",
     "output_type": "stream",
     "text": [
      "0.30000000000000004\n"
     ]
    }
   ],
   "source": [
    "#példa\n",
    "print(0.1 + 0.2)"
   ]
  },
  {
   "cell_type": "markdown",
   "metadata": {},
   "source": [
    "Az eredmény elég ronda és pontatlan is, ezért kerekíteni kell."
   ]
  },
  {
   "cell_type": "code",
   "execution_count": 5,
   "metadata": {},
   "outputs": [
    {
     "data": {
      "text/plain": [
       "0.3"
      ]
     },
     "execution_count": 5,
     "metadata": {},
     "output_type": "execute_result"
    }
   ],
   "source": [
    "#matek.py\n",
    "def kerekitett_osszeadas(a, b):\n",
    "    c = a + b\n",
    "    if round(c, 6) == round(c, 9):\n",
    "        return round(c, 6)\n",
    "    else:\n",
    "        return c\n",
    "\n",
    "kerekitett_osszeadas(0.1, 0.2)"
   ]
  },
  {
   "cell_type": "markdown",
   "metadata": {},
   "source": [
    "A fenti file egy file-ba kell menteni, és egy másik file-ból be lehet importálni."
   ]
  },
  {
   "cell_type": "code",
   "execution_count": null,
   "metadata": {},
   "outputs": [],
   "source": [
    "import matek\n",
    "print(matek.kerekitett_osszeadas(0.1 + 0.2))\n",
    "assert(matek.kerekitett_osszeadas(0.1 + 0.2)==0.3) #ez megállítja, ha nem 0.3 lesz az eredmény. azt feltételezzük, hogy a program eredménye 0.3 lesz, és ekkor menjen tovább, ez az assert\n",
    "#a saját könyvtárunk meghivása."
   ]
  },
  {
   "cell_type": "code",
   "execution_count": 2,
   "metadata": {},
   "outputs": [],
   "source": [
    "#az assert továbbgondolása a unit teszt, azaz egységtesztelés, azaz meghivunk egy teszt függvényt és összehasonlitjuk az elvárt eredménnyel.\n",
    "import unittest\n",
    "import matek #ez a tesztelendő\n",
    "\n",
    "class MatekTeszt(unittest.TestCase):\n",
    "    #teszt esetek létrehozása\n",
    "    def test_kerekitett_osszead_problema(self):\n",
    "        eredmeny = matek.kerekitett_osszeadas(0.2, 0.1)\n",
    "        self.assertEqual(0.3, eredmeny)\n",
    "    \n",
    "    def test_kerekitett_osszead_problema_nelkul(self):\n",
    "        eredmeny = matek.kerekitett_osszeadas(0.3, 0.2)\n",
    "        self.assertEquals(0.5, eredmeny)\n",
    "        \n",
    "    def test_kerekitett_osszead_egeszre_mukodik(self):\n",
    "        eredmeny = matek.kerekitett_osszeadas(3, 2)\n",
    "        self.assertEquals(5, eredmeny)\n",
    "    \n",
    "    def test_kerekitett_osszead_kerekitessel(self):\n",
    "        eredmeny = matek.kerekitett_osszeadas(0.22222222, 0.11111111)\n",
    "        self.assertEquals(0.33333333, eredmeny)"
   ]
  }
 ],
 "metadata": {
  "kernelspec": {
   "display_name": "Python 3.10.5 64-bit",
   "language": "python",
   "name": "python3"
  },
  "language_info": {
   "codemirror_mode": {
    "name": "ipython",
    "version": 3
   },
   "file_extension": ".py",
   "mimetype": "text/x-python",
   "name": "python",
   "nbconvert_exporter": "python",
   "pygments_lexer": "ipython3",
   "version": "3.10.8"
  },
  "orig_nbformat": 4,
  "vscode": {
   "interpreter": {
    "hash": "87b94aab8dd3a663a3aec68f345fa01ed7856442ab6e88e521fff6b30a54006b"
   }
  }
 },
 "nbformat": 4,
 "nbformat_minor": 2
}
