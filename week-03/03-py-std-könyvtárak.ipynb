{
 "cells": [
  {
   "cell_type": "markdown",
   "metadata": {},
   "source": [
    "<h3>Python standard könyvtárak</h3>\n",
    "<a href=\"https://docs.python.org/\">Python Dokumentációs oldal</a><br>\n",
    "<br>\n",
    "Tutorial, a teljesség igénye nélkül mutatja be a nyelvet.<br>\n",
    "Library Reference, azok a könyvtárak, amelyeket alapból telepít.<br>\n",
    "Language Reference, a Python nyelv definiciója.<br>\n"
   ]
  }
 ],
 "metadata": {
  "kernelspec": {
   "display_name": "Python 3.10.5 64-bit",
   "language": "python",
   "name": "python3"
  },
  "language_info": {
   "name": "python",
   "version": "3.10.8"
  },
  "orig_nbformat": 4,
  "vscode": {
   "interpreter": {
    "hash": "87b94aab8dd3a663a3aec68f345fa01ed7856442ab6e88e521fff6b30a54006b"
   }
  }
 },
 "nbformat": 4,
 "nbformat_minor": 2
}
